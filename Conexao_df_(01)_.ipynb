{
  "nbformat": 4,
  "nbformat_minor": 0,
  "metadata": {
    "colab": {
      "name": "Conexao_df (01) .ipynb",
      "provenance": [],
      "collapsed_sections": [
        "NsQxPvWzw6oF"
      ],
      "include_colab_link": true
    },
    "kernelspec": {
      "name": "python3",
      "display_name": "Python 3"
    }
  },
  "cells": [
    {
      "cell_type": "markdown",
      "metadata": {
        "id": "view-in-github",
        "colab_type": "text"
      },
      "source": [
        "<a href=\"https://colab.research.google.com/github/MariaElisaOliveiraMartins/DS_Analises/blob/main/Conexao_df_(01)_.ipynb\" target=\"_parent\"><img src=\"https://colab.research.google.com/assets/colab-badge.svg\" alt=\"Open In Colab\"/></a>"
      ]
    },
    {
      "cell_type": "markdown",
      "metadata": {
        "id": "t48XzH3XjlGF"
      },
      "source": [
        "# Projeto Olist - Gerando Matriz de Conexões\n",
        "\n",
        "\n",
        "\n",
        "A base de dados utilizada nesta análise foi publicada e obtida pelo Kaggle, a qual foi oferecida pela empresa de e-commerce Olist, como conbribuição à comunidade de Data Science.\n",
        "\n",
        "A modelagem do banco e os metadados estão descritos nos desafios propostos pela Olist dentro do portal do Kaggle.\n",
        "\n"
      ]
    },
    {
      "cell_type": "markdown",
      "metadata": {
        "id": "CMbh-8Tgwo7Q"
      },
      "source": [
        "## Objetivo : gerar um dataframe de conexão contendo os ids de todos os principais dataframes da base da Olist."
      ]
    },
    {
      "cell_type": "markdown",
      "metadata": {
        "id": "LCamCjsS0Pnr"
      },
      "source": [
        "Acesso ao Google Drive"
      ]
    },
    {
      "cell_type": "code",
      "metadata": {
        "id": "MDjan7N1EWP6",
        "outputId": "f0e40431-a13a-4e1a-d4c7-567cf774fcef",
        "colab": {
          "base_uri": "https://localhost:8080/"
        }
      },
      "source": [
        "from google.colab import drive\n",
        "drive.mount('/content/drive')"
      ],
      "execution_count": null,
      "outputs": [
        {
          "output_type": "stream",
          "text": [
            "Mounted at /content/drive\n"
          ],
          "name": "stdout"
        }
      ]
    },
    {
      "cell_type": "markdown",
      "metadata": {
        "id": "vVqGMM4u0bxl"
      },
      "source": [
        "Bibliotecas utilizadas nessa análise"
      ]
    },
    {
      "cell_type": "code",
      "metadata": {
        "id": "6WOp9dKxjjH4"
      },
      "source": [
        "import pandas as pd \n",
        "import numpy as np \n",
        "import seaborn as sbn \n",
        "from matplotlib import pyplot as plt\n"
      ],
      "execution_count": null,
      "outputs": []
    },
    {
      "cell_type": "markdown",
      "metadata": {
        "id": "cPRUE-oO0jpQ"
      },
      "source": [
        "Carga e apresentação dos arquivos"
      ]
    },
    {
      "cell_type": "code",
      "metadata": {
        "id": "5eHPfrVlB_Pf"
      },
      "source": [
        "# Arquivo de Items\n",
        "df_items = pd.read_excel('/content/drive/My Drive/Dados_DS/Dados Olist/olist_order_items_dataset.xlsx')"
      ],
      "execution_count": null,
      "outputs": []
    },
    {
      "cell_type": "code",
      "metadata": {
        "id": "BfS9KG4WFtiP"
      },
      "source": [
        "bkp_items = df_items.copy()"
      ],
      "execution_count": null,
      "outputs": []
    },
    {
      "cell_type": "code",
      "metadata": {
        "id": "QXmYRAwKHoHH"
      },
      "source": [
        "#df_items = bkp_items.copy()"
      ],
      "execution_count": null,
      "outputs": []
    },
    {
      "cell_type": "code",
      "metadata": {
        "id": "DaMxqLBtC1Lv",
        "outputId": "b503671c-ef18-4863-f283-e8602b4f49d6",
        "colab": {
          "base_uri": "https://localhost:8080/"
        }
      },
      "source": [
        "df_items.info()"
      ],
      "execution_count": null,
      "outputs": [
        {
          "output_type": "stream",
          "text": [
            "<class 'pandas.core.frame.DataFrame'>\n",
            "RangeIndex: 112650 entries, 0 to 112649\n",
            "Data columns (total 7 columns):\n",
            " #   Column               Non-Null Count   Dtype         \n",
            "---  ------               --------------   -----         \n",
            " 0   order_id             112650 non-null  object        \n",
            " 1   order_item_id        112650 non-null  int64         \n",
            " 2   product_id           112650 non-null  object        \n",
            " 3   seller_id            112650 non-null  object        \n",
            " 4   shipping_limit_date  112650 non-null  datetime64[ns]\n",
            " 5   price                112650 non-null  float64       \n",
            " 6   freight_value        112650 non-null  float64       \n",
            "dtypes: datetime64[ns](1), float64(2), int64(1), object(3)\n",
            "memory usage: 6.0+ MB\n"
          ],
          "name": "stdout"
        }
      ]
    },
    {
      "cell_type": "code",
      "metadata": {
        "id": "X4yQn9pOya0_",
        "outputId": "e1fabdbe-a2e8-4153-b9d2-115ab433d6e6",
        "colab": {
          "base_uri": "https://localhost:8080/",
          "height": 439
        }
      },
      "source": [
        "df_items"
      ],
      "execution_count": null,
      "outputs": [
        {
          "output_type": "execute_result",
          "data": {
            "text/html": [
              "<div>\n",
              "<style scoped>\n",
              "    .dataframe tbody tr th:only-of-type {\n",
              "        vertical-align: middle;\n",
              "    }\n",
              "\n",
              "    .dataframe tbody tr th {\n",
              "        vertical-align: top;\n",
              "    }\n",
              "\n",
              "    .dataframe thead th {\n",
              "        text-align: right;\n",
              "    }\n",
              "</style>\n",
              "<table border=\"1\" class=\"dataframe\">\n",
              "  <thead>\n",
              "    <tr style=\"text-align: right;\">\n",
              "      <th></th>\n",
              "      <th>order_id</th>\n",
              "      <th>order_item_id</th>\n",
              "      <th>product_id</th>\n",
              "      <th>seller_id</th>\n",
              "      <th>shipping_limit_date</th>\n",
              "      <th>price</th>\n",
              "      <th>freight_value</th>\n",
              "    </tr>\n",
              "  </thead>\n",
              "  <tbody>\n",
              "    <tr>\n",
              "      <th>0</th>\n",
              "      <td>7f39ba4c9052be115350065d07583cac</td>\n",
              "      <td>1</td>\n",
              "      <td>a2ff5a97bf95719e38ea2e3b4105bce8</td>\n",
              "      <td>0015a82c2db000af6aaaf3ae2ecb0532</td>\n",
              "      <td>2017-10-24 23:56:20</td>\n",
              "      <td>895.0</td>\n",
              "      <td>21.02</td>\n",
              "    </tr>\n",
              "    <tr>\n",
              "      <th>1</th>\n",
              "      <td>9dc8d1a6f16f1b89874c29c9d8d30447</td>\n",
              "      <td>1</td>\n",
              "      <td>a2ff5a97bf95719e38ea2e3b4105bce8</td>\n",
              "      <td>0015a82c2db000af6aaaf3ae2ecb0532</td>\n",
              "      <td>2017-10-18 14:49:22</td>\n",
              "      <td>895.0</td>\n",
              "      <td>21.02</td>\n",
              "    </tr>\n",
              "    <tr>\n",
              "      <th>2</th>\n",
              "      <td>d455a8cb295653b55abda06d434ab492</td>\n",
              "      <td>1</td>\n",
              "      <td>a2ff5a97bf95719e38ea2e3b4105bce8</td>\n",
              "      <td>0015a82c2db000af6aaaf3ae2ecb0532</td>\n",
              "      <td>2017-10-12 22:24:16</td>\n",
              "      <td>895.0</td>\n",
              "      <td>21.02</td>\n",
              "    </tr>\n",
              "    <tr>\n",
              "      <th>3</th>\n",
              "      <td>006e43460a55bc60c0a437521e426529</td>\n",
              "      <td>1</td>\n",
              "      <td>08574b074924071f4e201e151b152b4e</td>\n",
              "      <td>001cca7ae9ae17fb1caed9dfb1094831</td>\n",
              "      <td>2017-05-17 01:30:22</td>\n",
              "      <td>99.0</td>\n",
              "      <td>43.06</td>\n",
              "    </tr>\n",
              "    <tr>\n",
              "      <th>4</th>\n",
              "      <td>00dfb074b5c910fbd08e04691c4b712f</td>\n",
              "      <td>1</td>\n",
              "      <td>4f3b83b83f7fb280fca4f90ba502f50e</td>\n",
              "      <td>001cca7ae9ae17fb1caed9dfb1094831</td>\n",
              "      <td>2017-06-19 19:55:19</td>\n",
              "      <td>99.5</td>\n",
              "      <td>35.07</td>\n",
              "    </tr>\n",
              "    <tr>\n",
              "      <th>...</th>\n",
              "      <td>...</td>\n",
              "      <td>...</td>\n",
              "      <td>...</td>\n",
              "      <td>...</td>\n",
              "      <td>...</td>\n",
              "      <td>...</td>\n",
              "      <td>...</td>\n",
              "    </tr>\n",
              "    <tr>\n",
              "      <th>112645</th>\n",
              "      <td>d01c5b46e00bd214519fe9f64bbb2649</td>\n",
              "      <td>1</td>\n",
              "      <td>96aca2f53bcaed6f466449f7fb18ae75</td>\n",
              "      <td>ffff564a4f9085cd26170f4732393726</td>\n",
              "      <td>2017-03-17 20:30:13</td>\n",
              "      <td>79.0</td>\n",
              "      <td>14.72</td>\n",
              "    </tr>\n",
              "    <tr>\n",
              "      <th>112646</th>\n",
              "      <td>d437ec1ece70f3e35d2695adfeb8a272</td>\n",
              "      <td>1</td>\n",
              "      <td>8f7a3322e1abfed89ac080b0f7364779</td>\n",
              "      <td>ffff564a4f9085cd26170f4732393726</td>\n",
              "      <td>2017-03-27 13:32:46</td>\n",
              "      <td>52.5</td>\n",
              "      <td>18.96</td>\n",
              "    </tr>\n",
              "    <tr>\n",
              "      <th>112647</th>\n",
              "      <td>d815bd2c2bdd79e4c0e0263caa986d66</td>\n",
              "      <td>1</td>\n",
              "      <td>8f7a3322e1abfed89ac080b0f7364779</td>\n",
              "      <td>ffff564a4f9085cd26170f4732393726</td>\n",
              "      <td>2017-03-29 10:30:17</td>\n",
              "      <td>52.5</td>\n",
              "      <td>17.11</td>\n",
              "    </tr>\n",
              "    <tr>\n",
              "      <th>112648</th>\n",
              "      <td>df537c849af44beef86a7ef7de12126a</td>\n",
              "      <td>1</td>\n",
              "      <td>dbd024d4182504993ad1e3cd2ee9d9e9</td>\n",
              "      <td>ffff564a4f9085cd26170f4732393726</td>\n",
              "      <td>2017-01-29 21:48:41</td>\n",
              "      <td>29.4</td>\n",
              "      <td>10.96</td>\n",
              "    </tr>\n",
              "    <tr>\n",
              "      <th>112649</th>\n",
              "      <td>fdb3ef83ea6f7bef7d13bdd9b38da661</td>\n",
              "      <td>1</td>\n",
              "      <td>cb17b798ba889575385281b7ec2fc22b</td>\n",
              "      <td>ffff564a4f9085cd26170f4732393726</td>\n",
              "      <td>2017-01-27 21:09:40</td>\n",
              "      <td>109.2</td>\n",
              "      <td>13.34</td>\n",
              "    </tr>\n",
              "  </tbody>\n",
              "</table>\n",
              "<p>112650 rows × 7 columns</p>\n",
              "</div>"
            ],
            "text/plain": [
              "                                order_id  order_item_id  ...  price freight_value\n",
              "0       7f39ba4c9052be115350065d07583cac              1  ...  895.0         21.02\n",
              "1       9dc8d1a6f16f1b89874c29c9d8d30447              1  ...  895.0         21.02\n",
              "2       d455a8cb295653b55abda06d434ab492              1  ...  895.0         21.02\n",
              "3       006e43460a55bc60c0a437521e426529              1  ...   99.0         43.06\n",
              "4       00dfb074b5c910fbd08e04691c4b712f              1  ...   99.5         35.07\n",
              "...                                  ...            ...  ...    ...           ...\n",
              "112645  d01c5b46e00bd214519fe9f64bbb2649              1  ...   79.0         14.72\n",
              "112646  d437ec1ece70f3e35d2695adfeb8a272              1  ...   52.5         18.96\n",
              "112647  d815bd2c2bdd79e4c0e0263caa986d66              1  ...   52.5         17.11\n",
              "112648  df537c849af44beef86a7ef7de12126a              1  ...   29.4         10.96\n",
              "112649  fdb3ef83ea6f7bef7d13bdd9b38da661              1  ...  109.2         13.34\n",
              "\n",
              "[112650 rows x 7 columns]"
            ]
          },
          "metadata": {
            "tags": []
          },
          "execution_count": 10
        }
      ]
    },
    {
      "cell_type": "code",
      "metadata": {
        "id": "pNXTHAJSLtXp",
        "outputId": "0d72e628-e450-46d4-d430-6294a25f7cd1",
        "colab": {
          "base_uri": "https://localhost:8080/"
        }
      },
      "source": [
        "df_items['order_item_id'].value_counts() "
      ],
      "execution_count": null,
      "outputs": [
        {
          "output_type": "execute_result",
          "data": {
            "text/plain": [
              "1     98666\n",
              "2      9803\n",
              "3      2287\n",
              "4       965\n",
              "5       460\n",
              "6       256\n",
              "7        58\n",
              "8        36\n",
              "9        28\n",
              "10       25\n",
              "11       17\n",
              "12       13\n",
              "13        8\n",
              "14        7\n",
              "15        5\n",
              "20        3\n",
              "16        3\n",
              "17        3\n",
              "18        3\n",
              "19        3\n",
              "21        1\n",
              "Name: order_item_id, dtype: int64"
            ]
          },
          "metadata": {
            "tags": []
          },
          "execution_count": 11
        }
      ]
    },
    {
      "cell_type": "code",
      "metadata": {
        "id": "aeaielZrqKK2",
        "outputId": "64084acf-732d-4686-cb79-6b2a7ce2cf72",
        "colab": {
          "base_uri": "https://localhost:8080/",
          "height": 100
        }
      },
      "source": [
        "df_items[(df_items['order_item_id'] == 21)]"
      ],
      "execution_count": null,
      "outputs": [
        {
          "output_type": "execute_result",
          "data": {
            "text/html": [
              "<div>\n",
              "<style scoped>\n",
              "    .dataframe tbody tr th:only-of-type {\n",
              "        vertical-align: middle;\n",
              "    }\n",
              "\n",
              "    .dataframe tbody tr th {\n",
              "        vertical-align: top;\n",
              "    }\n",
              "\n",
              "    .dataframe thead th {\n",
              "        text-align: right;\n",
              "    }\n",
              "</style>\n",
              "<table border=\"1\" class=\"dataframe\">\n",
              "  <thead>\n",
              "    <tr style=\"text-align: right;\">\n",
              "      <th></th>\n",
              "      <th>order_id</th>\n",
              "      <th>order_item_id</th>\n",
              "      <th>product_id</th>\n",
              "      <th>seller_id</th>\n",
              "      <th>shipping_limit_date</th>\n",
              "      <th>price</th>\n",
              "      <th>freight_value</th>\n",
              "    </tr>\n",
              "  </thead>\n",
              "  <tbody>\n",
              "    <tr>\n",
              "      <th>19789</th>\n",
              "      <td>8272b63d03f5f79c56e9e4120aec44ef</td>\n",
              "      <td>21</td>\n",
              "      <td>79ce45dbc2ea29b22b5a261bbb7b7ee7</td>\n",
              "      <td>2709af9587499e95e803a6498a5a56e9</td>\n",
              "      <td>2017-07-21 18:25:23</td>\n",
              "      <td>7.8</td>\n",
              "      <td>6.57</td>\n",
              "    </tr>\n",
              "  </tbody>\n",
              "</table>\n",
              "</div>"
            ],
            "text/plain": [
              "                               order_id  order_item_id  ... price freight_value\n",
              "19789  8272b63d03f5f79c56e9e4120aec44ef             21  ...   7.8          6.57\n",
              "\n",
              "[1 rows x 7 columns]"
            ]
          },
          "metadata": {
            "tags": []
          },
          "execution_count": 12
        }
      ]
    },
    {
      "cell_type": "code",
      "metadata": {
        "id": "Xs_LZHQUzBti",
        "outputId": "ad3b0cfa-2a0f-442b-8717-281f2940dc1d",
        "colab": {
          "base_uri": "https://localhost:8080/",
          "height": 35
        }
      },
      "source": [
        "linha = df_items[(df_items['order_item_id'] == 21)]\n",
        "nro_pedido = linha.iloc[0,0]\n",
        "nro_pedido"
      ],
      "execution_count": null,
      "outputs": [
        {
          "output_type": "execute_result",
          "data": {
            "application/vnd.google.colaboratory.intrinsic+json": {
              "type": "string"
            },
            "text/plain": [
              "'8272b63d03f5f79c56e9e4120aec44ef'"
            ]
          },
          "metadata": {
            "tags": []
          },
          "execution_count": 13
        }
      ]
    },
    {
      "cell_type": "code",
      "metadata": {
        "id": "EPqxPHStEUJF",
        "outputId": "cc392254-3692-47e2-865d-e30e2a95c10c",
        "colab": {
          "base_uri": "https://localhost:8080/",
          "height": 720
        }
      },
      "source": [
        "df_lista_itens = df_items[df_items['order_id'] == nro_pedido]\n",
        "df_lista_itens"
      ],
      "execution_count": null,
      "outputs": [
        {
          "output_type": "execute_result",
          "data": {
            "text/html": [
              "<div>\n",
              "<style scoped>\n",
              "    .dataframe tbody tr th:only-of-type {\n",
              "        vertical-align: middle;\n",
              "    }\n",
              "\n",
              "    .dataframe tbody tr th {\n",
              "        vertical-align: top;\n",
              "    }\n",
              "\n",
              "    .dataframe thead th {\n",
              "        text-align: right;\n",
              "    }\n",
              "</style>\n",
              "<table border=\"1\" class=\"dataframe\">\n",
              "  <thead>\n",
              "    <tr style=\"text-align: right;\">\n",
              "      <th></th>\n",
              "      <th>order_id</th>\n",
              "      <th>order_item_id</th>\n",
              "      <th>product_id</th>\n",
              "      <th>seller_id</th>\n",
              "      <th>shipping_limit_date</th>\n",
              "      <th>price</th>\n",
              "      <th>freight_value</th>\n",
              "    </tr>\n",
              "  </thead>\n",
              "  <tbody>\n",
              "    <tr>\n",
              "      <th>19769</th>\n",
              "      <td>8272b63d03f5f79c56e9e4120aec44ef</td>\n",
              "      <td>1</td>\n",
              "      <td>270516a3f41dc035aa87d220228f844c</td>\n",
              "      <td>2709af9587499e95e803a6498a5a56e9</td>\n",
              "      <td>2017-07-21 18:25:23</td>\n",
              "      <td>1.2</td>\n",
              "      <td>7.89</td>\n",
              "    </tr>\n",
              "    <tr>\n",
              "      <th>19770</th>\n",
              "      <td>8272b63d03f5f79c56e9e4120aec44ef</td>\n",
              "      <td>2</td>\n",
              "      <td>05b515fdc76e888aada3c6d66c201dff</td>\n",
              "      <td>2709af9587499e95e803a6498a5a56e9</td>\n",
              "      <td>2017-07-21 18:25:23</td>\n",
              "      <td>1.2</td>\n",
              "      <td>7.89</td>\n",
              "    </tr>\n",
              "    <tr>\n",
              "      <th>19771</th>\n",
              "      <td>8272b63d03f5f79c56e9e4120aec44ef</td>\n",
              "      <td>3</td>\n",
              "      <td>05b515fdc76e888aada3c6d66c201dff</td>\n",
              "      <td>2709af9587499e95e803a6498a5a56e9</td>\n",
              "      <td>2017-07-21 18:25:23</td>\n",
              "      <td>1.2</td>\n",
              "      <td>7.89</td>\n",
              "    </tr>\n",
              "    <tr>\n",
              "      <th>19772</th>\n",
              "      <td>8272b63d03f5f79c56e9e4120aec44ef</td>\n",
              "      <td>4</td>\n",
              "      <td>05b515fdc76e888aada3c6d66c201dff</td>\n",
              "      <td>2709af9587499e95e803a6498a5a56e9</td>\n",
              "      <td>2017-07-21 18:25:23</td>\n",
              "      <td>1.2</td>\n",
              "      <td>7.89</td>\n",
              "    </tr>\n",
              "    <tr>\n",
              "      <th>19773</th>\n",
              "      <td>8272b63d03f5f79c56e9e4120aec44ef</td>\n",
              "      <td>5</td>\n",
              "      <td>05b515fdc76e888aada3c6d66c201dff</td>\n",
              "      <td>2709af9587499e95e803a6498a5a56e9</td>\n",
              "      <td>2017-07-21 18:25:23</td>\n",
              "      <td>1.2</td>\n",
              "      <td>7.89</td>\n",
              "    </tr>\n",
              "    <tr>\n",
              "      <th>19774</th>\n",
              "      <td>8272b63d03f5f79c56e9e4120aec44ef</td>\n",
              "      <td>6</td>\n",
              "      <td>05b515fdc76e888aada3c6d66c201dff</td>\n",
              "      <td>2709af9587499e95e803a6498a5a56e9</td>\n",
              "      <td>2017-07-21 18:25:23</td>\n",
              "      <td>1.2</td>\n",
              "      <td>7.89</td>\n",
              "    </tr>\n",
              "    <tr>\n",
              "      <th>19775</th>\n",
              "      <td>8272b63d03f5f79c56e9e4120aec44ef</td>\n",
              "      <td>7</td>\n",
              "      <td>05b515fdc76e888aada3c6d66c201dff</td>\n",
              "      <td>2709af9587499e95e803a6498a5a56e9</td>\n",
              "      <td>2017-07-21 18:25:23</td>\n",
              "      <td>1.2</td>\n",
              "      <td>7.89</td>\n",
              "    </tr>\n",
              "    <tr>\n",
              "      <th>19776</th>\n",
              "      <td>8272b63d03f5f79c56e9e4120aec44ef</td>\n",
              "      <td>8</td>\n",
              "      <td>05b515fdc76e888aada3c6d66c201dff</td>\n",
              "      <td>2709af9587499e95e803a6498a5a56e9</td>\n",
              "      <td>2017-07-21 18:25:23</td>\n",
              "      <td>1.2</td>\n",
              "      <td>7.89</td>\n",
              "    </tr>\n",
              "    <tr>\n",
              "      <th>19777</th>\n",
              "      <td>8272b63d03f5f79c56e9e4120aec44ef</td>\n",
              "      <td>9</td>\n",
              "      <td>05b515fdc76e888aada3c6d66c201dff</td>\n",
              "      <td>2709af9587499e95e803a6498a5a56e9</td>\n",
              "      <td>2017-07-21 18:25:23</td>\n",
              "      <td>1.2</td>\n",
              "      <td>7.89</td>\n",
              "    </tr>\n",
              "    <tr>\n",
              "      <th>19778</th>\n",
              "      <td>8272b63d03f5f79c56e9e4120aec44ef</td>\n",
              "      <td>10</td>\n",
              "      <td>05b515fdc76e888aada3c6d66c201dff</td>\n",
              "      <td>2709af9587499e95e803a6498a5a56e9</td>\n",
              "      <td>2017-07-21 18:25:23</td>\n",
              "      <td>1.2</td>\n",
              "      <td>7.89</td>\n",
              "    </tr>\n",
              "    <tr>\n",
              "      <th>19779</th>\n",
              "      <td>8272b63d03f5f79c56e9e4120aec44ef</td>\n",
              "      <td>11</td>\n",
              "      <td>05b515fdc76e888aada3c6d66c201dff</td>\n",
              "      <td>2709af9587499e95e803a6498a5a56e9</td>\n",
              "      <td>2017-07-21 18:25:23</td>\n",
              "      <td>1.2</td>\n",
              "      <td>7.89</td>\n",
              "    </tr>\n",
              "    <tr>\n",
              "      <th>19780</th>\n",
              "      <td>8272b63d03f5f79c56e9e4120aec44ef</td>\n",
              "      <td>12</td>\n",
              "      <td>270516a3f41dc035aa87d220228f844c</td>\n",
              "      <td>2709af9587499e95e803a6498a5a56e9</td>\n",
              "      <td>2017-07-21 18:25:23</td>\n",
              "      <td>1.2</td>\n",
              "      <td>7.89</td>\n",
              "    </tr>\n",
              "    <tr>\n",
              "      <th>19781</th>\n",
              "      <td>8272b63d03f5f79c56e9e4120aec44ef</td>\n",
              "      <td>13</td>\n",
              "      <td>270516a3f41dc035aa87d220228f844c</td>\n",
              "      <td>2709af9587499e95e803a6498a5a56e9</td>\n",
              "      <td>2017-07-21 18:25:23</td>\n",
              "      <td>1.2</td>\n",
              "      <td>7.89</td>\n",
              "    </tr>\n",
              "    <tr>\n",
              "      <th>19782</th>\n",
              "      <td>8272b63d03f5f79c56e9e4120aec44ef</td>\n",
              "      <td>14</td>\n",
              "      <td>270516a3f41dc035aa87d220228f844c</td>\n",
              "      <td>2709af9587499e95e803a6498a5a56e9</td>\n",
              "      <td>2017-07-21 18:25:23</td>\n",
              "      <td>1.2</td>\n",
              "      <td>7.89</td>\n",
              "    </tr>\n",
              "    <tr>\n",
              "      <th>19783</th>\n",
              "      <td>8272b63d03f5f79c56e9e4120aec44ef</td>\n",
              "      <td>15</td>\n",
              "      <td>270516a3f41dc035aa87d220228f844c</td>\n",
              "      <td>2709af9587499e95e803a6498a5a56e9</td>\n",
              "      <td>2017-07-21 18:25:23</td>\n",
              "      <td>1.2</td>\n",
              "      <td>7.89</td>\n",
              "    </tr>\n",
              "    <tr>\n",
              "      <th>19784</th>\n",
              "      <td>8272b63d03f5f79c56e9e4120aec44ef</td>\n",
              "      <td>16</td>\n",
              "      <td>270516a3f41dc035aa87d220228f844c</td>\n",
              "      <td>2709af9587499e95e803a6498a5a56e9</td>\n",
              "      <td>2017-07-21 18:25:23</td>\n",
              "      <td>1.2</td>\n",
              "      <td>7.89</td>\n",
              "    </tr>\n",
              "    <tr>\n",
              "      <th>19785</th>\n",
              "      <td>8272b63d03f5f79c56e9e4120aec44ef</td>\n",
              "      <td>17</td>\n",
              "      <td>270516a3f41dc035aa87d220228f844c</td>\n",
              "      <td>2709af9587499e95e803a6498a5a56e9</td>\n",
              "      <td>2017-07-21 18:25:23</td>\n",
              "      <td>1.2</td>\n",
              "      <td>7.89</td>\n",
              "    </tr>\n",
              "    <tr>\n",
              "      <th>19786</th>\n",
              "      <td>8272b63d03f5f79c56e9e4120aec44ef</td>\n",
              "      <td>18</td>\n",
              "      <td>270516a3f41dc035aa87d220228f844c</td>\n",
              "      <td>2709af9587499e95e803a6498a5a56e9</td>\n",
              "      <td>2017-07-21 18:25:23</td>\n",
              "      <td>1.2</td>\n",
              "      <td>7.89</td>\n",
              "    </tr>\n",
              "    <tr>\n",
              "      <th>19787</th>\n",
              "      <td>8272b63d03f5f79c56e9e4120aec44ef</td>\n",
              "      <td>19</td>\n",
              "      <td>270516a3f41dc035aa87d220228f844c</td>\n",
              "      <td>2709af9587499e95e803a6498a5a56e9</td>\n",
              "      <td>2017-07-21 18:25:23</td>\n",
              "      <td>1.2</td>\n",
              "      <td>7.89</td>\n",
              "    </tr>\n",
              "    <tr>\n",
              "      <th>19788</th>\n",
              "      <td>8272b63d03f5f79c56e9e4120aec44ef</td>\n",
              "      <td>20</td>\n",
              "      <td>270516a3f41dc035aa87d220228f844c</td>\n",
              "      <td>2709af9587499e95e803a6498a5a56e9</td>\n",
              "      <td>2017-07-21 18:25:23</td>\n",
              "      <td>1.2</td>\n",
              "      <td>7.89</td>\n",
              "    </tr>\n",
              "    <tr>\n",
              "      <th>19789</th>\n",
              "      <td>8272b63d03f5f79c56e9e4120aec44ef</td>\n",
              "      <td>21</td>\n",
              "      <td>79ce45dbc2ea29b22b5a261bbb7b7ee7</td>\n",
              "      <td>2709af9587499e95e803a6498a5a56e9</td>\n",
              "      <td>2017-07-21 18:25:23</td>\n",
              "      <td>7.8</td>\n",
              "      <td>6.57</td>\n",
              "    </tr>\n",
              "  </tbody>\n",
              "</table>\n",
              "</div>"
            ],
            "text/plain": [
              "                               order_id  order_item_id  ... price freight_value\n",
              "19769  8272b63d03f5f79c56e9e4120aec44ef              1  ...   1.2          7.89\n",
              "19770  8272b63d03f5f79c56e9e4120aec44ef              2  ...   1.2          7.89\n",
              "19771  8272b63d03f5f79c56e9e4120aec44ef              3  ...   1.2          7.89\n",
              "19772  8272b63d03f5f79c56e9e4120aec44ef              4  ...   1.2          7.89\n",
              "19773  8272b63d03f5f79c56e9e4120aec44ef              5  ...   1.2          7.89\n",
              "19774  8272b63d03f5f79c56e9e4120aec44ef              6  ...   1.2          7.89\n",
              "19775  8272b63d03f5f79c56e9e4120aec44ef              7  ...   1.2          7.89\n",
              "19776  8272b63d03f5f79c56e9e4120aec44ef              8  ...   1.2          7.89\n",
              "19777  8272b63d03f5f79c56e9e4120aec44ef              9  ...   1.2          7.89\n",
              "19778  8272b63d03f5f79c56e9e4120aec44ef             10  ...   1.2          7.89\n",
              "19779  8272b63d03f5f79c56e9e4120aec44ef             11  ...   1.2          7.89\n",
              "19780  8272b63d03f5f79c56e9e4120aec44ef             12  ...   1.2          7.89\n",
              "19781  8272b63d03f5f79c56e9e4120aec44ef             13  ...   1.2          7.89\n",
              "19782  8272b63d03f5f79c56e9e4120aec44ef             14  ...   1.2          7.89\n",
              "19783  8272b63d03f5f79c56e9e4120aec44ef             15  ...   1.2          7.89\n",
              "19784  8272b63d03f5f79c56e9e4120aec44ef             16  ...   1.2          7.89\n",
              "19785  8272b63d03f5f79c56e9e4120aec44ef             17  ...   1.2          7.89\n",
              "19786  8272b63d03f5f79c56e9e4120aec44ef             18  ...   1.2          7.89\n",
              "19787  8272b63d03f5f79c56e9e4120aec44ef             19  ...   1.2          7.89\n",
              "19788  8272b63d03f5f79c56e9e4120aec44ef             20  ...   1.2          7.89\n",
              "19789  8272b63d03f5f79c56e9e4120aec44ef             21  ...   7.8          6.57\n",
              "\n",
              "[21 rows x 7 columns]"
            ]
          },
          "metadata": {
            "tags": []
          },
          "execution_count": 14
        }
      ]
    },
    {
      "cell_type": "code",
      "metadata": {
        "id": "kt8sT0CeFkH2",
        "outputId": "57116d7a-33b2-46c8-a32f-ce123bb5f1bd",
        "colab": {
          "base_uri": "https://localhost:8080/"
        }
      },
      "source": [
        "df_lista_itens['product_id'].value_counts()"
      ],
      "execution_count": null,
      "outputs": [
        {
          "output_type": "execute_result",
          "data": {
            "text/plain": [
              "05b515fdc76e888aada3c6d66c201dff    10\n",
              "270516a3f41dc035aa87d220228f844c    10\n",
              "79ce45dbc2ea29b22b5a261bbb7b7ee7     1\n",
              "Name: product_id, dtype: int64"
            ]
          },
          "metadata": {
            "tags": []
          },
          "execution_count": 15
        }
      ]
    },
    {
      "cell_type": "code",
      "metadata": {
        "id": "HHNB763NPmuM",
        "outputId": "c5194a73-c0f1-47b3-a61f-98b3a62bc62f",
        "colab": {
          "base_uri": "https://localhost:8080/"
        }
      },
      "source": [
        "df_lista_itens['seller_id'].value_counts()"
      ],
      "execution_count": null,
      "outputs": [
        {
          "output_type": "execute_result",
          "data": {
            "text/plain": [
              "2709af9587499e95e803a6498a5a56e9    21\n",
              "Name: seller_id, dtype: int64"
            ]
          },
          "metadata": {
            "tags": []
          },
          "execution_count": 16
        }
      ]
    },
    {
      "cell_type": "code",
      "metadata": {
        "id": "CfzJ0998dWaV",
        "outputId": "a7e781b9-4b11-4bb0-b1ac-bf12e44a20a7",
        "colab": {
          "base_uri": "https://localhost:8080/"
        }
      },
      "source": [
        "df_items['order_id'].value_counts()"
      ],
      "execution_count": null,
      "outputs": [
        {
          "output_type": "execute_result",
          "data": {
            "text/plain": [
              "8272b63d03f5f79c56e9e4120aec44ef    21\n",
              "ab14fdcfbe524636d65ee38360e22ce8    20\n",
              "1b15974a0141d54e36626dca3fdc731a    20\n",
              "428a2f660dc84138d969ccd69a0ab6d5    15\n",
              "9ef13efd6949e4573a18964dd1bbe7f5    15\n",
              "                                    ..\n",
              "eb61a98487395d9b7a135acd3d6905a5     1\n",
              "7b1b657e9cd1e1d807d0b89c08431139     1\n",
              "ce70855bb79f7086da0e4974f7324ac1     1\n",
              "a19b529d70b6aa8addb01c2721350ba3     1\n",
              "f18f5dcedf8a6caf530bf0cad9937b4f     1\n",
              "Name: order_id, Length: 98666, dtype: int64"
            ]
          },
          "metadata": {
            "tags": []
          },
          "execution_count": 17
        }
      ]
    },
    {
      "cell_type": "code",
      "metadata": {
        "id": "GGHYmUka4nSd",
        "outputId": "b8d968ee-0716-4a66-f010-bddeab7d368d",
        "colab": {
          "base_uri": "https://localhost:8080/",
          "height": 419
        }
      },
      "source": [
        "df_qtde_itens_X_pedido = pd.DataFrame(df_items['order_id'].value_counts())\n",
        "df_qtde_itens = df_qtde_itens_X_pedido[df_qtde_itens_X_pedido['order_id'] > 1]\n",
        "df_qtde_itens"
      ],
      "execution_count": null,
      "outputs": [
        {
          "output_type": "execute_result",
          "data": {
            "text/html": [
              "<div>\n",
              "<style scoped>\n",
              "    .dataframe tbody tr th:only-of-type {\n",
              "        vertical-align: middle;\n",
              "    }\n",
              "\n",
              "    .dataframe tbody tr th {\n",
              "        vertical-align: top;\n",
              "    }\n",
              "\n",
              "    .dataframe thead th {\n",
              "        text-align: right;\n",
              "    }\n",
              "</style>\n",
              "<table border=\"1\" class=\"dataframe\">\n",
              "  <thead>\n",
              "    <tr style=\"text-align: right;\">\n",
              "      <th></th>\n",
              "      <th>order_id</th>\n",
              "    </tr>\n",
              "  </thead>\n",
              "  <tbody>\n",
              "    <tr>\n",
              "      <th>8272b63d03f5f79c56e9e4120aec44ef</th>\n",
              "      <td>21</td>\n",
              "    </tr>\n",
              "    <tr>\n",
              "      <th>ab14fdcfbe524636d65ee38360e22ce8</th>\n",
              "      <td>20</td>\n",
              "    </tr>\n",
              "    <tr>\n",
              "      <th>1b15974a0141d54e36626dca3fdc731a</th>\n",
              "      <td>20</td>\n",
              "    </tr>\n",
              "    <tr>\n",
              "      <th>428a2f660dc84138d969ccd69a0ab6d5</th>\n",
              "      <td>15</td>\n",
              "    </tr>\n",
              "    <tr>\n",
              "      <th>9ef13efd6949e4573a18964dd1bbe7f5</th>\n",
              "      <td>15</td>\n",
              "    </tr>\n",
              "    <tr>\n",
              "      <th>...</th>\n",
              "      <td>...</td>\n",
              "    </tr>\n",
              "    <tr>\n",
              "      <th>83ca3ab77b87118d0a71a84ddfc9e31e</th>\n",
              "      <td>2</td>\n",
              "    </tr>\n",
              "    <tr>\n",
              "      <th>687b6310118e5776dd599634c9dc51fc</th>\n",
              "      <td>2</td>\n",
              "    </tr>\n",
              "    <tr>\n",
              "      <th>9bcae940b24680a6ca263ec7ffb30ccb</th>\n",
              "      <td>2</td>\n",
              "    </tr>\n",
              "    <tr>\n",
              "      <th>f4fdb235ce7c1f7d3eb1b2fdd3a4f610</th>\n",
              "      <td>2</td>\n",
              "    </tr>\n",
              "    <tr>\n",
              "      <th>fa37c4d7efdb58513147c124a078bc54</th>\n",
              "      <td>2</td>\n",
              "    </tr>\n",
              "  </tbody>\n",
              "</table>\n",
              "<p>9803 rows × 1 columns</p>\n",
              "</div>"
            ],
            "text/plain": [
              "                                  order_id\n",
              "8272b63d03f5f79c56e9e4120aec44ef        21\n",
              "ab14fdcfbe524636d65ee38360e22ce8        20\n",
              "1b15974a0141d54e36626dca3fdc731a        20\n",
              "428a2f660dc84138d969ccd69a0ab6d5        15\n",
              "9ef13efd6949e4573a18964dd1bbe7f5        15\n",
              "...                                    ...\n",
              "83ca3ab77b87118d0a71a84ddfc9e31e         2\n",
              "687b6310118e5776dd599634c9dc51fc         2\n",
              "9bcae940b24680a6ca263ec7ffb30ccb         2\n",
              "f4fdb235ce7c1f7d3eb1b2fdd3a4f610         2\n",
              "fa37c4d7efdb58513147c124a078bc54         2\n",
              "\n",
              "[9803 rows x 1 columns]"
            ]
          },
          "metadata": {
            "tags": []
          },
          "execution_count": 18
        }
      ]
    },
    {
      "cell_type": "markdown",
      "metadata": {
        "id": "MMgKVGeLJ9av"
      },
      "source": [
        "Inicio área de teste:"
      ]
    },
    {
      "cell_type": "code",
      "metadata": {
        "id": "dFqFCOLAMaJq",
        "outputId": "9cd4d4ee-e13c-450c-f6e5-268408c6d08e",
        "colab": {
          "base_uri": "https://localhost:8080/"
        }
      },
      "source": [
        "lista_pedidos = df_qtde_itens.index\n",
        "lista_pedidos "
      ],
      "execution_count": null,
      "outputs": [
        {
          "output_type": "execute_result",
          "data": {
            "text/plain": [
              "Index(['8272b63d03f5f79c56e9e4120aec44ef', 'ab14fdcfbe524636d65ee38360e22ce8',\n",
              "       '1b15974a0141d54e36626dca3fdc731a', '428a2f660dc84138d969ccd69a0ab6d5',\n",
              "       '9ef13efd6949e4573a18964dd1bbe7f5', '73c8ab38f07dc94389065f7eba4f297a',\n",
              "       '9bdc4d4c71aa1de4606060929dee888c', '37ee401157a3a0b28c9c6d0ed8c3b24b',\n",
              "       'af822dacd6f5cff7376413c03a388bb7', '3a213fcdfe7d98be74ea0dc05a8b31ae',\n",
              "       ...\n",
              "       '04ee5eeac980a849efb5ac99abf87259', 'eef98923f3fe58345e2aa0ff71f97bd7',\n",
              "       '466fa6875c92ccd8425b0a91a8d1a771', '54c4c0c7e9a1d272defcf15ea985bef7',\n",
              "       'd744f890bf27c2aa635c5d82b2ca0c8a', '83ca3ab77b87118d0a71a84ddfc9e31e',\n",
              "       '687b6310118e5776dd599634c9dc51fc', '9bcae940b24680a6ca263ec7ffb30ccb',\n",
              "       'f4fdb235ce7c1f7d3eb1b2fdd3a4f610', 'fa37c4d7efdb58513147c124a078bc54'],\n",
              "      dtype='object', length=9803)"
            ]
          },
          "metadata": {
            "tags": []
          },
          "execution_count": 19
        }
      ]
    },
    {
      "cell_type": "code",
      "metadata": {
        "id": "cHVlfhZrwhFe",
        "outputId": "6b0a4c9e-28d9-4b73-edc4-ec8caa1b3f1e",
        "colab": {
          "base_uri": "https://localhost:8080/"
        }
      },
      "source": [
        "######\n",
        "\n",
        "lins = {}\n",
        "cols = df_items.columns\n",
        "df_aux = pd.DataFrame(lins, columns=cols)\n",
        "\n",
        "for id_ped in lista_pedidos:\n",
        "\n",
        "  df_rascunho = df_items.loc[df_items['order_id'] == id_ped]\n",
        "  #print(df_rascunho.info)\n",
        "  df_lista_prod = pd.DataFrame(df_rascunho['product_id'].value_counts())\n",
        "  df_rascunho['order_item_id'] = 0  \n",
        "  df_rascunho = df_rascunho.drop_duplicates() \n",
        "  \n",
        "  for id_prod in df_lista_prod.index:\n",
        "    df_rascunho['order_item_id'] = df_lista_prod.values\n",
        " \n",
        "  df_aux = df_aux.append(df_rascunho)\n",
        "  #print(df_aux.shape) \n",
        "\n",
        "######"
      ],
      "execution_count": null,
      "outputs": [
        {
          "output_type": "stream",
          "text": [
            "/usr/local/lib/python3.6/dist-packages/ipykernel_launcher.py:12: SettingWithCopyWarning: \n",
            "A value is trying to be set on a copy of a slice from a DataFrame.\n",
            "Try using .loc[row_indexer,col_indexer] = value instead\n",
            "\n",
            "See the caveats in the documentation: https://pandas.pydata.org/pandas-docs/stable/user_guide/indexing.html#returning-a-view-versus-a-copy\n",
            "  if sys.path[0] == '':\n"
          ],
          "name": "stderr"
        }
      ]
    },
    {
      "cell_type": "code",
      "metadata": {
        "id": "a4jJHvCfDqt6",
        "outputId": "3325405c-c3de-4d24-cb27-5a14c3b23d3b",
        "colab": {
          "base_uri": "https://localhost:8080/",
          "height": 439
        }
      },
      "source": [
        "df_aux"
      ],
      "execution_count": null,
      "outputs": [
        {
          "output_type": "execute_result",
          "data": {
            "text/html": [
              "<div>\n",
              "<style scoped>\n",
              "    .dataframe tbody tr th:only-of-type {\n",
              "        vertical-align: middle;\n",
              "    }\n",
              "\n",
              "    .dataframe tbody tr th {\n",
              "        vertical-align: top;\n",
              "    }\n",
              "\n",
              "    .dataframe thead th {\n",
              "        text-align: right;\n",
              "    }\n",
              "</style>\n",
              "<table border=\"1\" class=\"dataframe\">\n",
              "  <thead>\n",
              "    <tr style=\"text-align: right;\">\n",
              "      <th></th>\n",
              "      <th>order_id</th>\n",
              "      <th>order_item_id</th>\n",
              "      <th>product_id</th>\n",
              "      <th>seller_id</th>\n",
              "      <th>shipping_limit_date</th>\n",
              "      <th>price</th>\n",
              "      <th>freight_value</th>\n",
              "    </tr>\n",
              "  </thead>\n",
              "  <tbody>\n",
              "    <tr>\n",
              "      <th>19769</th>\n",
              "      <td>8272b63d03f5f79c56e9e4120aec44ef</td>\n",
              "      <td>10</td>\n",
              "      <td>270516a3f41dc035aa87d220228f844c</td>\n",
              "      <td>2709af9587499e95e803a6498a5a56e9</td>\n",
              "      <td>2017-07-21 18:25:23</td>\n",
              "      <td>1.20</td>\n",
              "      <td>7.89</td>\n",
              "    </tr>\n",
              "    <tr>\n",
              "      <th>19770</th>\n",
              "      <td>8272b63d03f5f79c56e9e4120aec44ef</td>\n",
              "      <td>10</td>\n",
              "      <td>05b515fdc76e888aada3c6d66c201dff</td>\n",
              "      <td>2709af9587499e95e803a6498a5a56e9</td>\n",
              "      <td>2017-07-21 18:25:23</td>\n",
              "      <td>1.20</td>\n",
              "      <td>7.89</td>\n",
              "    </tr>\n",
              "    <tr>\n",
              "      <th>19789</th>\n",
              "      <td>8272b63d03f5f79c56e9e4120aec44ef</td>\n",
              "      <td>1</td>\n",
              "      <td>79ce45dbc2ea29b22b5a261bbb7b7ee7</td>\n",
              "      <td>2709af9587499e95e803a6498a5a56e9</td>\n",
              "      <td>2017-07-21 18:25:23</td>\n",
              "      <td>7.80</td>\n",
              "      <td>6.57</td>\n",
              "    </tr>\n",
              "    <tr>\n",
              "      <th>91148</th>\n",
              "      <td>ab14fdcfbe524636d65ee38360e22ce8</td>\n",
              "      <td>20</td>\n",
              "      <td>9571759451b1d780ee7c15012ea109d4</td>\n",
              "      <td>ce27a3cc3c8cc1ea79d11e561e9bebb6</td>\n",
              "      <td>2017-08-30 14:30:23</td>\n",
              "      <td>98.70</td>\n",
              "      <td>14.44</td>\n",
              "    </tr>\n",
              "    <tr>\n",
              "      <th>68460</th>\n",
              "      <td>1b15974a0141d54e36626dca3fdc731a</td>\n",
              "      <td>20</td>\n",
              "      <td>ee3d532c8a438679776d222e997606b3</td>\n",
              "      <td>8e6d7754bc7e0f22c96d255ebda59eba</td>\n",
              "      <td>2018-03-01 02:50:48</td>\n",
              "      <td>100.00</td>\n",
              "      <td>10.12</td>\n",
              "    </tr>\n",
              "    <tr>\n",
              "      <th>...</th>\n",
              "      <td>...</td>\n",
              "      <td>...</td>\n",
              "      <td>...</td>\n",
              "      <td>...</td>\n",
              "      <td>...</td>\n",
              "      <td>...</td>\n",
              "      <td>...</td>\n",
              "    </tr>\n",
              "    <tr>\n",
              "      <th>13122</th>\n",
              "      <td>9bcae940b24680a6ca263ec7ffb30ccb</td>\n",
              "      <td>1</td>\n",
              "      <td>9d0bb30eed80184666c8acad23921283</td>\n",
              "      <td>1bb2bdb95f4841f1bba2c0d2cd83d3c9</td>\n",
              "      <td>2018-02-27 03:31:17</td>\n",
              "      <td>19.95</td>\n",
              "      <td>3.35</td>\n",
              "    </tr>\n",
              "    <tr>\n",
              "      <th>13123</th>\n",
              "      <td>9bcae940b24680a6ca263ec7ffb30ccb</td>\n",
              "      <td>1</td>\n",
              "      <td>b3cf0a98f31b76ed0cec13d9c77102c4</td>\n",
              "      <td>1bb2bdb95f4841f1bba2c0d2cd83d3c9</td>\n",
              "      <td>2018-02-27 03:31:17</td>\n",
              "      <td>27.93</td>\n",
              "      <td>26.84</td>\n",
              "    </tr>\n",
              "    <tr>\n",
              "      <th>296</th>\n",
              "      <td>f4fdb235ce7c1f7d3eb1b2fdd3a4f610</td>\n",
              "      <td>1</td>\n",
              "      <td>158102fe543dbaeb84d87811bfe06d0d</td>\n",
              "      <td>002100f778ceb8431b7a1020ff7ab48f</td>\n",
              "      <td>2017-11-03 13:07:28</td>\n",
              "      <td>17.90</td>\n",
              "      <td>15.10</td>\n",
              "    </tr>\n",
              "    <tr>\n",
              "      <th>297</th>\n",
              "      <td>f4fdb235ce7c1f7d3eb1b2fdd3a4f610</td>\n",
              "      <td>1</td>\n",
              "      <td>414c53fa9c5cc4a0390682aeb2e25ec1</td>\n",
              "      <td>002100f778ceb8431b7a1020ff7ab48f</td>\n",
              "      <td>2017-11-03 13:07:28</td>\n",
              "      <td>17.90</td>\n",
              "      <td>15.10</td>\n",
              "    </tr>\n",
              "    <tr>\n",
              "      <th>86246</th>\n",
              "      <td>fa37c4d7efdb58513147c124a078bc54</td>\n",
              "      <td>2</td>\n",
              "      <td>5e53af05c040b01584b81b3549945faf</td>\n",
              "      <td>c8467937e403e76a8ee9f0ab13f6f5ef</td>\n",
              "      <td>2018-03-29 02:10:47</td>\n",
              "      <td>31.90</td>\n",
              "      <td>15.20</td>\n",
              "    </tr>\n",
              "  </tbody>\n",
              "</table>\n",
              "<p>13562 rows × 7 columns</p>\n",
              "</div>"
            ],
            "text/plain": [
              "                               order_id order_item_id  ...   price freight_value\n",
              "19769  8272b63d03f5f79c56e9e4120aec44ef            10  ...    1.20          7.89\n",
              "19770  8272b63d03f5f79c56e9e4120aec44ef            10  ...    1.20          7.89\n",
              "19789  8272b63d03f5f79c56e9e4120aec44ef             1  ...    7.80          6.57\n",
              "91148  ab14fdcfbe524636d65ee38360e22ce8            20  ...   98.70         14.44\n",
              "68460  1b15974a0141d54e36626dca3fdc731a            20  ...  100.00         10.12\n",
              "...                                 ...           ...  ...     ...           ...\n",
              "13122  9bcae940b24680a6ca263ec7ffb30ccb             1  ...   19.95          3.35\n",
              "13123  9bcae940b24680a6ca263ec7ffb30ccb             1  ...   27.93         26.84\n",
              "296    f4fdb235ce7c1f7d3eb1b2fdd3a4f610             1  ...   17.90         15.10\n",
              "297    f4fdb235ce7c1f7d3eb1b2fdd3a4f610             1  ...   17.90         15.10\n",
              "86246  fa37c4d7efdb58513147c124a078bc54             2  ...   31.90         15.20\n",
              "\n",
              "[13562 rows x 7 columns]"
            ]
          },
          "metadata": {
            "tags": []
          },
          "execution_count": 21
        }
      ]
    },
    {
      "cell_type": "code",
      "metadata": {
        "id": "wcdGweejL_ZS",
        "outputId": "3dd0b191-3247-4221-a49a-850b34b9507f",
        "colab": {
          "base_uri": "https://localhost:8080/",
          "height": 419
        }
      },
      "source": [
        "df_qtde_itens_X_pedido"
      ],
      "execution_count": null,
      "outputs": [
        {
          "output_type": "execute_result",
          "data": {
            "text/html": [
              "<div>\n",
              "<style scoped>\n",
              "    .dataframe tbody tr th:only-of-type {\n",
              "        vertical-align: middle;\n",
              "    }\n",
              "\n",
              "    .dataframe tbody tr th {\n",
              "        vertical-align: top;\n",
              "    }\n",
              "\n",
              "    .dataframe thead th {\n",
              "        text-align: right;\n",
              "    }\n",
              "</style>\n",
              "<table border=\"1\" class=\"dataframe\">\n",
              "  <thead>\n",
              "    <tr style=\"text-align: right;\">\n",
              "      <th></th>\n",
              "      <th>order_id</th>\n",
              "    </tr>\n",
              "  </thead>\n",
              "  <tbody>\n",
              "    <tr>\n",
              "      <th>8272b63d03f5f79c56e9e4120aec44ef</th>\n",
              "      <td>21</td>\n",
              "    </tr>\n",
              "    <tr>\n",
              "      <th>ab14fdcfbe524636d65ee38360e22ce8</th>\n",
              "      <td>20</td>\n",
              "    </tr>\n",
              "    <tr>\n",
              "      <th>1b15974a0141d54e36626dca3fdc731a</th>\n",
              "      <td>20</td>\n",
              "    </tr>\n",
              "    <tr>\n",
              "      <th>428a2f660dc84138d969ccd69a0ab6d5</th>\n",
              "      <td>15</td>\n",
              "    </tr>\n",
              "    <tr>\n",
              "      <th>9ef13efd6949e4573a18964dd1bbe7f5</th>\n",
              "      <td>15</td>\n",
              "    </tr>\n",
              "    <tr>\n",
              "      <th>...</th>\n",
              "      <td>...</td>\n",
              "    </tr>\n",
              "    <tr>\n",
              "      <th>eb61a98487395d9b7a135acd3d6905a5</th>\n",
              "      <td>1</td>\n",
              "    </tr>\n",
              "    <tr>\n",
              "      <th>7b1b657e9cd1e1d807d0b89c08431139</th>\n",
              "      <td>1</td>\n",
              "    </tr>\n",
              "    <tr>\n",
              "      <th>ce70855bb79f7086da0e4974f7324ac1</th>\n",
              "      <td>1</td>\n",
              "    </tr>\n",
              "    <tr>\n",
              "      <th>a19b529d70b6aa8addb01c2721350ba3</th>\n",
              "      <td>1</td>\n",
              "    </tr>\n",
              "    <tr>\n",
              "      <th>f18f5dcedf8a6caf530bf0cad9937b4f</th>\n",
              "      <td>1</td>\n",
              "    </tr>\n",
              "  </tbody>\n",
              "</table>\n",
              "<p>98666 rows × 1 columns</p>\n",
              "</div>"
            ],
            "text/plain": [
              "                                  order_id\n",
              "8272b63d03f5f79c56e9e4120aec44ef        21\n",
              "ab14fdcfbe524636d65ee38360e22ce8        20\n",
              "1b15974a0141d54e36626dca3fdc731a        20\n",
              "428a2f660dc84138d969ccd69a0ab6d5        15\n",
              "9ef13efd6949e4573a18964dd1bbe7f5        15\n",
              "...                                    ...\n",
              "eb61a98487395d9b7a135acd3d6905a5         1\n",
              "7b1b657e9cd1e1d807d0b89c08431139         1\n",
              "ce70855bb79f7086da0e4974f7324ac1         1\n",
              "a19b529d70b6aa8addb01c2721350ba3         1\n",
              "f18f5dcedf8a6caf530bf0cad9937b4f         1\n",
              "\n",
              "[98666 rows x 1 columns]"
            ]
          },
          "metadata": {
            "tags": []
          },
          "execution_count": 22
        }
      ]
    },
    {
      "cell_type": "code",
      "metadata": {
        "id": "6JUoo8_KKOWU",
        "outputId": "e681414f-2da9-4e1f-f4d4-9fa2871629f1",
        "colab": {
          "base_uri": "https://localhost:8080/",
          "height": 419
        }
      },
      "source": [
        "lst_itens_unicos = df_qtde_itens_X_pedido[df_qtde_itens_X_pedido['order_id'] == 1]\n",
        "lst_itens_unicos"
      ],
      "execution_count": null,
      "outputs": [
        {
          "output_type": "execute_result",
          "data": {
            "text/html": [
              "<div>\n",
              "<style scoped>\n",
              "    .dataframe tbody tr th:only-of-type {\n",
              "        vertical-align: middle;\n",
              "    }\n",
              "\n",
              "    .dataframe tbody tr th {\n",
              "        vertical-align: top;\n",
              "    }\n",
              "\n",
              "    .dataframe thead th {\n",
              "        text-align: right;\n",
              "    }\n",
              "</style>\n",
              "<table border=\"1\" class=\"dataframe\">\n",
              "  <thead>\n",
              "    <tr style=\"text-align: right;\">\n",
              "      <th></th>\n",
              "      <th>order_id</th>\n",
              "    </tr>\n",
              "  </thead>\n",
              "  <tbody>\n",
              "    <tr>\n",
              "      <th>e006227af733ca3bcba32f5577afd6d6</th>\n",
              "      <td>1</td>\n",
              "    </tr>\n",
              "    <tr>\n",
              "      <th>b65f0508b5b5fa22d363a4e5f2462553</th>\n",
              "      <td>1</td>\n",
              "    </tr>\n",
              "    <tr>\n",
              "      <th>8f9db38034b12eea6ef545d8071c249e</th>\n",
              "      <td>1</td>\n",
              "    </tr>\n",
              "    <tr>\n",
              "      <th>258dc8334fda68e1474385c00298c877</th>\n",
              "      <td>1</td>\n",
              "    </tr>\n",
              "    <tr>\n",
              "      <th>ac9c563c1293db37e4a035f8ee3763db</th>\n",
              "      <td>1</td>\n",
              "    </tr>\n",
              "    <tr>\n",
              "      <th>...</th>\n",
              "      <td>...</td>\n",
              "    </tr>\n",
              "    <tr>\n",
              "      <th>eb61a98487395d9b7a135acd3d6905a5</th>\n",
              "      <td>1</td>\n",
              "    </tr>\n",
              "    <tr>\n",
              "      <th>7b1b657e9cd1e1d807d0b89c08431139</th>\n",
              "      <td>1</td>\n",
              "    </tr>\n",
              "    <tr>\n",
              "      <th>ce70855bb79f7086da0e4974f7324ac1</th>\n",
              "      <td>1</td>\n",
              "    </tr>\n",
              "    <tr>\n",
              "      <th>a19b529d70b6aa8addb01c2721350ba3</th>\n",
              "      <td>1</td>\n",
              "    </tr>\n",
              "    <tr>\n",
              "      <th>f18f5dcedf8a6caf530bf0cad9937b4f</th>\n",
              "      <td>1</td>\n",
              "    </tr>\n",
              "  </tbody>\n",
              "</table>\n",
              "<p>88863 rows × 1 columns</p>\n",
              "</div>"
            ],
            "text/plain": [
              "                                  order_id\n",
              "e006227af733ca3bcba32f5577afd6d6         1\n",
              "b65f0508b5b5fa22d363a4e5f2462553         1\n",
              "8f9db38034b12eea6ef545d8071c249e         1\n",
              "258dc8334fda68e1474385c00298c877         1\n",
              "ac9c563c1293db37e4a035f8ee3763db         1\n",
              "...                                    ...\n",
              "eb61a98487395d9b7a135acd3d6905a5         1\n",
              "7b1b657e9cd1e1d807d0b89c08431139         1\n",
              "ce70855bb79f7086da0e4974f7324ac1         1\n",
              "a19b529d70b6aa8addb01c2721350ba3         1\n",
              "f18f5dcedf8a6caf530bf0cad9937b4f         1\n",
              "\n",
              "[88863 rows x 1 columns]"
            ]
          },
          "metadata": {
            "tags": []
          },
          "execution_count": 27
        }
      ]
    },
    {
      "cell_type": "code",
      "metadata": {
        "id": "drCGMbYWOsY2"
      },
      "source": [
        "lins = {}\n",
        "cols = df_items.columns\n",
        "df_result = pd.DataFrame(lins, columns=cols)\n",
        "\n",
        "for id_ped in lst_itens_unicos:\n",
        "  df_result = df_items.loc[df_items['order_id'] == id_ped]\n",
        "\n",
        "df_result = df_result.append(df_aux)  \n"
      ],
      "execution_count": null,
      "outputs": []
    },
    {
      "cell_type": "code",
      "metadata": {
        "id": "bWIJGKVsQC1-",
        "outputId": "8d18774c-04e0-4a5e-e8f0-8334c772bc31",
        "colab": {
          "base_uri": "https://localhost:8080/"
        }
      },
      "source": [
        "df_result.shape"
      ],
      "execution_count": null,
      "outputs": [
        {
          "output_type": "execute_result",
          "data": {
            "text/plain": [
              "(13562, 7)"
            ]
          },
          "metadata": {
            "tags": []
          },
          "execution_count": 29
        }
      ]
    },
    {
      "cell_type": "code",
      "metadata": {
        "id": "0624m83OQIvj",
        "outputId": "870c4b9e-684c-49a6-d1ba-1010c9a1ff49",
        "colab": {
          "base_uri": "https://localhost:8080/",
          "height": 224
        }
      },
      "source": [
        "df_result.head()"
      ],
      "execution_count": null,
      "outputs": [
        {
          "output_type": "execute_result",
          "data": {
            "text/html": [
              "<div>\n",
              "<style scoped>\n",
              "    .dataframe tbody tr th:only-of-type {\n",
              "        vertical-align: middle;\n",
              "    }\n",
              "\n",
              "    .dataframe tbody tr th {\n",
              "        vertical-align: top;\n",
              "    }\n",
              "\n",
              "    .dataframe thead th {\n",
              "        text-align: right;\n",
              "    }\n",
              "</style>\n",
              "<table border=\"1\" class=\"dataframe\">\n",
              "  <thead>\n",
              "    <tr style=\"text-align: right;\">\n",
              "      <th></th>\n",
              "      <th>order_id</th>\n",
              "      <th>order_item_id</th>\n",
              "      <th>product_id</th>\n",
              "      <th>seller_id</th>\n",
              "      <th>shipping_limit_date</th>\n",
              "      <th>price</th>\n",
              "      <th>freight_value</th>\n",
              "    </tr>\n",
              "  </thead>\n",
              "  <tbody>\n",
              "    <tr>\n",
              "      <th>19769</th>\n",
              "      <td>8272b63d03f5f79c56e9e4120aec44ef</td>\n",
              "      <td>10</td>\n",
              "      <td>270516a3f41dc035aa87d220228f844c</td>\n",
              "      <td>2709af9587499e95e803a6498a5a56e9</td>\n",
              "      <td>2017-07-21 18:25:23</td>\n",
              "      <td>1.2</td>\n",
              "      <td>7.89</td>\n",
              "    </tr>\n",
              "    <tr>\n",
              "      <th>19770</th>\n",
              "      <td>8272b63d03f5f79c56e9e4120aec44ef</td>\n",
              "      <td>10</td>\n",
              "      <td>05b515fdc76e888aada3c6d66c201dff</td>\n",
              "      <td>2709af9587499e95e803a6498a5a56e9</td>\n",
              "      <td>2017-07-21 18:25:23</td>\n",
              "      <td>1.2</td>\n",
              "      <td>7.89</td>\n",
              "    </tr>\n",
              "    <tr>\n",
              "      <th>19789</th>\n",
              "      <td>8272b63d03f5f79c56e9e4120aec44ef</td>\n",
              "      <td>1</td>\n",
              "      <td>79ce45dbc2ea29b22b5a261bbb7b7ee7</td>\n",
              "      <td>2709af9587499e95e803a6498a5a56e9</td>\n",
              "      <td>2017-07-21 18:25:23</td>\n",
              "      <td>7.8</td>\n",
              "      <td>6.57</td>\n",
              "    </tr>\n",
              "    <tr>\n",
              "      <th>91148</th>\n",
              "      <td>ab14fdcfbe524636d65ee38360e22ce8</td>\n",
              "      <td>20</td>\n",
              "      <td>9571759451b1d780ee7c15012ea109d4</td>\n",
              "      <td>ce27a3cc3c8cc1ea79d11e561e9bebb6</td>\n",
              "      <td>2017-08-30 14:30:23</td>\n",
              "      <td>98.7</td>\n",
              "      <td>14.44</td>\n",
              "    </tr>\n",
              "    <tr>\n",
              "      <th>68460</th>\n",
              "      <td>1b15974a0141d54e36626dca3fdc731a</td>\n",
              "      <td>20</td>\n",
              "      <td>ee3d532c8a438679776d222e997606b3</td>\n",
              "      <td>8e6d7754bc7e0f22c96d255ebda59eba</td>\n",
              "      <td>2018-03-01 02:50:48</td>\n",
              "      <td>100.0</td>\n",
              "      <td>10.12</td>\n",
              "    </tr>\n",
              "  </tbody>\n",
              "</table>\n",
              "</div>"
            ],
            "text/plain": [
              "                               order_id order_item_id  ...  price freight_value\n",
              "19769  8272b63d03f5f79c56e9e4120aec44ef            10  ...    1.2          7.89\n",
              "19770  8272b63d03f5f79c56e9e4120aec44ef            10  ...    1.2          7.89\n",
              "19789  8272b63d03f5f79c56e9e4120aec44ef             1  ...    7.8          6.57\n",
              "91148  ab14fdcfbe524636d65ee38360e22ce8            20  ...   98.7         14.44\n",
              "68460  1b15974a0141d54e36626dca3fdc731a            20  ...  100.0         10.12\n",
              "\n",
              "[5 rows x 7 columns]"
            ]
          },
          "metadata": {
            "tags": []
          },
          "execution_count": 30
        }
      ]
    },
    {
      "cell_type": "code",
      "metadata": {
        "id": "hb7NmGtxQMvj",
        "outputId": "e5a6728c-3ed3-4e0a-bdf0-8d6f4b55134d",
        "colab": {
          "base_uri": "https://localhost:8080/",
          "height": 224
        }
      },
      "source": [
        "df_result.tail()"
      ],
      "execution_count": null,
      "outputs": [
        {
          "output_type": "execute_result",
          "data": {
            "text/html": [
              "<div>\n",
              "<style scoped>\n",
              "    .dataframe tbody tr th:only-of-type {\n",
              "        vertical-align: middle;\n",
              "    }\n",
              "\n",
              "    .dataframe tbody tr th {\n",
              "        vertical-align: top;\n",
              "    }\n",
              "\n",
              "    .dataframe thead th {\n",
              "        text-align: right;\n",
              "    }\n",
              "</style>\n",
              "<table border=\"1\" class=\"dataframe\">\n",
              "  <thead>\n",
              "    <tr style=\"text-align: right;\">\n",
              "      <th></th>\n",
              "      <th>order_id</th>\n",
              "      <th>order_item_id</th>\n",
              "      <th>product_id</th>\n",
              "      <th>seller_id</th>\n",
              "      <th>shipping_limit_date</th>\n",
              "      <th>price</th>\n",
              "      <th>freight_value</th>\n",
              "    </tr>\n",
              "  </thead>\n",
              "  <tbody>\n",
              "    <tr>\n",
              "      <th>13122</th>\n",
              "      <td>9bcae940b24680a6ca263ec7ffb30ccb</td>\n",
              "      <td>1</td>\n",
              "      <td>9d0bb30eed80184666c8acad23921283</td>\n",
              "      <td>1bb2bdb95f4841f1bba2c0d2cd83d3c9</td>\n",
              "      <td>2018-02-27 03:31:17</td>\n",
              "      <td>19.95</td>\n",
              "      <td>3.35</td>\n",
              "    </tr>\n",
              "    <tr>\n",
              "      <th>13123</th>\n",
              "      <td>9bcae940b24680a6ca263ec7ffb30ccb</td>\n",
              "      <td>1</td>\n",
              "      <td>b3cf0a98f31b76ed0cec13d9c77102c4</td>\n",
              "      <td>1bb2bdb95f4841f1bba2c0d2cd83d3c9</td>\n",
              "      <td>2018-02-27 03:31:17</td>\n",
              "      <td>27.93</td>\n",
              "      <td>26.84</td>\n",
              "    </tr>\n",
              "    <tr>\n",
              "      <th>296</th>\n",
              "      <td>f4fdb235ce7c1f7d3eb1b2fdd3a4f610</td>\n",
              "      <td>1</td>\n",
              "      <td>158102fe543dbaeb84d87811bfe06d0d</td>\n",
              "      <td>002100f778ceb8431b7a1020ff7ab48f</td>\n",
              "      <td>2017-11-03 13:07:28</td>\n",
              "      <td>17.90</td>\n",
              "      <td>15.10</td>\n",
              "    </tr>\n",
              "    <tr>\n",
              "      <th>297</th>\n",
              "      <td>f4fdb235ce7c1f7d3eb1b2fdd3a4f610</td>\n",
              "      <td>1</td>\n",
              "      <td>414c53fa9c5cc4a0390682aeb2e25ec1</td>\n",
              "      <td>002100f778ceb8431b7a1020ff7ab48f</td>\n",
              "      <td>2017-11-03 13:07:28</td>\n",
              "      <td>17.90</td>\n",
              "      <td>15.10</td>\n",
              "    </tr>\n",
              "    <tr>\n",
              "      <th>86246</th>\n",
              "      <td>fa37c4d7efdb58513147c124a078bc54</td>\n",
              "      <td>2</td>\n",
              "      <td>5e53af05c040b01584b81b3549945faf</td>\n",
              "      <td>c8467937e403e76a8ee9f0ab13f6f5ef</td>\n",
              "      <td>2018-03-29 02:10:47</td>\n",
              "      <td>31.90</td>\n",
              "      <td>15.20</td>\n",
              "    </tr>\n",
              "  </tbody>\n",
              "</table>\n",
              "</div>"
            ],
            "text/plain": [
              "                               order_id order_item_id  ...  price freight_value\n",
              "13122  9bcae940b24680a6ca263ec7ffb30ccb             1  ...  19.95          3.35\n",
              "13123  9bcae940b24680a6ca263ec7ffb30ccb             1  ...  27.93         26.84\n",
              "296    f4fdb235ce7c1f7d3eb1b2fdd3a4f610             1  ...  17.90         15.10\n",
              "297    f4fdb235ce7c1f7d3eb1b2fdd3a4f610             1  ...  17.90         15.10\n",
              "86246  fa37c4d7efdb58513147c124a078bc54             2  ...  31.90         15.20\n",
              "\n",
              "[5 rows x 7 columns]"
            ]
          },
          "metadata": {
            "tags": []
          },
          "execution_count": 31
        }
      ]
    },
    {
      "cell_type": "code",
      "metadata": {
        "id": "p2ABlqoaQmiv"
      },
      "source": [
        "new_names = {'order_id':'ID_PEDIDO', 'order_item_id':'QTD_PROD', 'product_id':'ID_PRODUTOS', 'seller_id':'ID_VENDEDOR', \\\n",
        "             'shipping_limit_date':'DT_LIMITE_ENTREGA', 'price':'VL_PROD', 'freight_value':'VL_FRETE'}\n",
        "df_result.rename(columns=new_names, inplace=True)"
      ],
      "execution_count": null,
      "outputs": []
    },
    {
      "cell_type": "code",
      "metadata": {
        "id": "5ZZmO0A_UAfY",
        "outputId": "7ccf13cd-cca7-4289-9b5b-66af2a3aaf0b",
        "colab": {
          "base_uri": "https://localhost:8080/",
          "height": 439
        }
      },
      "source": [
        "df_result"
      ],
      "execution_count": null,
      "outputs": [
        {
          "output_type": "execute_result",
          "data": {
            "text/html": [
              "<div>\n",
              "<style scoped>\n",
              "    .dataframe tbody tr th:only-of-type {\n",
              "        vertical-align: middle;\n",
              "    }\n",
              "\n",
              "    .dataframe tbody tr th {\n",
              "        vertical-align: top;\n",
              "    }\n",
              "\n",
              "    .dataframe thead th {\n",
              "        text-align: right;\n",
              "    }\n",
              "</style>\n",
              "<table border=\"1\" class=\"dataframe\">\n",
              "  <thead>\n",
              "    <tr style=\"text-align: right;\">\n",
              "      <th></th>\n",
              "      <th>ID_PEDIDO</th>\n",
              "      <th>QTD_ITENS</th>\n",
              "      <th>ID_PRODUTOS</th>\n",
              "      <th>ID_VENDEDOR</th>\n",
              "      <th>DT_LIMITE_ENTREGA</th>\n",
              "      <th>VL_PROD</th>\n",
              "      <th>VL_FRETE</th>\n",
              "    </tr>\n",
              "  </thead>\n",
              "  <tbody>\n",
              "    <tr>\n",
              "      <th>19769</th>\n",
              "      <td>8272b63d03f5f79c56e9e4120aec44ef</td>\n",
              "      <td>10</td>\n",
              "      <td>270516a3f41dc035aa87d220228f844c</td>\n",
              "      <td>2709af9587499e95e803a6498a5a56e9</td>\n",
              "      <td>2017-07-21 18:25:23</td>\n",
              "      <td>1.20</td>\n",
              "      <td>7.89</td>\n",
              "    </tr>\n",
              "    <tr>\n",
              "      <th>19770</th>\n",
              "      <td>8272b63d03f5f79c56e9e4120aec44ef</td>\n",
              "      <td>10</td>\n",
              "      <td>05b515fdc76e888aada3c6d66c201dff</td>\n",
              "      <td>2709af9587499e95e803a6498a5a56e9</td>\n",
              "      <td>2017-07-21 18:25:23</td>\n",
              "      <td>1.20</td>\n",
              "      <td>7.89</td>\n",
              "    </tr>\n",
              "    <tr>\n",
              "      <th>19789</th>\n",
              "      <td>8272b63d03f5f79c56e9e4120aec44ef</td>\n",
              "      <td>1</td>\n",
              "      <td>79ce45dbc2ea29b22b5a261bbb7b7ee7</td>\n",
              "      <td>2709af9587499e95e803a6498a5a56e9</td>\n",
              "      <td>2017-07-21 18:25:23</td>\n",
              "      <td>7.80</td>\n",
              "      <td>6.57</td>\n",
              "    </tr>\n",
              "    <tr>\n",
              "      <th>91148</th>\n",
              "      <td>ab14fdcfbe524636d65ee38360e22ce8</td>\n",
              "      <td>20</td>\n",
              "      <td>9571759451b1d780ee7c15012ea109d4</td>\n",
              "      <td>ce27a3cc3c8cc1ea79d11e561e9bebb6</td>\n",
              "      <td>2017-08-30 14:30:23</td>\n",
              "      <td>98.70</td>\n",
              "      <td>14.44</td>\n",
              "    </tr>\n",
              "    <tr>\n",
              "      <th>68460</th>\n",
              "      <td>1b15974a0141d54e36626dca3fdc731a</td>\n",
              "      <td>20</td>\n",
              "      <td>ee3d532c8a438679776d222e997606b3</td>\n",
              "      <td>8e6d7754bc7e0f22c96d255ebda59eba</td>\n",
              "      <td>2018-03-01 02:50:48</td>\n",
              "      <td>100.00</td>\n",
              "      <td>10.12</td>\n",
              "    </tr>\n",
              "    <tr>\n",
              "      <th>...</th>\n",
              "      <td>...</td>\n",
              "      <td>...</td>\n",
              "      <td>...</td>\n",
              "      <td>...</td>\n",
              "      <td>...</td>\n",
              "      <td>...</td>\n",
              "      <td>...</td>\n",
              "    </tr>\n",
              "    <tr>\n",
              "      <th>13122</th>\n",
              "      <td>9bcae940b24680a6ca263ec7ffb30ccb</td>\n",
              "      <td>1</td>\n",
              "      <td>9d0bb30eed80184666c8acad23921283</td>\n",
              "      <td>1bb2bdb95f4841f1bba2c0d2cd83d3c9</td>\n",
              "      <td>2018-02-27 03:31:17</td>\n",
              "      <td>19.95</td>\n",
              "      <td>3.35</td>\n",
              "    </tr>\n",
              "    <tr>\n",
              "      <th>13123</th>\n",
              "      <td>9bcae940b24680a6ca263ec7ffb30ccb</td>\n",
              "      <td>1</td>\n",
              "      <td>b3cf0a98f31b76ed0cec13d9c77102c4</td>\n",
              "      <td>1bb2bdb95f4841f1bba2c0d2cd83d3c9</td>\n",
              "      <td>2018-02-27 03:31:17</td>\n",
              "      <td>27.93</td>\n",
              "      <td>26.84</td>\n",
              "    </tr>\n",
              "    <tr>\n",
              "      <th>296</th>\n",
              "      <td>f4fdb235ce7c1f7d3eb1b2fdd3a4f610</td>\n",
              "      <td>1</td>\n",
              "      <td>158102fe543dbaeb84d87811bfe06d0d</td>\n",
              "      <td>002100f778ceb8431b7a1020ff7ab48f</td>\n",
              "      <td>2017-11-03 13:07:28</td>\n",
              "      <td>17.90</td>\n",
              "      <td>15.10</td>\n",
              "    </tr>\n",
              "    <tr>\n",
              "      <th>297</th>\n",
              "      <td>f4fdb235ce7c1f7d3eb1b2fdd3a4f610</td>\n",
              "      <td>1</td>\n",
              "      <td>414c53fa9c5cc4a0390682aeb2e25ec1</td>\n",
              "      <td>002100f778ceb8431b7a1020ff7ab48f</td>\n",
              "      <td>2017-11-03 13:07:28</td>\n",
              "      <td>17.90</td>\n",
              "      <td>15.10</td>\n",
              "    </tr>\n",
              "    <tr>\n",
              "      <th>86246</th>\n",
              "      <td>fa37c4d7efdb58513147c124a078bc54</td>\n",
              "      <td>2</td>\n",
              "      <td>5e53af05c040b01584b81b3549945faf</td>\n",
              "      <td>c8467937e403e76a8ee9f0ab13f6f5ef</td>\n",
              "      <td>2018-03-29 02:10:47</td>\n",
              "      <td>31.90</td>\n",
              "      <td>15.20</td>\n",
              "    </tr>\n",
              "  </tbody>\n",
              "</table>\n",
              "<p>13562 rows × 7 columns</p>\n",
              "</div>"
            ],
            "text/plain": [
              "                              ID_PEDIDO QTD_ITENS  ... VL_PROD VL_FRETE\n",
              "19769  8272b63d03f5f79c56e9e4120aec44ef        10  ...    1.20     7.89\n",
              "19770  8272b63d03f5f79c56e9e4120aec44ef        10  ...    1.20     7.89\n",
              "19789  8272b63d03f5f79c56e9e4120aec44ef         1  ...    7.80     6.57\n",
              "91148  ab14fdcfbe524636d65ee38360e22ce8        20  ...   98.70    14.44\n",
              "68460  1b15974a0141d54e36626dca3fdc731a        20  ...  100.00    10.12\n",
              "...                                 ...       ...  ...     ...      ...\n",
              "13122  9bcae940b24680a6ca263ec7ffb30ccb         1  ...   19.95     3.35\n",
              "13123  9bcae940b24680a6ca263ec7ffb30ccb         1  ...   27.93    26.84\n",
              "296    f4fdb235ce7c1f7d3eb1b2fdd3a4f610         1  ...   17.90    15.10\n",
              "297    f4fdb235ce7c1f7d3eb1b2fdd3a4f610         1  ...   17.90    15.10\n",
              "86246  fa37c4d7efdb58513147c124a078bc54         2  ...   31.90    15.20\n",
              "\n",
              "[13562 rows x 7 columns]"
            ]
          },
          "metadata": {
            "tags": []
          },
          "execution_count": 35
        }
      ]
    },
    {
      "cell_type": "code",
      "metadata": {
        "id": "AUAoJR0QU2aW",
        "outputId": "6ee6f2b7-5f9f-45b5-9b6b-c0096ea017c9",
        "colab": {
          "base_uri": "https://localhost:8080/",
          "height": 439
        }
      },
      "source": [
        "df_result = df_result.sort_index(ascending=True)\n",
        "df_result"
      ],
      "execution_count": null,
      "outputs": [
        {
          "output_type": "execute_result",
          "data": {
            "text/html": [
              "<div>\n",
              "<style scoped>\n",
              "    .dataframe tbody tr th:only-of-type {\n",
              "        vertical-align: middle;\n",
              "    }\n",
              "\n",
              "    .dataframe tbody tr th {\n",
              "        vertical-align: top;\n",
              "    }\n",
              "\n",
              "    .dataframe thead th {\n",
              "        text-align: right;\n",
              "    }\n",
              "</style>\n",
              "<table border=\"1\" class=\"dataframe\">\n",
              "  <thead>\n",
              "    <tr style=\"text-align: right;\">\n",
              "      <th></th>\n",
              "      <th>ID_PEDIDO</th>\n",
              "      <th>QTD_ITENS</th>\n",
              "      <th>ID_PRODUTOS</th>\n",
              "      <th>ID_VENDEDOR</th>\n",
              "      <th>DT_LIMITE_ENTREGA</th>\n",
              "      <th>VL_PROD</th>\n",
              "      <th>VL_FRETE</th>\n",
              "    </tr>\n",
              "  </thead>\n",
              "  <tbody>\n",
              "    <tr>\n",
              "      <th>14</th>\n",
              "      <td>0aed18a03ea2ccdb5981aea3524b304d</td>\n",
              "      <td>1</td>\n",
              "      <td>98a8c2fa16d7239c606640f5555768e4</td>\n",
              "      <td>001cca7ae9ae17fb1caed9dfb1094831</td>\n",
              "      <td>2017-09-18 04:55:21</td>\n",
              "      <td>109.00</td>\n",
              "      <td>52.72</td>\n",
              "    </tr>\n",
              "    <tr>\n",
              "      <th>15</th>\n",
              "      <td>0aed18a03ea2ccdb5981aea3524b304d</td>\n",
              "      <td>1</td>\n",
              "      <td>08574b074924071f4e201e151b152b4e</td>\n",
              "      <td>001cca7ae9ae17fb1caed9dfb1094831</td>\n",
              "      <td>2017-09-18 04:55:21</td>\n",
              "      <td>99.00</td>\n",
              "      <td>52.71</td>\n",
              "    </tr>\n",
              "    <tr>\n",
              "      <th>20</th>\n",
              "      <td>0f548bd29148ebc519d6495e37a284e1</td>\n",
              "      <td>2</td>\n",
              "      <td>08574b074924071f4e201e151b152b4e</td>\n",
              "      <td>001cca7ae9ae17fb1caed9dfb1094831</td>\n",
              "      <td>2017-09-08 08:25:50</td>\n",
              "      <td>99.00</td>\n",
              "      <td>33.08</td>\n",
              "    </tr>\n",
              "    <tr>\n",
              "      <th>25</th>\n",
              "      <td>15816297ce3f82c12bdfacebb7f445b5</td>\n",
              "      <td>2</td>\n",
              "      <td>08574b074924071f4e201e151b152b4e</td>\n",
              "      <td>001cca7ae9ae17fb1caed9dfb1094831</td>\n",
              "      <td>2017-08-03 14:55:20</td>\n",
              "      <td>89.00</td>\n",
              "      <td>37.92</td>\n",
              "    </tr>\n",
              "    <tr>\n",
              "      <th>27</th>\n",
              "      <td>15d972c5dd4501e8d219acbe1bea1519</td>\n",
              "      <td>2</td>\n",
              "      <td>0da9ffd92214425d880de3f94e74ce39</td>\n",
              "      <td>001cca7ae9ae17fb1caed9dfb1094831</td>\n",
              "      <td>2017-07-24 06:05:36</td>\n",
              "      <td>99.99</td>\n",
              "      <td>51.83</td>\n",
              "    </tr>\n",
              "    <tr>\n",
              "      <th>...</th>\n",
              "      <td>...</td>\n",
              "      <td>...</td>\n",
              "      <td>...</td>\n",
              "      <td>...</td>\n",
              "      <td>...</td>\n",
              "      <td>...</td>\n",
              "      <td>...</td>\n",
              "    </tr>\n",
              "    <tr>\n",
              "      <th>112573</th>\n",
              "      <td>130ad13d352ea9a42e192286ce0bb54f</td>\n",
              "      <td>1</td>\n",
              "      <td>41e153b95adc3c7f781b583292f312cd</td>\n",
              "      <td>fffd5413c0700ac820c7069d66d98c89</td>\n",
              "      <td>2018-05-09 22:55:12</td>\n",
              "      <td>39.80</td>\n",
              "      <td>17.27</td>\n",
              "    </tr>\n",
              "    <tr>\n",
              "      <th>112597</th>\n",
              "      <td>6b353bba58520d286313c6f64cc078ff</td>\n",
              "      <td>2</td>\n",
              "      <td>937a43407f2cf75f612cef2795160860</td>\n",
              "      <td>fffd5413c0700ac820c7069d66d98c89</td>\n",
              "      <td>2017-12-06 19:32:28</td>\n",
              "      <td>174.90</td>\n",
              "      <td>94.52</td>\n",
              "    </tr>\n",
              "    <tr>\n",
              "      <th>112603</th>\n",
              "      <td>8a4c749f6b6350f68770c00405f8612a</td>\n",
              "      <td>1</td>\n",
              "      <td>8273821fd2a32fbbc77ad8b743b2a1b9</td>\n",
              "      <td>fffd5413c0700ac820c7069d66d98c89</td>\n",
              "      <td>2017-12-11 04:18:32</td>\n",
              "      <td>89.00</td>\n",
              "      <td>14.47</td>\n",
              "    </tr>\n",
              "    <tr>\n",
              "      <th>112610</th>\n",
              "      <td>ab2a998670fda3ed78ed05b73fa62ef9</td>\n",
              "      <td>1</td>\n",
              "      <td>d43c65f300c5cfaae005f1f954fc0b15</td>\n",
              "      <td>fffd5413c0700ac820c7069d66d98c89</td>\n",
              "      <td>2017-11-17 17:15:32</td>\n",
              "      <td>78.90</td>\n",
              "      <td>9.94</td>\n",
              "    </tr>\n",
              "    <tr>\n",
              "      <th>112626</th>\n",
              "      <td>ece1fa4a929c6a0e8b6678e10b2ac642</td>\n",
              "      <td>1</td>\n",
              "      <td>8ddbf2c953e42ed2a627c4ac08706bc2</td>\n",
              "      <td>fffd5413c0700ac820c7069d66d98c89</td>\n",
              "      <td>2017-11-30 18:30:56</td>\n",
              "      <td>98.00</td>\n",
              "      <td>17.83</td>\n",
              "    </tr>\n",
              "  </tbody>\n",
              "</table>\n",
              "<p>13562 rows × 7 columns</p>\n",
              "</div>"
            ],
            "text/plain": [
              "                               ID_PEDIDO QTD_ITENS  ... VL_PROD VL_FRETE\n",
              "14      0aed18a03ea2ccdb5981aea3524b304d         1  ...  109.00    52.72\n",
              "15      0aed18a03ea2ccdb5981aea3524b304d         1  ...   99.00    52.71\n",
              "20      0f548bd29148ebc519d6495e37a284e1         2  ...   99.00    33.08\n",
              "25      15816297ce3f82c12bdfacebb7f445b5         2  ...   89.00    37.92\n",
              "27      15d972c5dd4501e8d219acbe1bea1519         2  ...   99.99    51.83\n",
              "...                                  ...       ...  ...     ...      ...\n",
              "112573  130ad13d352ea9a42e192286ce0bb54f         1  ...   39.80    17.27\n",
              "112597  6b353bba58520d286313c6f64cc078ff         2  ...  174.90    94.52\n",
              "112603  8a4c749f6b6350f68770c00405f8612a         1  ...   89.00    14.47\n",
              "112610  ab2a998670fda3ed78ed05b73fa62ef9         1  ...   78.90     9.94\n",
              "112626  ece1fa4a929c6a0e8b6678e10b2ac642         1  ...   98.00    17.83\n",
              "\n",
              "[13562 rows x 7 columns]"
            ]
          },
          "metadata": {
            "tags": []
          },
          "execution_count": 36
        }
      ]
    },
    {
      "cell_type": "code",
      "metadata": {
        "id": "-6PEL3S3VMNJ",
        "outputId": "ee88e3b5-cc75-4254-a3a1-6d88c4872b54",
        "colab": {
          "base_uri": "https://localhost:8080/",
          "height": 379
        }
      },
      "source": [
        "df_result.tail(10)"
      ],
      "execution_count": null,
      "outputs": [
        {
          "output_type": "execute_result",
          "data": {
            "text/html": [
              "<div>\n",
              "<style scoped>\n",
              "    .dataframe tbody tr th:only-of-type {\n",
              "        vertical-align: middle;\n",
              "    }\n",
              "\n",
              "    .dataframe tbody tr th {\n",
              "        vertical-align: top;\n",
              "    }\n",
              "\n",
              "    .dataframe thead th {\n",
              "        text-align: right;\n",
              "    }\n",
              "</style>\n",
              "<table border=\"1\" class=\"dataframe\">\n",
              "  <thead>\n",
              "    <tr style=\"text-align: right;\">\n",
              "      <th></th>\n",
              "      <th>ID_PEDIDO</th>\n",
              "      <th>QTD_PROD</th>\n",
              "      <th>ID_PRODUTOS</th>\n",
              "      <th>ID_VENDEDOR</th>\n",
              "      <th>DT_LIMITE_ENTREGA</th>\n",
              "      <th>VL_PROD</th>\n",
              "      <th>VL_FRETE</th>\n",
              "    </tr>\n",
              "  </thead>\n",
              "  <tbody>\n",
              "    <tr>\n",
              "      <th>112509</th>\n",
              "      <td>1c8b4e99b0bc55e61bda13d020efb26d</td>\n",
              "      <td>1</td>\n",
              "      <td>cbe73e033835920bea2c769177237510</td>\n",
              "      <td>ffc470761de7d0232558ba5e786e57b7</td>\n",
              "      <td>2018-06-04 12:30:13</td>\n",
              "      <td>87.37</td>\n",
              "      <td>10.22</td>\n",
              "    </tr>\n",
              "    <tr>\n",
              "      <th>112513</th>\n",
              "      <td>4b4b94ef72b5f4fe86ce88a01b54e7a7</td>\n",
              "      <td>2</td>\n",
              "      <td>de9e51e0f1279f42d5b0a82642bfa78a</td>\n",
              "      <td>ffc470761de7d0232558ba5e786e57b7</td>\n",
              "      <td>2018-03-12 15:50:34</td>\n",
              "      <td>84.99</td>\n",
              "      <td>24.72</td>\n",
              "    </tr>\n",
              "    <tr>\n",
              "      <th>112529</th>\n",
              "      <td>e88f34a80788f768c175e94c622d7559</td>\n",
              "      <td>2</td>\n",
              "      <td>5b685cb0e36ab67e60afdaf2d784e2ed</td>\n",
              "      <td>ffc470761de7d0232558ba5e786e57b7</td>\n",
              "      <td>2018-04-17 19:55:17</td>\n",
              "      <td>30.05</td>\n",
              "      <td>12.79</td>\n",
              "    </tr>\n",
              "    <tr>\n",
              "      <th>112539</th>\n",
              "      <td>427a58275f0da4b6f1f58f4df099af34</td>\n",
              "      <td>2</td>\n",
              "      <td>55aec8e90307dc2a7233549837c12299</td>\n",
              "      <td>ffdd9f82b9a447f6f8d4b91554cc7dd3</td>\n",
              "      <td>2017-11-23 21:46:11</td>\n",
              "      <td>214.00</td>\n",
              "      <td>98.87</td>\n",
              "    </tr>\n",
              "    <tr>\n",
              "      <th>112552</th>\n",
              "      <td>ea4286567e0283e5437a80dafadc9a4d</td>\n",
              "      <td>2</td>\n",
              "      <td>ada800a927673ac73cdfbbd2c832331b</td>\n",
              "      <td>ffdd9f82b9a447f6f8d4b91554cc7dd3</td>\n",
              "      <td>2018-04-24 19:12:45</td>\n",
              "      <td>63.60</td>\n",
              "      <td>12.96</td>\n",
              "    </tr>\n",
              "    <tr>\n",
              "      <th>112573</th>\n",
              "      <td>130ad13d352ea9a42e192286ce0bb54f</td>\n",
              "      <td>1</td>\n",
              "      <td>41e153b95adc3c7f781b583292f312cd</td>\n",
              "      <td>fffd5413c0700ac820c7069d66d98c89</td>\n",
              "      <td>2018-05-09 22:55:12</td>\n",
              "      <td>39.80</td>\n",
              "      <td>17.27</td>\n",
              "    </tr>\n",
              "    <tr>\n",
              "      <th>112597</th>\n",
              "      <td>6b353bba58520d286313c6f64cc078ff</td>\n",
              "      <td>2</td>\n",
              "      <td>937a43407f2cf75f612cef2795160860</td>\n",
              "      <td>fffd5413c0700ac820c7069d66d98c89</td>\n",
              "      <td>2017-12-06 19:32:28</td>\n",
              "      <td>174.90</td>\n",
              "      <td>94.52</td>\n",
              "    </tr>\n",
              "    <tr>\n",
              "      <th>112603</th>\n",
              "      <td>8a4c749f6b6350f68770c00405f8612a</td>\n",
              "      <td>1</td>\n",
              "      <td>8273821fd2a32fbbc77ad8b743b2a1b9</td>\n",
              "      <td>fffd5413c0700ac820c7069d66d98c89</td>\n",
              "      <td>2017-12-11 04:18:32</td>\n",
              "      <td>89.00</td>\n",
              "      <td>14.47</td>\n",
              "    </tr>\n",
              "    <tr>\n",
              "      <th>112610</th>\n",
              "      <td>ab2a998670fda3ed78ed05b73fa62ef9</td>\n",
              "      <td>1</td>\n",
              "      <td>d43c65f300c5cfaae005f1f954fc0b15</td>\n",
              "      <td>fffd5413c0700ac820c7069d66d98c89</td>\n",
              "      <td>2017-11-17 17:15:32</td>\n",
              "      <td>78.90</td>\n",
              "      <td>9.94</td>\n",
              "    </tr>\n",
              "    <tr>\n",
              "      <th>112626</th>\n",
              "      <td>ece1fa4a929c6a0e8b6678e10b2ac642</td>\n",
              "      <td>1</td>\n",
              "      <td>8ddbf2c953e42ed2a627c4ac08706bc2</td>\n",
              "      <td>fffd5413c0700ac820c7069d66d98c89</td>\n",
              "      <td>2017-11-30 18:30:56</td>\n",
              "      <td>98.00</td>\n",
              "      <td>17.83</td>\n",
              "    </tr>\n",
              "  </tbody>\n",
              "</table>\n",
              "</div>"
            ],
            "text/plain": [
              "                               ID_PEDIDO QTD_PROD  ... VL_PROD VL_FRETE\n",
              "112509  1c8b4e99b0bc55e61bda13d020efb26d        1  ...   87.37    10.22\n",
              "112513  4b4b94ef72b5f4fe86ce88a01b54e7a7        2  ...   84.99    24.72\n",
              "112529  e88f34a80788f768c175e94c622d7559        2  ...   30.05    12.79\n",
              "112539  427a58275f0da4b6f1f58f4df099af34        2  ...  214.00    98.87\n",
              "112552  ea4286567e0283e5437a80dafadc9a4d        2  ...   63.60    12.96\n",
              "112573  130ad13d352ea9a42e192286ce0bb54f        1  ...   39.80    17.27\n",
              "112597  6b353bba58520d286313c6f64cc078ff        2  ...  174.90    94.52\n",
              "112603  8a4c749f6b6350f68770c00405f8612a        1  ...   89.00    14.47\n",
              "112610  ab2a998670fda3ed78ed05b73fa62ef9        1  ...   78.90     9.94\n",
              "112626  ece1fa4a929c6a0e8b6678e10b2ac642        1  ...   98.00    17.83\n",
              "\n",
              "[10 rows x 7 columns]"
            ]
          },
          "metadata": {
            "tags": []
          },
          "execution_count": 43
        }
      ]
    },
    {
      "cell_type": "code",
      "metadata": {
        "id": "hFpe8N_jGZys"
      },
      "source": [
        "df_result.to_excel('/content/drive/My Drive/Dados_DS/Dados Olist/Tab_Conexao.xlsx')\n"
      ],
      "execution_count": null,
      "outputs": []
    }
  ]
}