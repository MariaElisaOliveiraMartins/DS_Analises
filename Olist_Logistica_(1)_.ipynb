{
  "nbformat": 4,
  "nbformat_minor": 0,
  "metadata": {
    "colab": {
      "name": "Olist - Logistica (1) .ipynb",
      "provenance": [],
      "collapsed_sections": [
        "NsQxPvWzw6oF"
      ],
      "include_colab_link": true
    },
    "kernelspec": {
      "name": "python3",
      "display_name": "Python 3"
    }
  },
  "cells": [
    {
      "cell_type": "markdown",
      "metadata": {
        "id": "view-in-github",
        "colab_type": "text"
      },
      "source": [
        "<a href=\"https://colab.research.google.com/github/MariaElisaOliveiraMartins/DS_Analises/blob/main/Olist_Logistica_(1)_.ipynb\" target=\"_parent\"><img src=\"https://colab.research.google.com/assets/colab-badge.svg\" alt=\"Open In Colab\"/></a>"
      ]
    },
    {
      "cell_type": "markdown",
      "metadata": {
        "id": "t48XzH3XjlGF"
      },
      "source": [
        "# Projeto Olist - Análise 01\n",
        "\n",
        "A base de dados utilizada nesta análise foi publicada e obtida pelo Kaggle, a qual foi oferecida pela empresa de e-commerce Olist, como conbribuição à comunidade de Data Science.\n",
        "\n",
        "A modelagem do banco e os metadados estão descritos nos desafios propostos pela Olist dentro do portal do Kaggle.\n",
        "\n",
        "## Pegunta: o que você pode tirar de informação útil desse conjunto de dados?\n",
        "\n",
        "### Resumo deste trabalho:\n",
        "\n",
        "### 1) Junção das tabelas de pedidos e de clientes.\n",
        "### 2) Análise do dataframe resultante da junção.\n",
        "### 3) Verificação de Outliers, médias e correlações.\n",
        "### 4) Conclusões e considerações sobre as análises."
      ]
    },
    {
      "cell_type": "markdown",
      "metadata": {
        "id": "CMbh-8Tgwo7Q"
      },
      "source": [
        "## 1) Junção das tabelas de pedidos e de clientes."
      ]
    },
    {
      "cell_type": "markdown",
      "metadata": {
        "id": "LCamCjsS0Pnr"
      },
      "source": [
        "Acesso ao Google Drive"
      ]
    },
    {
      "cell_type": "code",
      "metadata": {
        "id": "MDjan7N1EWP6",
        "outputId": "71c7e606-cce3-4d3a-dd7f-816735dc8606",
        "colab": {
          "base_uri": "https://localhost:8080/",
          "height": 35
        }
      },
      "source": [
        "from google.colab import drive\n",
        "drive.mount('/content/drive')"
      ],
      "execution_count": null,
      "outputs": [
        {
          "output_type": "stream",
          "text": [
            "Mounted at /content/drive\n"
          ],
          "name": "stdout"
        }
      ]
    },
    {
      "cell_type": "markdown",
      "metadata": {
        "id": "vVqGMM4u0bxl"
      },
      "source": [
        "Bibliotecas utilizadas nessa análise"
      ]
    },
    {
      "cell_type": "code",
      "metadata": {
        "id": "6WOp9dKxjjH4"
      },
      "source": [
        "import pandas as pd \n",
        "import numpy as np \n",
        "import seaborn as sbn \n",
        "from matplotlib import pyplot as plt\n"
      ],
      "execution_count": null,
      "outputs": []
    },
    {
      "cell_type": "markdown",
      "metadata": {
        "id": "cPRUE-oO0jpQ"
      },
      "source": [
        "Carga e apresentação dos arquivos"
      ]
    },
    {
      "cell_type": "code",
      "metadata": {
        "id": "Zu5ZjFmtMpaw"
      },
      "source": [
        "# Arquivos de Pedidos (order)\n",
        "\n",
        "df_order = pd.read_excel('/content/drive/My Drive/Dados_DS/Dados Olist/olist_orders_dataset.xlsx')"
      ],
      "execution_count": null,
      "outputs": []
    },
    {
      "cell_type": "code",
      "metadata": {
        "id": "SMS3ZfD-Hics",
        "outputId": "2a0f72dc-2012-433d-b8fc-3051105748ad",
        "colab": {
          "base_uri": "https://localhost:8080/",
          "height": 287
        }
      },
      "source": [
        "df_order.info()"
      ],
      "execution_count": null,
      "outputs": [
        {
          "output_type": "stream",
          "text": [
            "<class 'pandas.core.frame.DataFrame'>\n",
            "RangeIndex: 99441 entries, 0 to 99440\n",
            "Data columns (total 8 columns):\n",
            " #   Column                         Non-Null Count  Dtype         \n",
            "---  ------                         --------------  -----         \n",
            " 0   order_id                       99441 non-null  object        \n",
            " 1   customer_id                    99441 non-null  object        \n",
            " 2   order_status                   99441 non-null  object        \n",
            " 3   order_purchase_timestamp       99441 non-null  datetime64[ns]\n",
            " 4   order_approved_at              99441 non-null  datetime64[ns]\n",
            " 5   order_delivered_carrier_date   99295 non-null  datetime64[ns]\n",
            " 6   order_delivered_customer_date  97659 non-null  datetime64[ns]\n",
            " 7   order_estimated_delivery_date  96461 non-null  datetime64[ns]\n",
            "dtypes: datetime64[ns](5), object(3)\n",
            "memory usage: 6.1+ MB\n"
          ],
          "name": "stdout"
        }
      ]
    },
    {
      "cell_type": "code",
      "metadata": {
        "id": "JAWNgq5HGnKX"
      },
      "source": [
        "# Arquivo de Clientes (customers)\n",
        "df_custm = pd.read_excel('/content/drive/My Drive/Dados_DS/Dados Olist/olist_customers_dataset.xlsx')"
      ],
      "execution_count": null,
      "outputs": []
    },
    {
      "cell_type": "code",
      "metadata": {
        "id": "IncW94riHof5",
        "outputId": "b4ef5750-a4fb-413b-b3ae-8712a45f34d7",
        "colab": {
          "base_uri": "https://localhost:8080/",
          "height": 233
        }
      },
      "source": [
        "df_custm.info()"
      ],
      "execution_count": null,
      "outputs": [
        {
          "output_type": "stream",
          "text": [
            "<class 'pandas.core.frame.DataFrame'>\n",
            "RangeIndex: 99441 entries, 0 to 99440\n",
            "Data columns (total 5 columns):\n",
            " #   Column                    Non-Null Count  Dtype \n",
            "---  ------                    --------------  ----- \n",
            " 0   customer_id               99441 non-null  object\n",
            " 1   customer_unique_id        99441 non-null  object\n",
            " 2   customer_zip_code_prefix  99441 non-null  int64 \n",
            " 3   customer_city             99441 non-null  object\n",
            " 4   customer_state            99441 non-null  object\n",
            "dtypes: int64(1), object(4)\n",
            "memory usage: 3.8+ MB\n"
          ],
          "name": "stdout"
        }
      ]
    },
    {
      "cell_type": "markdown",
      "metadata": {
        "id": "uWyXPYaV3Tkj"
      },
      "source": [
        "Junção do arquivo de Cliente com o de Pedidos (chv = customer_id)"
      ]
    },
    {
      "cell_type": "code",
      "metadata": {
        "id": "bUy0CaadVBEX"
      },
      "source": [
        "# Merge entre os dois dataframes\n",
        "df_result = pd.merge(df_order, df_custm, on='customer_id')"
      ],
      "execution_count": null,
      "outputs": []
    },
    {
      "cell_type": "code",
      "metadata": {
        "id": "X7siu_2xVdFN",
        "outputId": "b4907e76-7abe-479c-e7d2-1f6a6d47d44a",
        "colab": {
          "base_uri": "https://localhost:8080/",
          "height": 359
        }
      },
      "source": [
        "# Resultado da junção\n",
        "df_result.info()"
      ],
      "execution_count": null,
      "outputs": [
        {
          "output_type": "stream",
          "text": [
            "<class 'pandas.core.frame.DataFrame'>\n",
            "Int64Index: 99441 entries, 0 to 99440\n",
            "Data columns (total 12 columns):\n",
            " #   Column                         Non-Null Count  Dtype         \n",
            "---  ------                         --------------  -----         \n",
            " 0   order_id                       99441 non-null  object        \n",
            " 1   customer_id                    99441 non-null  object        \n",
            " 2   order_status                   99441 non-null  object        \n",
            " 3   order_purchase_timestamp       99441 non-null  datetime64[ns]\n",
            " 4   order_approved_at              99441 non-null  datetime64[ns]\n",
            " 5   order_delivered_carrier_date   99295 non-null  datetime64[ns]\n",
            " 6   order_delivered_customer_date  97659 non-null  datetime64[ns]\n",
            " 7   order_estimated_delivery_date  96461 non-null  datetime64[ns]\n",
            " 8   customer_unique_id             99441 non-null  object        \n",
            " 9   customer_zip_code_prefix       99441 non-null  int64         \n",
            " 10  customer_city                  99441 non-null  object        \n",
            " 11  customer_state                 99441 non-null  object        \n",
            "dtypes: datetime64[ns](5), int64(1), object(6)\n",
            "memory usage: 9.9+ MB\n"
          ],
          "name": "stdout"
        }
      ]
    },
    {
      "cell_type": "code",
      "metadata": {
        "id": "fNnpvizvK3R6",
        "outputId": "376613e6-1648-4c1f-b151-8a98e11e6b26",
        "colab": {
          "base_uri": "https://localhost:8080/",
          "height": 233
        }
      },
      "source": [
        "df_result.pop('customer_unique_id')  # Exlusão de informação desnecessaria"
      ],
      "execution_count": null,
      "outputs": [
        {
          "output_type": "execute_result",
          "data": {
            "text/plain": [
              "0        7c396fd4830fd04220f754e42b4e5bff\n",
              "1        af07308b275d755c9edb36a90c618231\n",
              "2        3a653a41f6f9fc3d2a113cf8398680e8\n",
              "3        7c142cf63193a1473d2e66489a9ae977\n",
              "4        72632f0f9dd73dfee390c9b22eb56dd6\n",
              "                       ...               \n",
              "99436    6359f309b166b0196dbf7ad2ac62bb5a\n",
              "99437    da62f9e57a76d978d02ab5362c509660\n",
              "99438    737520a9aad80b3fbbdad19b66b37b30\n",
              "99439    5097a5312c8b157bb7be58ae360ef43c\n",
              "99440    60350aa974b26ff12caad89e55993bd6\n",
              "Name: customer_unique_id, Length: 99441, dtype: object"
            ]
          },
          "metadata": {
            "tags": []
          },
          "execution_count": 9
        }
      ]
    },
    {
      "cell_type": "code",
      "metadata": {
        "id": "YW6xPMQLWjfs"
      },
      "source": [
        "# Backup dos arquivos (p/ eventual emergência)\n",
        "bkp_order = df_order.copy()\n",
        "bkp_custm = df_custm.copy()\n",
        "bkp_df_result = df_result.copy()\n",
        "#df_order = bkp_order.copy()\n",
        "#df_custm = bkp_custm.copy()\n",
        "#df_result = df_result.copy()"
      ],
      "execution_count": null,
      "outputs": []
    },
    {
      "cell_type": "markdown",
      "metadata": {
        "id": "mBbSYl8fw67k"
      },
      "source": [
        "## 2) Análise do dataframe resultante da junção."
      ]
    },
    {
      "cell_type": "code",
      "metadata": {
        "id": "NwB05zU03jJy"
      },
      "source": [
        "# Troca de nomes das colunas\n",
        "new_names = {'order_id':'ID_PEDIDO', 'customer_id':'ID_CLIENTE', 'order_status':'STATUS', 'order_purchase_timestamp':'DT_COMPRA', \\\n",
        "             'order_approved_at':'DT_APROV', 'order_delivered_carrier_date':'DT_ENVIO', 'order_delivered_customer_date':'DT_ENTREGA', \\\n",
        "             'order_estimated_delivery_date': 'DT_PREVISTA', 'customer_zip_code_prefix':'CL_CEP', 'customer_city':'CL_CIDADE', 'customer_state':'CL_UF'}\n",
        "df_result.rename(columns=new_names, inplace=True)"
      ],
      "execution_count": null,
      "outputs": []
    },
    {
      "cell_type": "code",
      "metadata": {
        "id": "kWbMSI8kSfOY"
      },
      "source": [
        "pd.set_option('display.float_format', lambda x: '%.5f' % x)  # Ajuste para formatação dos dados tipo \"float\"."
      ],
      "execution_count": null,
      "outputs": []
    },
    {
      "cell_type": "code",
      "metadata": {
        "id": "qR7cFdeV2PFC",
        "outputId": "f57c4e1c-cdc7-4606-ea51-5bdacc25dcb4",
        "colab": {
          "base_uri": "https://localhost:8080/",
          "height": 394
        }
      },
      "source": [
        "df_result.head()   # Análise das primeiras linhas "
      ],
      "execution_count": null,
      "outputs": [
        {
          "output_type": "execute_result",
          "data": {
            "text/html": [
              "<div>\n",
              "<style scoped>\n",
              "    .dataframe tbody tr th:only-of-type {\n",
              "        vertical-align: middle;\n",
              "    }\n",
              "\n",
              "    .dataframe tbody tr th {\n",
              "        vertical-align: top;\n",
              "    }\n",
              "\n",
              "    .dataframe thead th {\n",
              "        text-align: right;\n",
              "    }\n",
              "</style>\n",
              "<table border=\"1\" class=\"dataframe\">\n",
              "  <thead>\n",
              "    <tr style=\"text-align: right;\">\n",
              "      <th></th>\n",
              "      <th>ID_PEDIDO</th>\n",
              "      <th>ID_CLIENTE</th>\n",
              "      <th>STATUS</th>\n",
              "      <th>DT_COMPRA</th>\n",
              "      <th>DT_APROV</th>\n",
              "      <th>DT_ENVIO</th>\n",
              "      <th>DT_ENTREGA</th>\n",
              "      <th>DT_PREVISTA</th>\n",
              "      <th>CL_CEP</th>\n",
              "      <th>CL_CIDADE</th>\n",
              "      <th>CL_UF</th>\n",
              "    </tr>\n",
              "  </thead>\n",
              "  <tbody>\n",
              "    <tr>\n",
              "      <th>0</th>\n",
              "      <td>e481f51cbdc54678b7cc49136f2d6af7</td>\n",
              "      <td>9ef432eb6251297304e76186b10a928d</td>\n",
              "      <td>delivered</td>\n",
              "      <td>2017-10-02 10:56:33</td>\n",
              "      <td>2017-10-02 11:07:15</td>\n",
              "      <td>2017-10-04 19:55:00</td>\n",
              "      <td>2017-10-10 21:25:13</td>\n",
              "      <td>2017-10-18</td>\n",
              "      <td>3149</td>\n",
              "      <td>sao paulo</td>\n",
              "      <td>SP</td>\n",
              "    </tr>\n",
              "    <tr>\n",
              "      <th>1</th>\n",
              "      <td>53cdb2fc8bc7dce0b6741e2150273451</td>\n",
              "      <td>b0830fb4747a6c6d20dea0b8c802d7ef</td>\n",
              "      <td>delivered</td>\n",
              "      <td>2018-07-24 20:41:37</td>\n",
              "      <td>2018-07-26 03:24:27</td>\n",
              "      <td>2018-07-26 14:31:00</td>\n",
              "      <td>2018-08-07 15:27:45</td>\n",
              "      <td>2018-08-13</td>\n",
              "      <td>47813</td>\n",
              "      <td>barreiras</td>\n",
              "      <td>BA</td>\n",
              "    </tr>\n",
              "    <tr>\n",
              "      <th>2</th>\n",
              "      <td>47770eb9100c2d0c44946d9cf07ec65d</td>\n",
              "      <td>41ce2a54c0b03bf3443c3d931a367089</td>\n",
              "      <td>delivered</td>\n",
              "      <td>2018-08-08 08:38:49</td>\n",
              "      <td>2018-08-08 08:55:23</td>\n",
              "      <td>2018-08-08 13:50:00</td>\n",
              "      <td>2018-08-17 18:06:29</td>\n",
              "      <td>2018-09-04</td>\n",
              "      <td>75265</td>\n",
              "      <td>vianopolis</td>\n",
              "      <td>GO</td>\n",
              "    </tr>\n",
              "    <tr>\n",
              "      <th>3</th>\n",
              "      <td>949d5b44dbf5de918fe9c16f97b45f8a</td>\n",
              "      <td>f88197465ea7920adcdbec7375364d82</td>\n",
              "      <td>delivered</td>\n",
              "      <td>2017-11-18 19:28:06</td>\n",
              "      <td>2017-11-18 19:45:59</td>\n",
              "      <td>2017-11-22 13:39:59</td>\n",
              "      <td>2017-12-02 00:28:42</td>\n",
              "      <td>2017-12-15</td>\n",
              "      <td>59296</td>\n",
              "      <td>sao goncalo do amarante</td>\n",
              "      <td>RN</td>\n",
              "    </tr>\n",
              "    <tr>\n",
              "      <th>4</th>\n",
              "      <td>ad21c59c0840e6cb83a9ceb5573f8159</td>\n",
              "      <td>8ab97904e6daea8866dbdbc4fb7aad2c</td>\n",
              "      <td>delivered</td>\n",
              "      <td>2018-02-13 21:18:39</td>\n",
              "      <td>2018-02-13 22:20:29</td>\n",
              "      <td>2018-02-14 19:46:34</td>\n",
              "      <td>2018-02-16 18:17:02</td>\n",
              "      <td>2018-02-26</td>\n",
              "      <td>9195</td>\n",
              "      <td>santo andre</td>\n",
              "      <td>SP</td>\n",
              "    </tr>\n",
              "  </tbody>\n",
              "</table>\n",
              "</div>"
            ],
            "text/plain": [
              "                          ID_PEDIDO  ... CL_UF\n",
              "0  e481f51cbdc54678b7cc49136f2d6af7  ...    SP\n",
              "1  53cdb2fc8bc7dce0b6741e2150273451  ...    BA\n",
              "2  47770eb9100c2d0c44946d9cf07ec65d  ...    GO\n",
              "3  949d5b44dbf5de918fe9c16f97b45f8a  ...    RN\n",
              "4  ad21c59c0840e6cb83a9ceb5573f8159  ...    SP\n",
              "\n",
              "[5 rows x 11 columns]"
            ]
          },
          "metadata": {
            "tags": []
          },
          "execution_count": 13
        }
      ]
    },
    {
      "cell_type": "code",
      "metadata": {
        "id": "pjH_z2mp2bAQ",
        "outputId": "63de23bf-74b5-45c5-e60d-fab023eae04b",
        "colab": {
          "base_uri": "https://localhost:8080/",
          "height": 394
        }
      },
      "source": [
        "df_result.tail() # Análise das últimas linhas"
      ],
      "execution_count": null,
      "outputs": [
        {
          "output_type": "execute_result",
          "data": {
            "text/html": [
              "<div>\n",
              "<style scoped>\n",
              "    .dataframe tbody tr th:only-of-type {\n",
              "        vertical-align: middle;\n",
              "    }\n",
              "\n",
              "    .dataframe tbody tr th {\n",
              "        vertical-align: top;\n",
              "    }\n",
              "\n",
              "    .dataframe thead th {\n",
              "        text-align: right;\n",
              "    }\n",
              "</style>\n",
              "<table border=\"1\" class=\"dataframe\">\n",
              "  <thead>\n",
              "    <tr style=\"text-align: right;\">\n",
              "      <th></th>\n",
              "      <th>ID_PEDIDO</th>\n",
              "      <th>ID_CLIENTE</th>\n",
              "      <th>STATUS</th>\n",
              "      <th>DT_COMPRA</th>\n",
              "      <th>DT_APROV</th>\n",
              "      <th>DT_ENVIO</th>\n",
              "      <th>DT_ENTREGA</th>\n",
              "      <th>DT_PREVISTA</th>\n",
              "      <th>CL_CEP</th>\n",
              "      <th>CL_CIDADE</th>\n",
              "      <th>CL_UF</th>\n",
              "    </tr>\n",
              "  </thead>\n",
              "  <tbody>\n",
              "    <tr>\n",
              "      <th>99436</th>\n",
              "      <td>9c5dedf39a927c1b2549525ed64a053c</td>\n",
              "      <td>39bd1228ee8140590ac3aca26f2dfe00</td>\n",
              "      <td>delivered</td>\n",
              "      <td>2017-03-09 09:54:05</td>\n",
              "      <td>2017-03-09 09:54:05</td>\n",
              "      <td>2017-03-10 11:18:03</td>\n",
              "      <td>2017-03-17 15:08:01</td>\n",
              "      <td>2017-03-28</td>\n",
              "      <td>12209</td>\n",
              "      <td>sao jose dos campos</td>\n",
              "      <td>SP</td>\n",
              "    </tr>\n",
              "    <tr>\n",
              "      <th>99437</th>\n",
              "      <td>63943bddc261676b46f01ca7ac2f7bd8</td>\n",
              "      <td>1fca14ff2861355f6e5f14306ff977a7</td>\n",
              "      <td>delivered</td>\n",
              "      <td>2018-02-06 12:58:58</td>\n",
              "      <td>2018-02-06 13:10:37</td>\n",
              "      <td>2018-02-07 23:22:42</td>\n",
              "      <td>2018-02-28 17:37:56</td>\n",
              "      <td>2018-03-02</td>\n",
              "      <td>11722</td>\n",
              "      <td>praia grande</td>\n",
              "      <td>SP</td>\n",
              "    </tr>\n",
              "    <tr>\n",
              "      <th>99438</th>\n",
              "      <td>83c1379a015df1e13d02aae0204711ab</td>\n",
              "      <td>1aa71eb042121263aafbe80c1b562c9c</td>\n",
              "      <td>delivered</td>\n",
              "      <td>2017-08-27 14:46:43</td>\n",
              "      <td>2017-08-27 15:04:16</td>\n",
              "      <td>2017-08-28 20:52:26</td>\n",
              "      <td>2017-09-21 11:24:17</td>\n",
              "      <td>2017-09-27</td>\n",
              "      <td>45920</td>\n",
              "      <td>nova vicosa</td>\n",
              "      <td>BA</td>\n",
              "    </tr>\n",
              "    <tr>\n",
              "      <th>99439</th>\n",
              "      <td>11c177c8e97725db2631073c19f07b62</td>\n",
              "      <td>b331b74b18dc79bcdf6532d51e1637c1</td>\n",
              "      <td>delivered</td>\n",
              "      <td>2018-01-08 21:28:27</td>\n",
              "      <td>2018-01-08 21:36:21</td>\n",
              "      <td>2018-01-12 15:35:03</td>\n",
              "      <td>2018-01-25 23:32:54</td>\n",
              "      <td>2018-02-15</td>\n",
              "      <td>28685</td>\n",
              "      <td>japuiba</td>\n",
              "      <td>RJ</td>\n",
              "    </tr>\n",
              "    <tr>\n",
              "      <th>99440</th>\n",
              "      <td>66dea50a8b16d9b4dee7af250b4be1a5</td>\n",
              "      <td>edb027a75a1449115f6b43211ae02a24</td>\n",
              "      <td>delivered</td>\n",
              "      <td>2018-03-08 20:57:30</td>\n",
              "      <td>2018-03-09 11:20:28</td>\n",
              "      <td>2018-03-09 22:11:59</td>\n",
              "      <td>2018-03-16 13:08:30</td>\n",
              "      <td>2018-04-03</td>\n",
              "      <td>83750</td>\n",
              "      <td>lapa</td>\n",
              "      <td>PR</td>\n",
              "    </tr>\n",
              "  </tbody>\n",
              "</table>\n",
              "</div>"
            ],
            "text/plain": [
              "                              ID_PEDIDO  ... CL_UF\n",
              "99436  9c5dedf39a927c1b2549525ed64a053c  ...    SP\n",
              "99437  63943bddc261676b46f01ca7ac2f7bd8  ...    SP\n",
              "99438  83c1379a015df1e13d02aae0204711ab  ...    BA\n",
              "99439  11c177c8e97725db2631073c19f07b62  ...    RJ\n",
              "99440  66dea50a8b16d9b4dee7af250b4be1a5  ...    PR\n",
              "\n",
              "[5 rows x 11 columns]"
            ]
          },
          "metadata": {
            "tags": []
          },
          "execution_count": 14
        }
      ]
    },
    {
      "cell_type": "code",
      "metadata": {
        "id": "J3AeGjYftrg-",
        "outputId": "ff479914-1dcb-4977-ad44-d6392d0122f2",
        "colab": {
          "base_uri": "https://localhost:8080/",
          "height": 35
        }
      },
      "source": [
        "print(df_result.shape)  # Confirmação da dimensão do dataframe\n",
        "tot_lin_inic = df_result.shape[0]"
      ],
      "execution_count": null,
      "outputs": [
        {
          "output_type": "stream",
          "text": [
            "(99441, 11)\n"
          ],
          "name": "stdout"
        }
      ]
    },
    {
      "cell_type": "markdown",
      "metadata": {
        "id": "uEUIUyTGOY72"
      },
      "source": [
        "### Análise quantitativa"
      ]
    },
    {
      "cell_type": "code",
      "metadata": {
        "id": "XaviU5s6e4cl",
        "outputId": "aca972da-86c2-4839-c5bd-04d0757c9a26",
        "colab": {
          "base_uri": "https://localhost:8080/",
          "height": 233
        }
      },
      "source": [
        "# Verificando a quantidade de dados registrados\n",
        "df_result.count() "
      ],
      "execution_count": null,
      "outputs": [
        {
          "output_type": "execute_result",
          "data": {
            "text/plain": [
              "ID_PEDIDO      99441\n",
              "ID_CLIENTE     99441\n",
              "STATUS         99441\n",
              "DT_COMPRA      99441\n",
              "DT_APROV       99441\n",
              "DT_ENVIO       99295\n",
              "DT_ENTREGA     97659\n",
              "DT_PREVISTA    96461\n",
              "CL_CEP         99441\n",
              "CL_CIDADE      99441\n",
              "CL_UF          99441\n",
              "dtype: int64"
            ]
          },
          "metadata": {
            "tags": []
          },
          "execution_count": 16
        }
      ]
    },
    {
      "cell_type": "markdown",
      "metadata": {
        "id": "Smqq0zxYRGDO"
      },
      "source": [
        "#### Obs: \n",
        "\n",
        "1) Tanto a quantidade de envios quanto de entregas superam a quantidade de previsões de entrega, o que sugere que algumas previsões de entrega não foram  registradas.\n",
        "\n",
        "2) A princípio a data de previsão de entrega deveria ser registrada no momento em que é feito o envio (suposição).\n"
      ]
    },
    {
      "cell_type": "code",
      "metadata": {
        "id": "5WIHTb-AI-d2",
        "outputId": "013c26a9-b422-4a5d-ce31-7312ace43999",
        "colab": {
          "base_uri": "https://localhost:8080/",
          "height": 233
        }
      },
      "source": [
        "# Verficação da quantidade de nulos\n",
        "df_result.isnull().sum() "
      ],
      "execution_count": null,
      "outputs": [
        {
          "output_type": "execute_result",
          "data": {
            "text/plain": [
              "ID_PEDIDO         0\n",
              "ID_CLIENTE        0\n",
              "STATUS            0\n",
              "DT_COMPRA         0\n",
              "DT_APROV          0\n",
              "DT_ENVIO        146\n",
              "DT_ENTREGA     1782\n",
              "DT_PREVISTA    2980\n",
              "CL_CEP            0\n",
              "CL_CIDADE         0\n",
              "CL_UF             0\n",
              "dtype: int64"
            ]
          },
          "metadata": {
            "tags": []
          },
          "execution_count": 17
        }
      ]
    },
    {
      "cell_type": "markdown",
      "metadata": {
        "id": "rJzKHC7ezVfs"
      },
      "source": [
        "### Verificação da existencia de outliers"
      ]
    },
    {
      "cell_type": "code",
      "metadata": {
        "id": "UBtc8YW9C4Cn",
        "outputId": "b60489ad-be35-4d5b-d1ab-e0057b515e71",
        "colab": {
          "base_uri": "https://localhost:8080/",
          "height": 298
        }
      },
      "source": [
        "# Distribuição/Dispersão entre a data da compra e a data da entrega.\n",
        "\n",
        "df_result.plot(x='DT_COMPRA', y='DT_ENTREGA',kind='scatter', color='blue')\n"
      ],
      "execution_count": null,
      "outputs": [
        {
          "output_type": "execute_result",
          "data": {
            "text/plain": [
              "<matplotlib.axes._subplots.AxesSubplot at 0x7fa50ba08cf8>"
            ]
          },
          "metadata": {
            "tags": []
          },
          "execution_count": 18
        },
        {
          "output_type": "display_data",
          "data": {
            "image/png": "[encoded data removed]",
            "text/plain": [
              "<Figure size 432x288 with 1 Axes>"
            ]
          },
          "metadata": {
            "tags": [],
            "needs_background": "light"
          }
        }
      ]
    },
    {
      "cell_type": "code",
      "metadata": {
        "id": "-cUaTiQAw3F2",
        "outputId": "6288cee8-3213-4dae-a67f-82d41eba10f1",
        "colab": {
          "base_uri": "https://localhost:8080/",
          "height": 298
        }
      },
      "source": [
        "# Distribuição/Dispersão entre a data da envio e a data da entrega.\n",
        "\n",
        "df_result.plot(x='DT_ENVIO', y='DT_ENTREGA',kind='scatter', color='orange')"
      ],
      "execution_count": null,
      "outputs": [
        {
          "output_type": "execute_result",
          "data": {
            "text/plain": [
              "<matplotlib.axes._subplots.AxesSubplot at 0x7fa50c8e9390>"
            ]
          },
          "metadata": {
            "tags": []
          },
          "execution_count": 19
        },
        {
          "output_type": "display_data",
          "data": {
            "image/png": "[encoded data removed]",
            "text/plain": [
              "<Figure size 432x288 with 1 Axes>"
            ]
          },
          "metadata": {
            "tags": [],
            "needs_background": "light"
          }
        }
      ]
    },
    {
      "cell_type": "code",
      "metadata": {
        "id": "2JOih5Z1w9ZV",
        "outputId": "27786168-db0b-443d-a664-44a7ba29c9bf",
        "colab": {
          "base_uri": "https://localhost:8080/",
          "height": 298
        }
      },
      "source": [
        "# Distribuição/Dispersão entre a data de envio e a data prevista para entrega.\n",
        "\n",
        "df_result.plot(x='DT_ENVIO', y='DT_PREVISTA',kind='scatter', color='green')"
      ],
      "execution_count": null,
      "outputs": [
        {
          "output_type": "execute_result",
          "data": {
            "text/plain": [
              "<matplotlib.axes._subplots.AxesSubplot at 0x7fa50c64ecc0>"
            ]
          },
          "metadata": {
            "tags": []
          },
          "execution_count": 20
        },
        {
          "output_type": "display_data",
          "data": {
            "image/png": "[encoded data removed]",
            "text/plain": [
              "<Figure size 432x288 with 1 Axes>"
            ]
          },
          "metadata": {
            "tags": [],
            "needs_background": "light"
          }
        }
      ]
    },
    {
      "cell_type": "code",
      "metadata": {
        "id": "xp_Ik7gxw6xS",
        "outputId": "0fe5249b-34f2-4c32-9caa-b8cf071a513c",
        "colab": {
          "base_uri": "https://localhost:8080/",
          "height": 298
        }
      },
      "source": [
        "# Distribuição/Dispersão entre a data de entrega prevista e a data de entrega realizada.\n",
        "\n",
        "df_result.plot(x='DT_PREVISTA', y='DT_ENTREGA',kind='scatter', color='red')"
      ],
      "execution_count": null,
      "outputs": [
        {
          "output_type": "execute_result",
          "data": {
            "text/plain": [
              "<matplotlib.axes._subplots.AxesSubplot at 0x7fa50c0997f0>"
            ]
          },
          "metadata": {
            "tags": []
          },
          "execution_count": 21
        },
        {
          "output_type": "display_data",
          "data": {
            "image/png": "[encoded data removed]",
            "text/plain": [
              "<Figure size 432x288 with 1 Axes>"
            ]
          },
          "metadata": {
            "tags": [],
            "needs_background": "light"
          }
        }
      ]
    },
    {
      "cell_type": "markdown",
      "metadata": {
        "id": "ocwZOTz-yCL6"
      },
      "source": [
        "### Perguntas objetivas:\n",
        "\n",
        "A) Existem distorções na base de dados da Olist em relação às operações logísticas.\n",
        "\n",
        "B) A relação entre a Previsão de Entrega e a Entrega Efetiva está adequada?\n",
        "\n",
        "C) Quais seriam as métricas razoáveis para previsão e execução dos serviços de entrega? \n",
        "\n",
        "D) A remoção de possíveis disorções (outliers) causariam impacto significativo na análise?\n",
        "\n",
        "E) Seria possível melhorar a previsão de entrega dos pedidos?"
      ]
    },
    {
      "cell_type": "code",
      "metadata": {
        "id": "X-7iz3MbZ1rb",
        "outputId": "e219dbc6-a718-4fe6-a9f1-b630f343f718",
        "colab": {
          "base_uri": "https://localhost:8080/",
          "height": 179
        }
      },
      "source": [
        "# Verificação da situação (status) dos pedidos\n",
        "\n",
        "df_status = df_result['STATUS'].value_counts()\n",
        "df_status"
      ],
      "execution_count": null,
      "outputs": [
        {
          "output_type": "execute_result",
          "data": {
            "text/plain": [
              "delivered      96478\n",
              "shipped         1107\n",
              "canceled         625\n",
              "unavailable      609\n",
              "invoiced         314\n",
              "processing       301\n",
              "created            5\n",
              "approved           2\n",
              "Name: STATUS, dtype: int64"
            ]
          },
          "metadata": {
            "tags": []
          },
          "execution_count": 22
        }
      ]
    },
    {
      "cell_type": "markdown",
      "metadata": {
        "id": "nyKZI2i62N_j"
      },
      "source": [
        "Análise dos pedidos que não foram enviados"
      ]
    },
    {
      "cell_type": "code",
      "metadata": {
        "id": "BVPkmmRVTQK5",
        "outputId": "139916db-c831-4c2c-9c13-6633902b4a9a",
        "colab": {
          "base_uri": "https://localhost:8080/",
          "height": 779
        }
      },
      "source": [
        "# Apresentação dos pedidos cujo status diferem de \"delivered\" e/ou \"shipped\"\n",
        "\n",
        "df_result[((df_result['STATUS'] != 'shipped') & (df_result['STATUS'] !=  'delivered'))]"
      ],
      "execution_count": null,
      "outputs": [
        {
          "output_type": "execute_result",
          "data": {
            "text/html": [
              "<div>\n",
              "<style scoped>\n",
              "    .dataframe tbody tr th:only-of-type {\n",
              "        vertical-align: middle;\n",
              "    }\n",
              "\n",
              "    .dataframe tbody tr th {\n",
              "        vertical-align: top;\n",
              "    }\n",
              "\n",
              "    .dataframe thead th {\n",
              "        text-align: right;\n",
              "    }\n",
              "</style>\n",
              "<table border=\"1\" class=\"dataframe\">\n",
              "  <thead>\n",
              "    <tr style=\"text-align: right;\">\n",
              "      <th></th>\n",
              "      <th>ID_PEDIDO</th>\n",
              "      <th>ID_CLIENTE</th>\n",
              "      <th>STATUS</th>\n",
              "      <th>DT_COMPRA</th>\n",
              "      <th>DT_APROV</th>\n",
              "      <th>DT_ENVIO</th>\n",
              "      <th>DT_ENTREGA</th>\n",
              "      <th>DT_PREVISTA</th>\n",
              "      <th>CL_CEP</th>\n",
              "      <th>CL_CIDADE</th>\n",
              "      <th>CL_UF</th>\n",
              "    </tr>\n",
              "  </thead>\n",
              "  <tbody>\n",
              "    <tr>\n",
              "      <th>6</th>\n",
              "      <td>136cce7faa42fdb2cefd53fdc79a6098</td>\n",
              "      <td>ed0271e0b7da060a393796590e7b737a</td>\n",
              "      <td>invoiced</td>\n",
              "      <td>2017-04-11 12:22:08</td>\n",
              "      <td>2017-04-13 13:25:17</td>\n",
              "      <td>2017-05-09</td>\n",
              "      <td>NaT</td>\n",
              "      <td>NaT</td>\n",
              "      <td>98900</td>\n",
              "      <td>santa rosa</td>\n",
              "      <td>RS</td>\n",
              "    </tr>\n",
              "    <tr>\n",
              "      <th>103</th>\n",
              "      <td>0760a852e4e9d89eb77bf631eaaf1c84</td>\n",
              "      <td>d2a79636084590b7465af8ab374a8cf5</td>\n",
              "      <td>invoiced</td>\n",
              "      <td>2018-08-03 17:44:42</td>\n",
              "      <td>2018-08-07 06:15:14</td>\n",
              "      <td>2018-08-21</td>\n",
              "      <td>NaT</td>\n",
              "      <td>NaT</td>\n",
              "      <td>88140</td>\n",
              "      <td>santo amaro da imperatriz</td>\n",
              "      <td>SC</td>\n",
              "    </tr>\n",
              "    <tr>\n",
              "      <th>128</th>\n",
              "      <td>15bed8e2fec7fdbadb186b57c46c92f2</td>\n",
              "      <td>f3f0e613e0bdb9c7cee75504f0f90679</td>\n",
              "      <td>processing</td>\n",
              "      <td>2017-09-03 14:22:03</td>\n",
              "      <td>2017-09-03 14:30:09</td>\n",
              "      <td>2017-10-03</td>\n",
              "      <td>NaT</td>\n",
              "      <td>NaT</td>\n",
              "      <td>3436</td>\n",
              "      <td>sao paulo</td>\n",
              "      <td>SP</td>\n",
              "    </tr>\n",
              "    <tr>\n",
              "      <th>266</th>\n",
              "      <td>8e24261a7e58791d10cb1bf9da94df5c</td>\n",
              "      <td>64a254d30eed42cd0e6c36dddb88adf0</td>\n",
              "      <td>unavailable</td>\n",
              "      <td>2017-11-16 15:09:28</td>\n",
              "      <td>2017-11-16 15:26:57</td>\n",
              "      <td>2017-12-05</td>\n",
              "      <td>NaT</td>\n",
              "      <td>NaT</td>\n",
              "      <td>89288</td>\n",
              "      <td>sao bento do sul</td>\n",
              "      <td>SC</td>\n",
              "    </tr>\n",
              "    <tr>\n",
              "      <th>324</th>\n",
              "      <td>d3c8851a6651eeff2f73b0e011ac45d0</td>\n",
              "      <td>957f8e082185574de25992dc659ebbc0</td>\n",
              "      <td>processing</td>\n",
              "      <td>2016-10-05 22:44:13</td>\n",
              "      <td>2016-10-06 15:51:05</td>\n",
              "      <td>2016-12-09</td>\n",
              "      <td>NaT</td>\n",
              "      <td>NaT</td>\n",
              "      <td>3531</td>\n",
              "      <td>sao paulo</td>\n",
              "      <td>SP</td>\n",
              "    </tr>\n",
              "    <tr>\n",
              "      <th>...</th>\n",
              "      <td>...</td>\n",
              "      <td>...</td>\n",
              "      <td>...</td>\n",
              "      <td>...</td>\n",
              "      <td>...</td>\n",
              "      <td>...</td>\n",
              "      <td>...</td>\n",
              "      <td>...</td>\n",
              "      <td>...</td>\n",
              "      <td>...</td>\n",
              "      <td>...</td>\n",
              "    </tr>\n",
              "    <tr>\n",
              "      <th>99283</th>\n",
              "      <td>3a3cddda5a7c27851bd96c3313412840</td>\n",
              "      <td>0b0d6095c5555fe083844281f6b093bb</td>\n",
              "      <td>canceled</td>\n",
              "      <td>2018-08-31 16:13:44</td>\n",
              "      <td>2018-10-01 00:00:00</td>\n",
              "      <td>NaT</td>\n",
              "      <td>NaT</td>\n",
              "      <td>NaT</td>\n",
              "      <td>11075</td>\n",
              "      <td>santos</td>\n",
              "      <td>SP</td>\n",
              "    </tr>\n",
              "    <tr>\n",
              "      <th>99313</th>\n",
              "      <td>e9e64a17afa9653aacf2616d94c005b8</td>\n",
              "      <td>b4cd0522e632e481f8eaf766a2646e86</td>\n",
              "      <td>processing</td>\n",
              "      <td>2018-01-05 23:07:24</td>\n",
              "      <td>2018-01-09 07:18:05</td>\n",
              "      <td>2018-02-06</td>\n",
              "      <td>NaT</td>\n",
              "      <td>NaT</td>\n",
              "      <td>13050</td>\n",
              "      <td>campinas</td>\n",
              "      <td>SP</td>\n",
              "    </tr>\n",
              "    <tr>\n",
              "      <th>99347</th>\n",
              "      <td>a89abace0dcc01eeb267a9660b5ac126</td>\n",
              "      <td>2f0524a7b1b3845a1a57fcf3910c4333</td>\n",
              "      <td>canceled</td>\n",
              "      <td>2018-09-06 18:45:47</td>\n",
              "      <td>2018-09-27 00:00:00</td>\n",
              "      <td>NaT</td>\n",
              "      <td>NaT</td>\n",
              "      <td>NaT</td>\n",
              "      <td>5344</td>\n",
              "      <td>sao paulo</td>\n",
              "      <td>SP</td>\n",
              "    </tr>\n",
              "    <tr>\n",
              "      <th>99348</th>\n",
              "      <td>a69ba794cc7deb415c3e15a0a3877e69</td>\n",
              "      <td>726f0894b5becdf952ea537d5266e543</td>\n",
              "      <td>unavailable</td>\n",
              "      <td>2017-08-23 16:28:04</td>\n",
              "      <td>2017-08-28 15:44:47</td>\n",
              "      <td>2017-09-15</td>\n",
              "      <td>NaT</td>\n",
              "      <td>NaT</td>\n",
              "      <td>22723</td>\n",
              "      <td>rio de janeiro</td>\n",
              "      <td>RJ</td>\n",
              "    </tr>\n",
              "    <tr>\n",
              "      <th>99415</th>\n",
              "      <td>5fabc81b6322c8443648e1b21a6fef21</td>\n",
              "      <td>32c9df889d41b0ee8309a5efb6855dcb</td>\n",
              "      <td>unavailable</td>\n",
              "      <td>2017-10-10 10:50:03</td>\n",
              "      <td>2017-10-14 18:35:57</td>\n",
              "      <td>2017-10-23</td>\n",
              "      <td>NaT</td>\n",
              "      <td>NaT</td>\n",
              "      <td>18040</td>\n",
              "      <td>sorocaba</td>\n",
              "      <td>SP</td>\n",
              "    </tr>\n",
              "  </tbody>\n",
              "</table>\n",
              "<p>1856 rows × 11 columns</p>\n",
              "</div>"
            ],
            "text/plain": [
              "                              ID_PEDIDO  ... CL_UF\n",
              "6      136cce7faa42fdb2cefd53fdc79a6098  ...    RS\n",
              "103    0760a852e4e9d89eb77bf631eaaf1c84  ...    SC\n",
              "128    15bed8e2fec7fdbadb186b57c46c92f2  ...    SP\n",
              "266    8e24261a7e58791d10cb1bf9da94df5c  ...    SC\n",
              "324    d3c8851a6651eeff2f73b0e011ac45d0  ...    SP\n",
              "...                                 ...  ...   ...\n",
              "99283  3a3cddda5a7c27851bd96c3313412840  ...    SP\n",
              "99313  e9e64a17afa9653aacf2616d94c005b8  ...    SP\n",
              "99347  a89abace0dcc01eeb267a9660b5ac126  ...    SP\n",
              "99348  a69ba794cc7deb415c3e15a0a3877e69  ...    RJ\n",
              "99415  5fabc81b6322c8443648e1b21a6fef21  ...    SP\n",
              "\n",
              "[1856 rows x 11 columns]"
            ]
          },
          "metadata": {
            "tags": []
          },
          "execution_count": 23
        }
      ]
    },
    {
      "cell_type": "markdown",
      "metadata": {
        "id": "QUxWtR6KI7ha"
      },
      "source": [
        "## Identificação dos Outliers"
      ]
    },
    {
      "cell_type": "markdown",
      "metadata": {
        "id": "FUqu4HCbftFc"
      },
      "source": [
        ""
      ]
    },
    {
      "cell_type": "markdown",
      "metadata": {
        "id": "cS_14i_RyR_m"
      },
      "source": [
        "Candidatos a outliers:\n",
        "\n",
        "1) Pedidos sem previsão de entrega cujo status é \"delivered\" ou \"shipped\".\n",
        "\n",
        "2) Pedidos com previsão de entrega mas sem data de envio.\n",
        "\n",
        "3) Pedidos com previsão de entrega cujo status é diferente de \"delivered\" ou shipped\".\n",
        "\n",
        "4) Pedidos com data de entrega cujo status é diferente de \"delivered\" ou \"canceled\".\n",
        "\n",
        "5) Pedidos com data de entrega mas sem data prevista para entrega. ***\n"
      ]
    },
    {
      "cell_type": "code",
      "metadata": {
        "id": "LnG2XFGcgTjF",
        "outputId": "beb26fc5-9a29-4e75-fe8c-9e6d7ba5a703",
        "colab": {
          "base_uri": "https://localhost:8080/",
          "height": 233
        }
      },
      "source": [
        "# Caso 1 : pedidos que foram enviados ou entregues cujas datas de previsão de entrega não estão registradas.\n",
        "df_out1 = df_result[((df_result['STATUS'] == 'shipped') | (df_result['STATUS'] ==  'delivered')) & (df_result['DT_PREVISTA'].isnull())]\n",
        "df_out1.count()"
      ],
      "execution_count": null,
      "outputs": [
        {
          "output_type": "execute_result",
          "data": {
            "text/plain": [
              "ID_PEDIDO      1130\n",
              "ID_CLIENTE     1130\n",
              "STATUS         1130\n",
              "DT_COMPRA      1130\n",
              "DT_APROV       1130\n",
              "DT_ENVIO       1130\n",
              "DT_ENTREGA     1129\n",
              "DT_PREVISTA       0\n",
              "CL_CEP         1130\n",
              "CL_CIDADE      1130\n",
              "CL_UF          1130\n",
              "dtype: int64"
            ]
          },
          "metadata": {
            "tags": []
          },
          "execution_count": 24
        }
      ]
    },
    {
      "cell_type": "code",
      "metadata": {
        "id": "6qgedgk4hZ47",
        "outputId": "d8da6c7b-b00c-4f6f-b234-7572f4fbb782",
        "colab": {
          "base_uri": "https://localhost:8080/",
          "height": 233
        }
      },
      "source": [
        "# Caso 2 : pedidos cujas datas de previsão de entrega estão registradas mas a de envio não.\n",
        "df_out2 = df_result[~(df_result['DT_PREVISTA'].isnull()) & (df_result['DT_ENVIO'].isnull())]\n",
        "df_out2.count()\n"
      ],
      "execution_count": null,
      "outputs": [
        {
          "output_type": "execute_result",
          "data": {
            "text/plain": [
              "ID_PEDIDO      0\n",
              "ID_CLIENTE     0\n",
              "STATUS         0\n",
              "DT_COMPRA      0\n",
              "DT_APROV       0\n",
              "DT_ENVIO       0\n",
              "DT_ENTREGA     0\n",
              "DT_PREVISTA    0\n",
              "CL_CEP         0\n",
              "CL_CIDADE      0\n",
              "CL_UF          0\n",
              "dtype: int64"
            ]
          },
          "metadata": {
            "tags": []
          },
          "execution_count": 25
        }
      ]
    },
    {
      "cell_type": "code",
      "metadata": {
        "id": "6GNnpQ3ok87a",
        "outputId": "92ca6081-b65e-4fa8-f45f-4ffb7969c6f6",
        "colab": {
          "base_uri": "https://localhost:8080/",
          "height": 233
        }
      },
      "source": [
        "# Caso 3 : pedidos que não foram enviados ou entregues cujas datas de previsão de entrega estão registradas.\n",
        "df_out3 = df_result[~((df_result['STATUS'] == 'shipped') | (df_result['STATUS'] ==  'delivered')) & (~df_result['DT_PREVISTA'].isnull())]\n",
        "df_out3.count()\n"
      ],
      "execution_count": null,
      "outputs": [
        {
          "output_type": "execute_result",
          "data": {
            "text/plain": [
              "ID_PEDIDO      6\n",
              "ID_CLIENTE     6\n",
              "STATUS         6\n",
              "DT_COMPRA      6\n",
              "DT_APROV       6\n",
              "DT_ENVIO       6\n",
              "DT_ENTREGA     6\n",
              "DT_PREVISTA    6\n",
              "CL_CEP         6\n",
              "CL_CIDADE      6\n",
              "CL_UF          6\n",
              "dtype: int64"
            ]
          },
          "metadata": {
            "tags": []
          },
          "execution_count": 26
        }
      ]
    },
    {
      "cell_type": "code",
      "metadata": {
        "id": "iPUwU6sRk6Rc",
        "outputId": "5c223c95-bff0-4a8a-f230-d0d2b4d9b8aa",
        "colab": {
          "base_uri": "https://localhost:8080/",
          "height": 233
        }
      },
      "source": [
        "# Caso 4 : Pedidos cujas datas de entrega estão registradas mas o status não foi atualizado.\n",
        "df_out4 = df_result[((df_result['STATUS'] != 'delivered') & (df_result['STATUS'] != 'canceled')) & (~df_result['DT_ENTREGA'].isnull())]\n",
        "df_out4.count()\n"
      ],
      "execution_count": null,
      "outputs": [
        {
          "output_type": "execute_result",
          "data": {
            "text/plain": [
              "ID_PEDIDO      1107\n",
              "ID_CLIENTE     1107\n",
              "STATUS         1107\n",
              "DT_COMPRA      1107\n",
              "DT_APROV       1107\n",
              "DT_ENVIO       1107\n",
              "DT_ENTREGA     1107\n",
              "DT_PREVISTA       0\n",
              "CL_CEP         1107\n",
              "CL_CIDADE      1107\n",
              "CL_UF          1107\n",
              "dtype: int64"
            ]
          },
          "metadata": {
            "tags": []
          },
          "execution_count": 27
        }
      ]
    },
    {
      "cell_type": "code",
      "metadata": {
        "id": "K84GhOmIv-bF",
        "outputId": "4930937c-4e66-491c-e991-d93593d3ac18",
        "colab": {
          "base_uri": "https://localhost:8080/",
          "height": 233
        }
      },
      "source": [
        "# Caso 5 : Pedidos cujas datas de entrega estão registradas mas a data de previsão de entrega não estão.\n",
        "df_out5 = df_result[~(df_result['DT_ENTREGA'].isnull()) & (df_result['DT_PREVISTA'].isnull())]\n",
        "df_out5.count()"
      ],
      "execution_count": null,
      "outputs": [
        {
          "output_type": "execute_result",
          "data": {
            "text/plain": [
              "ID_PEDIDO      1198\n",
              "ID_CLIENTE     1198\n",
              "STATUS         1198\n",
              "DT_COMPRA      1198\n",
              "DT_APROV       1198\n",
              "DT_ENVIO       1198\n",
              "DT_ENTREGA     1198\n",
              "DT_PREVISTA       0\n",
              "CL_CEP         1198\n",
              "CL_CIDADE      1198\n",
              "CL_UF          1198\n",
              "dtype: int64"
            ]
          },
          "metadata": {
            "tags": []
          },
          "execution_count": 28
        }
      ]
    },
    {
      "cell_type": "markdown",
      "metadata": {
        "id": "t_S44hjsMtk0"
      },
      "source": [
        "### Seleção e eliminação dos outliers (1ra. etapa)"
      ]
    },
    {
      "cell_type": "code",
      "metadata": {
        "id": "fLJreBIL6RKk",
        "outputId": "d033b129-e050-499a-d4de-1b071eca0fb5",
        "colab": {
          "base_uri": "https://localhost:8080/",
          "height": 53
        }
      },
      "source": [
        "# Contatenação, classificação e eliminação da linhas duplicadas no dataframe de outliers.\n",
        "\n",
        "df_out = df_out1.append(df_out3.append(df_out4.append(df_out5)))\n",
        "print(df_out.shape)\n",
        "df_out = df_out.sort_values('ID_PEDIDO')\n",
        "df_out = df_out.drop_duplicates()\n",
        "print(df_out.shape)"
      ],
      "execution_count": null,
      "outputs": [
        {
          "output_type": "stream",
          "text": [
            "(3441, 11)\n",
            "(1205, 11)\n"
          ],
          "name": "stdout"
        }
      ]
    },
    {
      "cell_type": "code",
      "metadata": {
        "id": "AD4jkBgOXAkr",
        "outputId": "78c2256a-365d-47e5-beed-31799b4f8fbf",
        "colab": {
          "base_uri": "https://localhost:8080/",
          "height": 89
        }
      },
      "source": [
        "# Remoção das linhas consideradas outliers.\n",
        "idx_outliers = df_out.index\n",
        "print('\\n percentual de linhas descartadas: ', (len(idx_outliers)/df_result.shape[0]))\n",
        "df_result = df_result.drop(index=idx_outliers)\n",
        "print('\\n qtde. de linhas do dataframe após a análise quantitativa : ', df_result.shape[0])"
      ],
      "execution_count": null,
      "outputs": [
        {
          "output_type": "stream",
          "text": [
            "\n",
            " percentual de linhas descartadas:  0.012117738156293682\n",
            "\n",
            " qtde. de linhas do dataframe após a análise quantitativa :  98236\n"
          ],
          "name": "stdout"
        }
      ]
    },
    {
      "cell_type": "markdown",
      "metadata": {
        "id": "dqGAg3ZGwd0_"
      },
      "source": [
        "### Análise qualitativa do dataframe"
      ]
    },
    {
      "cell_type": "markdown",
      "metadata": {
        "id": "KYKnNEM2gYzg"
      },
      "source": [
        "Verificar qualidade das datas registradas\n",
        "\n",
        "Pergunta : existem datas de entrega ou de previsão de entrega anterior a data de envio ?"
      ]
    },
    {
      "cell_type": "code",
      "metadata": {
        "id": "2aQ_aT2zwLdN",
        "outputId": "34ac7205-56b6-406e-f8c3-e92fbd4a65e1",
        "colab": {
          "base_uri": "https://localhost:8080/",
          "height": 377
        }
      },
      "source": [
        "# Obs: O boxplot (demonstra os outliers) não trabalha bem com datas.\n",
        "# Estratégia: calcular o tempo de entrega previsto e do tempo de transporte efetivo, em quantidade de dias corridos.\n",
        "\n",
        "from datetime import datetime\n",
        "from datetime import date\n",
        "df_result['TP_PREV'] = (df_result.DT_PREVISTA - df_result.DT_ENVIO).astype('timedelta64[D]')\n",
        "df_result['TP_TRSP'] = (df_result.DT_ENTREGA - df_result.DT_ENVIO).astype('timedelta64[D]')\n",
        "df_result.info()"
      ],
      "execution_count": null,
      "outputs": [
        {
          "output_type": "stream",
          "text": [
            "<class 'pandas.core.frame.DataFrame'>\n",
            "Int64Index: 98236 entries, 0 to 99440\n",
            "Data columns (total 13 columns):\n",
            " #   Column       Non-Null Count  Dtype         \n",
            "---  ------       --------------  -----         \n",
            " 0   ID_PEDIDO    98236 non-null  object        \n",
            " 1   ID_CLIENTE   98236 non-null  object        \n",
            " 2   STATUS       98236 non-null  object        \n",
            " 3   DT_COMPRA    98236 non-null  datetime64[ns]\n",
            " 4   DT_APROV     98236 non-null  datetime64[ns]\n",
            " 5   DT_ENVIO     98090 non-null  datetime64[ns]\n",
            " 6   DT_ENTREGA   96455 non-null  datetime64[ns]\n",
            " 7   DT_PREVISTA  96455 non-null  datetime64[ns]\n",
            " 8   CL_CEP       98236 non-null  int64         \n",
            " 9   CL_CIDADE    98236 non-null  object        \n",
            " 10  CL_UF        98236 non-null  object        \n",
            " 11  TP_PREV      96455 non-null  float64       \n",
            " 12  TP_TRSP      96455 non-null  float64       \n",
            "dtypes: datetime64[ns](5), float64(2), int64(1), object(5)\n",
            "memory usage: 10.5+ MB\n"
          ],
          "name": "stdout"
        }
      ]
    },
    {
      "cell_type": "markdown",
      "metadata": {
        "id": "47WSCDJCLriU"
      },
      "source": [
        "Análise das métricas de logistica (em dias)"
      ]
    },
    {
      "cell_type": "code",
      "metadata": {
        "id": "vvh8jiB67An-",
        "outputId": "2f887827-14c2-427b-a277-fe1e0f77fc1b",
        "colab": {
          "base_uri": "https://localhost:8080/",
          "height": 394
        }
      },
      "source": [
        "df_result.head()"
      ],
      "execution_count": null,
      "outputs": [
        {
          "output_type": "execute_result",
          "data": {
            "text/html": [
              "<div>\n",
              "<style scoped>\n",
              "    .dataframe tbody tr th:only-of-type {\n",
              "        vertical-align: middle;\n",
              "    }\n",
              "\n",
              "    .dataframe tbody tr th {\n",
              "        vertical-align: top;\n",
              "    }\n",
              "\n",
              "    .dataframe thead th {\n",
              "        text-align: right;\n",
              "    }\n",
              "</style>\n",
              "<table border=\"1\" class=\"dataframe\">\n",
              "  <thead>\n",
              "    <tr style=\"text-align: right;\">\n",
              "      <th></th>\n",
              "      <th>ID_PEDIDO</th>\n",
              "      <th>ID_CLIENTE</th>\n",
              "      <th>STATUS</th>\n",
              "      <th>DT_COMPRA</th>\n",
              "      <th>DT_APROV</th>\n",
              "      <th>DT_ENVIO</th>\n",
              "      <th>DT_ENTREGA</th>\n",
              "      <th>DT_PREVISTA</th>\n",
              "      <th>CL_CEP</th>\n",
              "      <th>CL_CIDADE</th>\n",
              "      <th>CL_UF</th>\n",
              "      <th>TP_PREV</th>\n",
              "      <th>TP_TRSP</th>\n",
              "    </tr>\n",
              "  </thead>\n",
              "  <tbody>\n",
              "    <tr>\n",
              "      <th>0</th>\n",
              "      <td>e481f51cbdc54678b7cc49136f2d6af7</td>\n",
              "      <td>9ef432eb6251297304e76186b10a928d</td>\n",
              "      <td>delivered</td>\n",
              "      <td>2017-10-02 10:56:33</td>\n",
              "      <td>2017-10-02 11:07:15</td>\n",
              "      <td>2017-10-04 19:55:00</td>\n",
              "      <td>2017-10-10 21:25:13</td>\n",
              "      <td>2017-10-18</td>\n",
              "      <td>3149</td>\n",
              "      <td>sao paulo</td>\n",
              "      <td>SP</td>\n",
              "      <td>13.00000</td>\n",
              "      <td>6.00000</td>\n",
              "    </tr>\n",
              "    <tr>\n",
              "      <th>1</th>\n",
              "      <td>53cdb2fc8bc7dce0b6741e2150273451</td>\n",
              "      <td>b0830fb4747a6c6d20dea0b8c802d7ef</td>\n",
              "      <td>delivered</td>\n",
              "      <td>2018-07-24 20:41:37</td>\n",
              "      <td>2018-07-26 03:24:27</td>\n",
              "      <td>2018-07-26 14:31:00</td>\n",
              "      <td>2018-08-07 15:27:45</td>\n",
              "      <td>2018-08-13</td>\n",
              "      <td>47813</td>\n",
              "      <td>barreiras</td>\n",
              "      <td>BA</td>\n",
              "      <td>17.00000</td>\n",
              "      <td>12.00000</td>\n",
              "    </tr>\n",
              "    <tr>\n",
              "      <th>2</th>\n",
              "      <td>47770eb9100c2d0c44946d9cf07ec65d</td>\n",
              "      <td>41ce2a54c0b03bf3443c3d931a367089</td>\n",
              "      <td>delivered</td>\n",
              "      <td>2018-08-08 08:38:49</td>\n",
              "      <td>2018-08-08 08:55:23</td>\n",
              "      <td>2018-08-08 13:50:00</td>\n",
              "      <td>2018-08-17 18:06:29</td>\n",
              "      <td>2018-09-04</td>\n",
              "      <td>75265</td>\n",
              "      <td>vianopolis</td>\n",
              "      <td>GO</td>\n",
              "      <td>26.00000</td>\n",
              "      <td>9.00000</td>\n",
              "    </tr>\n",
              "    <tr>\n",
              "      <th>3</th>\n",
              "      <td>949d5b44dbf5de918fe9c16f97b45f8a</td>\n",
              "      <td>f88197465ea7920adcdbec7375364d82</td>\n",
              "      <td>delivered</td>\n",
              "      <td>2017-11-18 19:28:06</td>\n",
              "      <td>2017-11-18 19:45:59</td>\n",
              "      <td>2017-11-22 13:39:59</td>\n",
              "      <td>2017-12-02 00:28:42</td>\n",
              "      <td>2017-12-15</td>\n",
              "      <td>59296</td>\n",
              "      <td>sao goncalo do amarante</td>\n",
              "      <td>RN</td>\n",
              "      <td>22.00000</td>\n",
              "      <td>9.00000</td>\n",
              "    </tr>\n",
              "    <tr>\n",
              "      <th>4</th>\n",
              "      <td>ad21c59c0840e6cb83a9ceb5573f8159</td>\n",
              "      <td>8ab97904e6daea8866dbdbc4fb7aad2c</td>\n",
              "      <td>delivered</td>\n",
              "      <td>2018-02-13 21:18:39</td>\n",
              "      <td>2018-02-13 22:20:29</td>\n",
              "      <td>2018-02-14 19:46:34</td>\n",
              "      <td>2018-02-16 18:17:02</td>\n",
              "      <td>2018-02-26</td>\n",
              "      <td>9195</td>\n",
              "      <td>santo andre</td>\n",
              "      <td>SP</td>\n",
              "      <td>11.00000</td>\n",
              "      <td>1.00000</td>\n",
              "    </tr>\n",
              "  </tbody>\n",
              "</table>\n",
              "</div>"
            ],
            "text/plain": [
              "                          ID_PEDIDO  ...  TP_TRSP\n",
              "0  e481f51cbdc54678b7cc49136f2d6af7  ...  6.00000\n",
              "1  53cdb2fc8bc7dce0b6741e2150273451  ... 12.00000\n",
              "2  47770eb9100c2d0c44946d9cf07ec65d  ...  9.00000\n",
              "3  949d5b44dbf5de918fe9c16f97b45f8a  ...  9.00000\n",
              "4  ad21c59c0840e6cb83a9ceb5573f8159  ...  1.00000\n",
              "\n",
              "[5 rows x 13 columns]"
            ]
          },
          "metadata": {
            "tags": []
          },
          "execution_count": 32
        }
      ]
    },
    {
      "cell_type": "markdown",
      "metadata": {
        "id": "FOMITjqcNv21"
      },
      "source": [
        "Verificação das médias, medianas, percentis, máximos e mínimos."
      ]
    },
    {
      "cell_type": "code",
      "metadata": {
        "id": "IGRpfpEan9DO",
        "outputId": "7686fbbb-6f9f-464d-f226-9994d45202bd",
        "colab": {
          "base_uri": "https://localhost:8080/",
          "height": 297
        }
      },
      "source": [
        "df_result.describe()   # Revelando os outliers ..."
      ],
      "execution_count": null,
      "outputs": [
        {
          "output_type": "execute_result",
          "data": {
            "text/html": [
              "<div>\n",
              "<style scoped>\n",
              "    .dataframe tbody tr th:only-of-type {\n",
              "        vertical-align: middle;\n",
              "    }\n",
              "\n",
              "    .dataframe tbody tr th {\n",
              "        vertical-align: top;\n",
              "    }\n",
              "\n",
              "    .dataframe thead th {\n",
              "        text-align: right;\n",
              "    }\n",
              "</style>\n",
              "<table border=\"1\" class=\"dataframe\">\n",
              "  <thead>\n",
              "    <tr style=\"text-align: right;\">\n",
              "      <th></th>\n",
              "      <th>CL_CEP</th>\n",
              "      <th>TP_PREV</th>\n",
              "      <th>TP_TRSP</th>\n",
              "    </tr>\n",
              "  </thead>\n",
              "  <tbody>\n",
              "    <tr>\n",
              "      <th>count</th>\n",
              "      <td>98236.00000</td>\n",
              "      <td>96455.00000</td>\n",
              "      <td>96455.00000</td>\n",
              "    </tr>\n",
              "    <tr>\n",
              "      <th>mean</th>\n",
              "      <td>35135.97082</td>\n",
              "      <td>20.15723</td>\n",
              "      <td>8.87814</td>\n",
              "    </tr>\n",
              "    <tr>\n",
              "      <th>std</th>\n",
              "      <td>29833.19452</td>\n",
              "      <td>8.75584</td>\n",
              "      <td>8.74647</td>\n",
              "    </tr>\n",
              "    <tr>\n",
              "      <th>min</th>\n",
              "      <td>1003.00000</td>\n",
              "      <td>-100.00000</td>\n",
              "      <td>-17.00000</td>\n",
              "    </tr>\n",
              "    <tr>\n",
              "      <th>25%</th>\n",
              "      <td>11320.00000</td>\n",
              "      <td>14.00000</td>\n",
              "      <td>4.00000</td>\n",
              "    </tr>\n",
              "    <tr>\n",
              "      <th>50%</th>\n",
              "      <td>24360.00000</td>\n",
              "      <td>20.00000</td>\n",
              "      <td>7.00000</td>\n",
              "    </tr>\n",
              "    <tr>\n",
              "      <th>75%</th>\n",
              "      <td>58970.00000</td>\n",
              "      <td>25.00000</td>\n",
              "      <td>12.00000</td>\n",
              "    </tr>\n",
              "    <tr>\n",
              "      <th>max</th>\n",
              "      <td>99980.00000</td>\n",
              "      <td>192.00000</td>\n",
              "      <td>205.00000</td>\n",
              "    </tr>\n",
              "  </tbody>\n",
              "</table>\n",
              "</div>"
            ],
            "text/plain": [
              "           CL_CEP     TP_PREV     TP_TRSP\n",
              "count 98236.00000 96455.00000 96455.00000\n",
              "mean  35135.97082    20.15723     8.87814\n",
              "std   29833.19452     8.75584     8.74647\n",
              "min    1003.00000  -100.00000   -17.00000\n",
              "25%   11320.00000    14.00000     4.00000\n",
              "50%   24360.00000    20.00000     7.00000\n",
              "75%   58970.00000    25.00000    12.00000\n",
              "max   99980.00000   192.00000   205.00000"
            ]
          },
          "metadata": {
            "tags": []
          },
          "execution_count": 33
        }
      ]
    },
    {
      "cell_type": "code",
      "metadata": {
        "id": "6_aFowAepWjD",
        "outputId": "b45c0a60-0cd7-475c-9e51-2f2cc46ee3a2",
        "colab": {
          "base_uri": "https://localhost:8080/",
          "height": 334
        }
      },
      "source": [
        "import seaborn as sns\n",
        "#sns.boxplot(x=df_result.TP_PREV, orient='vertical', color='violet' )\n",
        "sns.boxplot(x=df_result.TP_PREV, orient=\"v\", color='violet' )"
      ],
      "execution_count": null,
      "outputs": [
        {
          "output_type": "stream",
          "text": [
            "/usr/local/lib/python3.6/dist-packages/seaborn/_core.py:1303: UserWarning: Vertical orientation ignored with only `x` specified.\n",
            "  warnings.warn(single_var_warning.format(\"Vertical\", \"x\"))\n"
          ],
          "name": "stderr"
        },
        {
          "output_type": "execute_result",
          "data": {
            "text/plain": [
              "<matplotlib.axes._subplots.AxesSubplot at 0x7fa50a249dd8>"
            ]
          },
          "metadata": {
            "tags": []
          },
          "execution_count": 66
        },
        {
          "output_type": "display_data",
          "data": {
            "image/png": "[encoded data removed]",
            "text/plain": [
              "<Figure size 432x288 with 1 Axes>"
            ]
          },
          "metadata": {
            "tags": [],
            "needs_background": "light"
          }
        }
      ]
    },
    {
      "cell_type": "code",
      "metadata": {
        "id": "WFw2Tl4Arnrp",
        "outputId": "4eeac98b-807e-468a-e99f-f5f75bba1135",
        "colab": {
          "base_uri": "https://localhost:8080/",
          "height": 334
        }
      },
      "source": [
        "sns.boxplot(x=df_result.TP_TRSP, orient='vertical', color='yellow')"
      ],
      "execution_count": null,
      "outputs": [
        {
          "output_type": "stream",
          "text": [
            "/usr/local/lib/python3.6/dist-packages/seaborn/_core.py:1303: UserWarning: Vertical orientation ignored with only `x` specified.\n",
            "  warnings.warn(single_var_warning.format(\"Vertical\", \"x\"))\n"
          ],
          "name": "stderr"
        },
        {
          "output_type": "execute_result",
          "data": {
            "text/plain": [
              "<matplotlib.axes._subplots.AxesSubplot at 0x7fa50b80e8d0>"
            ]
          },
          "metadata": {
            "tags": []
          },
          "execution_count": 57
        },
        {
          "output_type": "display_data",
          "data": {
            "image/png": "[encoded data removed]",
            "text/plain": [
              "<Figure size 432x288 with 1 Axes>"
            ]
          },
          "metadata": {
            "tags": [],
            "needs_background": "light"
          }
        }
      ]
    },
    {
      "cell_type": "code",
      "metadata": {
        "id": "Ait8RTUxr_kr",
        "outputId": "4d58a30d-fad2-423e-f5c1-ff3e1666695a",
        "colab": {
          "base_uri": "https://localhost:8080/",
          "height": 370
        }
      },
      "source": [
        "sns.violinplot(x=df_result.TP_PREV, orient='vertical', color='violet' )\n",
        "sns.violinplot(x=df_result.TP_TRSP, orient='vertical', color='yellow')\n"
      ],
      "execution_count": null,
      "outputs": [
        {
          "output_type": "stream",
          "text": [
            "/usr/local/lib/python3.6/dist-packages/seaborn/_core.py:1303: UserWarning: Vertical orientation ignored with only `x` specified.\n",
            "  warnings.warn(single_var_warning.format(\"Vertical\", \"x\"))\n",
            "/usr/local/lib/python3.6/dist-packages/seaborn/_core.py:1303: UserWarning: Vertical orientation ignored with only `x` specified.\n",
            "  warnings.warn(single_var_warning.format(\"Vertical\", \"x\"))\n"
          ],
          "name": "stderr"
        },
        {
          "output_type": "execute_result",
          "data": {
            "text/plain": [
              "<matplotlib.axes._subplots.AxesSubplot at 0x7fa50b2e22e8>"
            ]
          },
          "metadata": {
            "tags": []
          },
          "execution_count": 36
        },
        {
          "output_type": "display_data",
          "data": {
            "image/png": "[encoded data removed]",
            "text/plain": [
              "<Figure size 432x288 with 1 Axes>"
            ]
          },
          "metadata": {
            "tags": [],
            "needs_background": "light"
          }
        }
      ]
    },
    {
      "cell_type": "markdown",
      "metadata": {
        "id": "GxZiViGDzVG7"
      },
      "source": [
        "### Resposta às pergutas objetivas:\n",
        "\n",
        "A) Existem distorções na base de dados da Olist em relação às operações de ligísticas.\n",
        "\n",
        "R: Sim. Os outliers evidenciam que alguns dados foram registrados erroneamente gerando inclusive tempos negativos.\n",
        "\n",
        "B) A relação entre a Previsão de Entrega e a Entrega Efetiva está adequada?\n",
        "\n",
        "R: Não está ruim, mas é pode melhorar...\n",
        "\n",
        "C) Quais seriam as métricas razoáveis para previsão e execução dos serviços de entrega? \n",
        "\n",
        "R: Uma previsão até 45 dias e prazo de entrega até 90 dias seria uma métrica aceitável (sugestão).\n"
      ]
    },
    {
      "cell_type": "markdown",
      "metadata": {
        "id": "ijRUxxtzaqq_"
      },
      "source": [
        "## Identificação e eliminação dos outliers restantes"
      ]
    },
    {
      "cell_type": "code",
      "metadata": {
        "id": "_J687SpRNhPV",
        "outputId": "b8c31ed9-8a91-4980-d26d-af14c37737ec",
        "colab": {
          "base_uri": "https://localhost:8080/",
          "height": 287
        }
      },
      "source": [
        "# Verficação da quantidade pedidos que ainda não foram enviados (tempo de transporte e de previsão nulos)\n",
        "print(df_result.shape)\n",
        "df_result.isnull().sum() "
      ],
      "execution_count": null,
      "outputs": [
        {
          "output_type": "stream",
          "text": [
            "(98236, 13)\n"
          ],
          "name": "stdout"
        },
        {
          "output_type": "execute_result",
          "data": {
            "text/plain": [
              "ID_PEDIDO         0\n",
              "ID_CLIENTE        0\n",
              "STATUS            0\n",
              "DT_COMPRA         0\n",
              "DT_APROV          0\n",
              "DT_ENVIO        146\n",
              "DT_ENTREGA     1781\n",
              "DT_PREVISTA    1781\n",
              "CL_CEP            0\n",
              "CL_CIDADE         0\n",
              "CL_UF             0\n",
              "TP_PREV        1781\n",
              "TP_TRSP        1781\n",
              "dtype: int64"
            ]
          },
          "metadata": {
            "tags": []
          },
          "execution_count": 37
        }
      ]
    },
    {
      "cell_type": "code",
      "metadata": {
        "id": "1Uz44r2ii3hE",
        "outputId": "bed229c9-973c-411d-c058-5adfbed48eb6",
        "colab": {
          "base_uri": "https://localhost:8080/",
          "height": 394
        }
      },
      "source": [
        "# Identificação de outros tipos de outliers (tempo de previsão de entrega negativo)\n",
        "\n",
        "df_result[(df_result['TP_PREV'] < 0)].head()"
      ],
      "execution_count": null,
      "outputs": [
        {
          "output_type": "execute_result",
          "data": {
            "text/html": [
              "<div>\n",
              "<style scoped>\n",
              "    .dataframe tbody tr th:only-of-type {\n",
              "        vertical-align: middle;\n",
              "    }\n",
              "\n",
              "    .dataframe tbody tr th {\n",
              "        vertical-align: top;\n",
              "    }\n",
              "\n",
              "    .dataframe thead th {\n",
              "        text-align: right;\n",
              "    }\n",
              "</style>\n",
              "<table border=\"1\" class=\"dataframe\">\n",
              "  <thead>\n",
              "    <tr style=\"text-align: right;\">\n",
              "      <th></th>\n",
              "      <th>ID_PEDIDO</th>\n",
              "      <th>ID_CLIENTE</th>\n",
              "      <th>STATUS</th>\n",
              "      <th>DT_COMPRA</th>\n",
              "      <th>DT_APROV</th>\n",
              "      <th>DT_ENVIO</th>\n",
              "      <th>DT_ENTREGA</th>\n",
              "      <th>DT_PREVISTA</th>\n",
              "      <th>CL_CEP</th>\n",
              "      <th>CL_CIDADE</th>\n",
              "      <th>CL_UF</th>\n",
              "      <th>TP_PREV</th>\n",
              "      <th>TP_TRSP</th>\n",
              "    </tr>\n",
              "  </thead>\n",
              "  <tbody>\n",
              "    <tr>\n",
              "      <th>20</th>\n",
              "      <td>203096f03d82e0dffbc41ebc2e2bcfb7</td>\n",
              "      <td>d2b091571da224a1b36412c18bc3bbfe</td>\n",
              "      <td>delivered</td>\n",
              "      <td>2017-09-18 14:31:30</td>\n",
              "      <td>2017-09-19 04:04:09</td>\n",
              "      <td>2017-10-06 17:50:03</td>\n",
              "      <td>2017-10-09 22:23:46</td>\n",
              "      <td>2017-09-28</td>\n",
              "      <td>4001</td>\n",
              "      <td>sao paulo</td>\n",
              "      <td>SP</td>\n",
              "      <td>-9.00000</td>\n",
              "      <td>3.00000</td>\n",
              "    </tr>\n",
              "    <tr>\n",
              "      <th>102</th>\n",
              "      <td>a5474c0071dd5d1074e12d417078bbd0</td>\n",
              "      <td>ef15b3240b2083e0487762ee2978d2b8</td>\n",
              "      <td>delivered</td>\n",
              "      <td>2018-07-30 22:41:44</td>\n",
              "      <td>2018-08-01 02:50:15</td>\n",
              "      <td>2018-08-02 10:35:00</td>\n",
              "      <td>2018-08-03 19:28:47</td>\n",
              "      <td>2018-08-02</td>\n",
              "      <td>6434</td>\n",
              "      <td>barueri</td>\n",
              "      <td>SP</td>\n",
              "      <td>-1.00000</td>\n",
              "      <td>1.00000</td>\n",
              "    </tr>\n",
              "    <tr>\n",
              "      <th>711</th>\n",
              "      <td>234c056c50619f48da64f731c48242b4</td>\n",
              "      <td>44e460a655f7154ccd9faa4dbbbaf68a</td>\n",
              "      <td>delivered</td>\n",
              "      <td>2018-08-14 14:49:15</td>\n",
              "      <td>2018-08-15 03:15:15</td>\n",
              "      <td>2018-08-31 15:25:00</td>\n",
              "      <td>2018-09-01 18:14:42</td>\n",
              "      <td>2018-08-23</td>\n",
              "      <td>7074</td>\n",
              "      <td>guarulhos</td>\n",
              "      <td>SP</td>\n",
              "      <td>-9.00000</td>\n",
              "      <td>1.00000</td>\n",
              "    </tr>\n",
              "    <tr>\n",
              "      <th>755</th>\n",
              "      <td>4190ab61a7fced69f3ee84d1da1120cc</td>\n",
              "      <td>3df7ff0b86935d5249e4d6cd56b89131</td>\n",
              "      <td>delivered</td>\n",
              "      <td>2017-12-08 11:38:00</td>\n",
              "      <td>2017-12-09 02:36:21</td>\n",
              "      <td>2018-01-12 00:35:33</td>\n",
              "      <td>2018-01-31 19:08:40</td>\n",
              "      <td>2018-01-11</td>\n",
              "      <td>45818</td>\n",
              "      <td>trancoso</td>\n",
              "      <td>BA</td>\n",
              "      <td>-2.00000</td>\n",
              "      <td>19.00000</td>\n",
              "    </tr>\n",
              "    <tr>\n",
              "      <th>757</th>\n",
              "      <td>a06c43ed81f5c604287461f4d21949ce</td>\n",
              "      <td>da82d24c21654f951fedc813df8a5dc6</td>\n",
              "      <td>delivered</td>\n",
              "      <td>2017-10-24 17:39:10</td>\n",
              "      <td>2017-10-24 17:56:20</td>\n",
              "      <td>2017-11-20 21:15:00</td>\n",
              "      <td>2017-11-23 21:48:41</td>\n",
              "      <td>2017-11-17</td>\n",
              "      <td>89015</td>\n",
              "      <td>blumenau</td>\n",
              "      <td>SC</td>\n",
              "      <td>-4.00000</td>\n",
              "      <td>3.00000</td>\n",
              "    </tr>\n",
              "  </tbody>\n",
              "</table>\n",
              "</div>"
            ],
            "text/plain": [
              "                            ID_PEDIDO  ...  TP_TRSP\n",
              "20   203096f03d82e0dffbc41ebc2e2bcfb7  ...  3.00000\n",
              "102  a5474c0071dd5d1074e12d417078bbd0  ...  1.00000\n",
              "711  234c056c50619f48da64f731c48242b4  ...  1.00000\n",
              "755  4190ab61a7fced69f3ee84d1da1120cc  ... 19.00000\n",
              "757  a06c43ed81f5c604287461f4d21949ce  ...  3.00000\n",
              "\n",
              "[5 rows x 13 columns]"
            ]
          },
          "metadata": {
            "tags": []
          },
          "execution_count": 38
        }
      ]
    },
    {
      "cell_type": "code",
      "metadata": {
        "id": "XKj3FTuoeH-M",
        "outputId": "e3e45841-e359-4463-cc28-df5df63f714f",
        "colab": {
          "base_uri": "https://localhost:8080/",
          "height": 394
        }
      },
      "source": [
        "# Identificação de outros tipos de outliers (tempo de transporte negativo)\n",
        "\n",
        "df_result[(df_result['TP_TRSP'] < 0)].head()"
      ],
      "execution_count": null,
      "outputs": [
        {
          "output_type": "execute_result",
          "data": {
            "text/html": [
              "<div>\n",
              "<style scoped>\n",
              "    .dataframe tbody tr th:only-of-type {\n",
              "        vertical-align: middle;\n",
              "    }\n",
              "\n",
              "    .dataframe tbody tr th {\n",
              "        vertical-align: top;\n",
              "    }\n",
              "\n",
              "    .dataframe thead th {\n",
              "        text-align: right;\n",
              "    }\n",
              "</style>\n",
              "<table border=\"1\" class=\"dataframe\">\n",
              "  <thead>\n",
              "    <tr style=\"text-align: right;\">\n",
              "      <th></th>\n",
              "      <th>ID_PEDIDO</th>\n",
              "      <th>ID_CLIENTE</th>\n",
              "      <th>STATUS</th>\n",
              "      <th>DT_COMPRA</th>\n",
              "      <th>DT_APROV</th>\n",
              "      <th>DT_ENVIO</th>\n",
              "      <th>DT_ENTREGA</th>\n",
              "      <th>DT_PREVISTA</th>\n",
              "      <th>CL_CEP</th>\n",
              "      <th>CL_CIDADE</th>\n",
              "      <th>CL_UF</th>\n",
              "      <th>TP_PREV</th>\n",
              "      <th>TP_TRSP</th>\n",
              "    </tr>\n",
              "  </thead>\n",
              "  <tbody>\n",
              "    <tr>\n",
              "      <th>6437</th>\n",
              "      <td>a1abeb653a4d4cd1e142ccb8c82cd069</td>\n",
              "      <td>5f50465da00b7fed5dd1239f4ecf6e2c</td>\n",
              "      <td>delivered</td>\n",
              "      <td>2017-07-20 11:20:52</td>\n",
              "      <td>2017-07-21 06:43:14</td>\n",
              "      <td>2017-07-28 16:57:58</td>\n",
              "      <td>2017-07-25 19:32:56</td>\n",
              "      <td>2017-08-14</td>\n",
              "      <td>18550</td>\n",
              "      <td>boituva</td>\n",
              "      <td>SP</td>\n",
              "      <td>16.00000</td>\n",
              "      <td>-3.00000</td>\n",
              "    </tr>\n",
              "    <tr>\n",
              "      <th>9553</th>\n",
              "      <td>383aa8b2724fe452d9ccd9934a8c628b</td>\n",
              "      <td>b1cb2f9d7a19480f3749e248db14d58f</td>\n",
              "      <td>delivered</td>\n",
              "      <td>2017-07-02 20:58:43</td>\n",
              "      <td>2017-07-02 21:10:20</td>\n",
              "      <td>2017-07-07 17:22:41</td>\n",
              "      <td>2017-07-06 14:27:51</td>\n",
              "      <td>2017-07-21</td>\n",
              "      <td>33600</td>\n",
              "      <td>pedro leopoldo</td>\n",
              "      <td>MG</td>\n",
              "      <td>13.00000</td>\n",
              "      <td>-2.00000</td>\n",
              "    </tr>\n",
              "    <tr>\n",
              "      <th>13487</th>\n",
              "      <td>cb1134f9010d242e9515ad1c78ec0c39</td>\n",
              "      <td>2fd33ac77677bd214b1882868317eeed</td>\n",
              "      <td>delivered</td>\n",
              "      <td>2017-07-16 12:35:34</td>\n",
              "      <td>2017-07-18 06:03:50</td>\n",
              "      <td>2017-07-20 19:22:02</td>\n",
              "      <td>2017-07-19 14:13:28</td>\n",
              "      <td>2017-08-08</td>\n",
              "      <td>9791</td>\n",
              "      <td>sao bernardo do campo</td>\n",
              "      <td>SP</td>\n",
              "      <td>18.00000</td>\n",
              "      <td>-2.00000</td>\n",
              "    </tr>\n",
              "    <tr>\n",
              "      <th>14474</th>\n",
              "      <td>dceb62e8fa94b46006c9554fed743df0</td>\n",
              "      <td>2721900eb4e0f1cc2c836dd7bc1b1e11</td>\n",
              "      <td>delivered</td>\n",
              "      <td>2017-07-20 20:58:05</td>\n",
              "      <td>2017-07-22 11:45:11</td>\n",
              "      <td>2017-08-01 18:23:30</td>\n",
              "      <td>2017-07-26 18:09:10</td>\n",
              "      <td>2017-08-11</td>\n",
              "      <td>36500</td>\n",
              "      <td>uba</td>\n",
              "      <td>MG</td>\n",
              "      <td>9.00000</td>\n",
              "      <td>-7.00000</td>\n",
              "    </tr>\n",
              "    <tr>\n",
              "      <th>19268</th>\n",
              "      <td>5f9d46795c3126674e52becb3a1a517f</td>\n",
              "      <td>79287bcaafdde5c793b996fc40bb7d9f</td>\n",
              "      <td>delivered</td>\n",
              "      <td>2017-07-18 11:48:20</td>\n",
              "      <td>2017-07-18 12:03:29</td>\n",
              "      <td>2017-07-20 23:03:42</td>\n",
              "      <td>2017-07-20 18:52:41</td>\n",
              "      <td>2017-07-31</td>\n",
              "      <td>8790</td>\n",
              "      <td>mogi das cruzes</td>\n",
              "      <td>SP</td>\n",
              "      <td>10.00000</td>\n",
              "      <td>-1.00000</td>\n",
              "    </tr>\n",
              "  </tbody>\n",
              "</table>\n",
              "</div>"
            ],
            "text/plain": [
              "                              ID_PEDIDO  ...  TP_TRSP\n",
              "6437   a1abeb653a4d4cd1e142ccb8c82cd069  ... -3.00000\n",
              "9553   383aa8b2724fe452d9ccd9934a8c628b  ... -2.00000\n",
              "13487  cb1134f9010d242e9515ad1c78ec0c39  ... -2.00000\n",
              "14474  dceb62e8fa94b46006c9554fed743df0  ... -7.00000\n",
              "19268  5f9d46795c3126674e52becb3a1a517f  ... -1.00000\n",
              "\n",
              "[5 rows x 13 columns]"
            ]
          },
          "metadata": {
            "tags": []
          },
          "execution_count": 39
        }
      ]
    },
    {
      "cell_type": "code",
      "metadata": {
        "id": "PUd2UYHAeIv8",
        "outputId": "0aaaf1fe-43e1-44de-b023-2517062811d4",
        "colab": {
          "base_uri": "https://localhost:8080/",
          "height": 269
        }
      },
      "source": [
        "# Contagem dos outliers identificados \n",
        "\n",
        "df_result[(df_result['TP_PREV'] < 0) | (df_result['TP_TRSP'] < 0)].count()"
      ],
      "execution_count": null,
      "outputs": [
        {
          "output_type": "execute_result",
          "data": {
            "text/plain": [
              "ID_PEDIDO      488\n",
              "ID_CLIENTE     488\n",
              "STATUS         488\n",
              "DT_COMPRA      488\n",
              "DT_APROV       488\n",
              "DT_ENVIO       488\n",
              "DT_ENTREGA     488\n",
              "DT_PREVISTA    488\n",
              "CL_CEP         488\n",
              "CL_CIDADE      488\n",
              "CL_UF          488\n",
              "TP_PREV        488\n",
              "TP_TRSP        488\n",
              "dtype: int64"
            ]
          },
          "metadata": {
            "tags": []
          },
          "execution_count": 40
        }
      ]
    },
    {
      "cell_type": "code",
      "metadata": {
        "id": "OemBeM2YSIv-",
        "outputId": "34697709-850d-4c11-b017-d6d76b3eea65",
        "colab": {
          "base_uri": "https://localhost:8080/",
          "height": 269
        }
      },
      "source": [
        "# Identificação de outros tipos de outliers (métricas para previsão e transporte)\n",
        "\n",
        "# Definição das métricas:    previsão < 45 dias    e    transporte <  90 dias.\n",
        "\n",
        "df_result[(df_result['TP_PREV'] > 45) | (df_result['TP_TRSP'] > 90)].count()\n"
      ],
      "execution_count": null,
      "outputs": [
        {
          "output_type": "execute_result",
          "data": {
            "text/plain": [
              "ID_PEDIDO      940\n",
              "ID_CLIENTE     940\n",
              "STATUS         940\n",
              "DT_COMPRA      940\n",
              "DT_APROV       940\n",
              "DT_ENVIO       940\n",
              "DT_ENTREGA     940\n",
              "DT_PREVISTA    940\n",
              "CL_CEP         940\n",
              "CL_CIDADE      940\n",
              "CL_UF          940\n",
              "TP_PREV        940\n",
              "TP_TRSP        940\n",
              "dtype: int64"
            ]
          },
          "metadata": {
            "tags": []
          },
          "execution_count": 41
        }
      ]
    },
    {
      "cell_type": "code",
      "metadata": {
        "id": "SJ2lYkfG5G_z",
        "outputId": "187d451a-e5fa-42b6-bc60-3cf7512cb8b2",
        "colab": {
          "base_uri": "https://localhost:8080/",
          "height": 125
        }
      },
      "source": [
        "# Obtenção das linhas consideradas outliers \n",
        "linhas_outliers = df_result.index[(df_result['TP_PREV'] > 45) | (df_result['TP_PREV'] < 0) | (df_result['TP_TRSP'] < 0) | (df_result['TP_TRSP'] > 90)]\n",
        "linhas_outliers"
      ],
      "execution_count": null,
      "outputs": [
        {
          "output_type": "execute_result",
          "data": {
            "text/plain": [
              "Int64Index([   20,    99,   102,   201,   205,   309,   378,   449,   699,\n",
              "              711,\n",
              "            ...\n",
              "            98916, 98958, 99057, 99090, 99100, 99180, 99248, 99275, 99292,\n",
              "            99417],\n",
              "           dtype='int64', length=1426)"
            ]
          },
          "metadata": {
            "tags": []
          },
          "execution_count": 42
        }
      ]
    },
    {
      "cell_type": "code",
      "metadata": {
        "id": "QQb6AVns2Mzd",
        "outputId": "49a84fcc-58fa-454f-e1b5-0bb59321cc92",
        "colab": {
          "base_uri": "https://localhost:8080/",
          "height": 71
        }
      },
      "source": [
        "# Remoção das linhas com outliers.\n",
        "\n",
        "df_result = df_result.drop(index=linhas_outliers)\n",
        "print(df_result.shape)\n",
        "print('\\n percentual de linhas descartadas: ', (tot_lin_inic - df_result.shape[0])/tot_lin_inic)"
      ],
      "execution_count": null,
      "outputs": [
        {
          "output_type": "stream",
          "text": [
            "(96810, 13)\n",
            "\n",
            " percentual de linhas descartadas:  0.026457899659094338\n"
          ],
          "name": "stdout"
        }
      ]
    },
    {
      "cell_type": "markdown",
      "metadata": {
        "id": "1Bx3_LvGzrgh"
      },
      "source": [
        ""
      ]
    },
    {
      "cell_type": "markdown",
      "metadata": {
        "id": "nSFvX3T4zsgk"
      },
      "source": [
        "### Resposta às pergutas objetivas:\n",
        "\n",
        "D) A remoção de possíveis disorções (outliers) causariam impacto significativo na análise?\n",
        "\n",
        "R: Não."
      ]
    },
    {
      "cell_type": "markdown",
      "metadata": {
        "id": "NQXPxK0OiuEA"
      },
      "source": [
        "## Análise das operações logisticas após a eliminação dos outliers"
      ]
    },
    {
      "cell_type": "code",
      "metadata": {
        "id": "4l3UzPNIkatc",
        "outputId": "695ac4f9-0467-4748-fd93-dcf9b4312d83",
        "colab": {
          "base_uri": "https://localhost:8080/",
          "height": 297
        }
      },
      "source": [
        "df_result.describe()"
      ],
      "execution_count": null,
      "outputs": [
        {
          "output_type": "execute_result",
          "data": {
            "text/html": [
              "<div>\n",
              "<style scoped>\n",
              "    .dataframe tbody tr th:only-of-type {\n",
              "        vertical-align: middle;\n",
              "    }\n",
              "\n",
              "    .dataframe tbody tr th {\n",
              "        vertical-align: top;\n",
              "    }\n",
              "\n",
              "    .dataframe thead th {\n",
              "        text-align: right;\n",
              "    }\n",
              "</style>\n",
              "<table border=\"1\" class=\"dataframe\">\n",
              "  <thead>\n",
              "    <tr style=\"text-align: right;\">\n",
              "      <th></th>\n",
              "      <th>CL_CEP</th>\n",
              "      <th>TP_PREV</th>\n",
              "      <th>TP_TRSP</th>\n",
              "    </tr>\n",
              "  </thead>\n",
              "  <tbody>\n",
              "    <tr>\n",
              "      <th>count</th>\n",
              "      <td>96810.00000</td>\n",
              "      <td>95029.00000</td>\n",
              "      <td>95029.00000</td>\n",
              "    </tr>\n",
              "    <tr>\n",
              "      <th>mean</th>\n",
              "      <td>35086.03688</td>\n",
              "      <td>19.98576</td>\n",
              "      <td>8.77091</td>\n",
              "    </tr>\n",
              "    <tr>\n",
              "      <th>std</th>\n",
              "      <td>29835.65057</td>\n",
              "      <td>7.95839</td>\n",
              "      <td>7.97858</td>\n",
              "    </tr>\n",
              "    <tr>\n",
              "      <th>min</th>\n",
              "      <td>1003.00000</td>\n",
              "      <td>0.00000</td>\n",
              "      <td>0.00000</td>\n",
              "    </tr>\n",
              "    <tr>\n",
              "      <th>25%</th>\n",
              "      <td>11310.00000</td>\n",
              "      <td>14.00000</td>\n",
              "      <td>4.00000</td>\n",
              "    </tr>\n",
              "    <tr>\n",
              "      <th>50%</th>\n",
              "      <td>24360.00000</td>\n",
              "      <td>20.00000</td>\n",
              "      <td>7.00000</td>\n",
              "    </tr>\n",
              "    <tr>\n",
              "      <th>75%</th>\n",
              "      <td>58430.00000</td>\n",
              "      <td>25.00000</td>\n",
              "      <td>12.00000</td>\n",
              "    </tr>\n",
              "    <tr>\n",
              "      <th>max</th>\n",
              "      <td>99980.00000</td>\n",
              "      <td>45.00000</td>\n",
              "      <td>89.00000</td>\n",
              "    </tr>\n",
              "  </tbody>\n",
              "</table>\n",
              "</div>"
            ],
            "text/plain": [
              "           CL_CEP     TP_PREV     TP_TRSP\n",
              "count 96810.00000 95029.00000 95029.00000\n",
              "mean  35086.03688    19.98576     8.77091\n",
              "std   29835.65057     7.95839     7.97858\n",
              "min    1003.00000     0.00000     0.00000\n",
              "25%   11310.00000    14.00000     4.00000\n",
              "50%   24360.00000    20.00000     7.00000\n",
              "75%   58430.00000    25.00000    12.00000\n",
              "max   99980.00000    45.00000    89.00000"
            ]
          },
          "metadata": {
            "tags": []
          },
          "execution_count": 44
        }
      ]
    },
    {
      "cell_type": "code",
      "metadata": {
        "id": "Osdg4_gykbTt",
        "outputId": "d2a68426-1bce-4c26-f35b-e2d69076e76a",
        "colab": {
          "base_uri": "https://localhost:8080/",
          "height": 370
        }
      },
      "source": [
        "sns.boxplot(x=df_result.TP_PREV, orient='vertical', color='violet' )\n",
        "sns.boxplot(x=df_result.TP_TRSP, orient='vertical', color='yellow')"
      ],
      "execution_count": null,
      "outputs": [
        {
          "output_type": "stream",
          "text": [
            "/usr/local/lib/python3.6/dist-packages/seaborn/_core.py:1303: UserWarning: Vertical orientation ignored with only `x` specified.\n",
            "  warnings.warn(single_var_warning.format(\"Vertical\", \"x\"))\n",
            "/usr/local/lib/python3.6/dist-packages/seaborn/_core.py:1303: UserWarning: Vertical orientation ignored with only `x` specified.\n",
            "  warnings.warn(single_var_warning.format(\"Vertical\", \"x\"))\n"
          ],
          "name": "stderr"
        },
        {
          "output_type": "execute_result",
          "data": {
            "text/plain": [
              "<matplotlib.axes._subplots.AxesSubplot at 0x7fa50bc4b668>"
            ]
          },
          "metadata": {
            "tags": []
          },
          "execution_count": 45
        },
        {
          "output_type": "display_data",
          "data": {
            "image/png": "[encoded data removed]",
            "text/plain": [
              "<Figure size 432x288 with 1 Axes>"
            ]
          },
          "metadata": {
            "tags": [],
            "needs_background": "light"
          }
        }
      ]
    },
    {
      "cell_type": "code",
      "metadata": {
        "id": "7ghpDumOkvao",
        "outputId": "7750dafc-7067-4f19-8432-1a76ecc91cae",
        "colab": {
          "base_uri": "https://localhost:8080/",
          "height": 370
        }
      },
      "source": [
        "sns.violinplot(x=df_result.TP_PREV, orient='vertical', color='violet' )\n",
        "sns.violinplot(x=df_result.TP_TRSP, orient='vertical', color='yellow')"
      ],
      "execution_count": null,
      "outputs": [
        {
          "output_type": "stream",
          "text": [
            "/usr/local/lib/python3.6/dist-packages/seaborn/_core.py:1303: UserWarning: Vertical orientation ignored with only `x` specified.\n",
            "  warnings.warn(single_var_warning.format(\"Vertical\", \"x\"))\n",
            "/usr/local/lib/python3.6/dist-packages/seaborn/_core.py:1303: UserWarning: Vertical orientation ignored with only `x` specified.\n",
            "  warnings.warn(single_var_warning.format(\"Vertical\", \"x\"))\n"
          ],
          "name": "stderr"
        },
        {
          "output_type": "execute_result",
          "data": {
            "text/plain": [
              "<matplotlib.axes._subplots.AxesSubplot at 0x7fa50b4d48d0>"
            ]
          },
          "metadata": {
            "tags": []
          },
          "execution_count": 46
        },
        {
          "output_type": "display_data",
          "data": {
            "image/png": "[encoded data removed]",
            "text/plain": [
              "<Figure size 432x288 with 1 Axes>"
            ]
          },
          "metadata": {
            "tags": [],
            "needs_background": "light"
          }
        }
      ]
    },
    {
      "cell_type": "code",
      "metadata": {
        "id": "blRb9Az1oEvU",
        "outputId": "628092c3-8686-4db2-f12f-969dd0550ac3",
        "colab": {
          "base_uri": "https://localhost:8080/",
          "height": 1000
        }
      },
      "source": [
        "df_result.plot(x='DT_COMPRA', y='DT_ENTREGA',kind='scatter', color='blue')\n",
        "df_result.plot(x='DT_ENVIO', y='DT_ENTREGA',kind='scatter', color='orange')\n",
        "df_result.plot(x='DT_ENVIO', y='DT_PREVISTA',kind='scatter', color='green')\n",
        "df_result.plot(x='DT_PREVISTA', y='DT_ENTREGA',kind='scatter', color='red')"
      ],
      "execution_count": null,
      "outputs": [
        {
          "output_type": "execute_result",
          "data": {
            "text/plain": [
              "<matplotlib.axes._subplots.AxesSubplot at 0x7fa50b8a2b00>"
            ]
          },
          "metadata": {
            "tags": []
          },
          "execution_count": 47
        },
        {
          "output_type": "display_data",
          "data": {
            "image/png": "[encoded data removed]",
            "text/plain": [
              "<Figure size 432x288 with 1 Axes>"
            ]
          },
          "metadata": {
            "tags": [],
            "needs_background": "light"
          }
        },
        {
          "output_type": "display_data",
          "data": {
            "image/png": "[encoded data removed]",
            "text/plain": [
              "<Figure size 432x288 with 1 Axes>"
            ]
          },
          "metadata": {
            "tags": [],
            "needs_background": "light"
          }
        },
        {
          "output_type": "display_data",
          "data": {
            "image/png": "[encoded data removed]",
            "text/plain": [
              "<Figure size 432x288 with 1 Axes>"
            ]
          },
          "metadata": {
            "tags": [],
            "needs_background": "light"
          }
        },
        {
          "output_type": "display_data",
          "data": {
            "image/png": "[encoded data removed]",
            "text/plain": [
              "<Figure size 432x288 with 1 Axes>"
            ]
          },
          "metadata": {
            "tags": [],
            "needs_background": "light"
          }
        }
      ]
    },
    {
      "cell_type": "code",
      "metadata": {
        "id": "VLVsl1itF_Qb",
        "outputId": "20f89dcc-8436-4e7d-c644-8f8ba745767a",
        "colab": {
          "base_uri": "https://localhost:8080/",
          "height": 269
        }
      },
      "source": [
        "df_result.count()"
      ],
      "execution_count": null,
      "outputs": [
        {
          "output_type": "execute_result",
          "data": {
            "text/plain": [
              "ID_PEDIDO      96810\n",
              "ID_CLIENTE     96810\n",
              "STATUS         96810\n",
              "DT_COMPRA      96810\n",
              "DT_APROV       96810\n",
              "DT_ENVIO       96664\n",
              "DT_ENTREGA     95029\n",
              "DT_PREVISTA    95029\n",
              "CL_CEP         96810\n",
              "CL_CIDADE      96810\n",
              "CL_UF          96810\n",
              "TP_PREV        95029\n",
              "TP_TRSP        95029\n",
              "dtype: int64"
            ]
          },
          "metadata": {
            "tags": []
          },
          "execution_count": 48
        }
      ]
    },
    {
      "cell_type": "markdown",
      "metadata": {
        "id": "wLsuLPHCl_We"
      },
      "source": [
        "## Conclusão:\n",
        "\n",
        "A análise revela que de forma geral as operações logísticas da Olist estão funcionando bem, mas alguns ajustes no podem tornar a previsão de entrega mais precisa em relação à realidade.  \n"
      ]
    },
    {
      "cell_type": "markdown",
      "metadata": {
        "id": "2IdbL1drAoXo"
      },
      "source": [
        "# Análises a partir de outras abordagens"
      ]
    },
    {
      "cell_type": "markdown",
      "metadata": {
        "id": "s69gCBrmm9AQ"
      },
      "source": [
        "### Análise por status do pedido"
      ]
    },
    {
      "cell_type": "code",
      "metadata": {
        "id": "4chp14fviQQv",
        "outputId": "2b9940a2-fd47-4f9d-ba8b-1662c34b57fa",
        "colab": {
          "base_uri": "https://localhost:8080/",
          "height": 161
        }
      },
      "source": [
        "df_status = df_result['STATUS'].value_counts()\n",
        "df_status"
      ],
      "execution_count": null,
      "outputs": [
        {
          "output_type": "execute_result",
          "data": {
            "text/plain": [
              "delivered      95029\n",
              "unavailable      609\n",
              "canceled         550\n",
              "invoiced         314\n",
              "processing       301\n",
              "created            5\n",
              "approved           2\n",
              "Name: STATUS, dtype: int64"
            ]
          },
          "metadata": {
            "tags": []
          },
          "execution_count": 49
        }
      ]
    },
    {
      "cell_type": "code",
      "metadata": {
        "id": "mldLm6G1maAI",
        "outputId": "d83385d0-dd4b-4897-f91d-c51253e7dbe3",
        "colab": {
          "base_uri": "https://localhost:8080/",
          "height": 89
        }
      },
      "source": [
        "print(df_status.index)\n",
        "print(df_status.values)"
      ],
      "execution_count": null,
      "outputs": [
        {
          "output_type": "stream",
          "text": [
            "Index(['delivered', 'unavailable', 'canceled', 'invoiced', 'processing',\n",
            "       'created', 'approved'],\n",
            "      dtype='object')\n",
            "[95029   609   550   314   301     5     2]\n"
          ],
          "name": "stdout"
        }
      ]
    },
    {
      "cell_type": "code",
      "metadata": {
        "id": "2XhlCKeamxRF",
        "outputId": "f84f43d0-3089-417e-cb80-7a471f7f2b6b",
        "colab": {
          "base_uri": "https://localhost:8080/",
          "height": 368
        }
      },
      "source": [
        "#Status dos Pedidos X Quantidade de Pedidos\n",
        "\n",
        "plt.figure(figsize=(10, 5))\n",
        "x_axis = df_status.index\n",
        "y_axis = df_status.values\n",
        "plt.bar(x_axis, y_axis, color='yellow', align='center')\n",
        "\n",
        "plt.title('Status dos Pedidos')\n",
        "plt.ylabel('qtde. pedidos')\n",
        "plt.xlabel('status')\n",
        "plt.legend(loc='upper right')\n",
        "\n",
        "plt.show()"
      ],
      "execution_count": null,
      "outputs": [
        {
          "output_type": "stream",
          "text": [
            "No handles with labels found to put in legend.\n"
          ],
          "name": "stderr"
        },
        {
          "output_type": "display_data",
          "data": {
            "image/png": "[encoded data removed]",
            "text/plain": [
              "<Figure size 720x360 with 1 Axes>"
            ]
          },
          "metadata": {
            "tags": [],
            "needs_background": "light"
          }
        }
      ]
    },
    {
      "cell_type": "markdown",
      "metadata": {
        "id": "1DPw7ysomx_j"
      },
      "source": [
        "### Análise por estados ###"
      ]
    },
    {
      "cell_type": "code",
      "metadata": {
        "id": "BdWwWKp-ss8V",
        "outputId": "f25900a2-8bd1-495a-da64-e630f5cfc170",
        "colab": {
          "base_uri": "https://localhost:8080/",
          "height": 521
        }
      },
      "source": [
        "df_states = df_result['CL_UF'].value_counts()\n",
        "df_states"
      ],
      "execution_count": null,
      "outputs": [
        {
          "output_type": "execute_result",
          "data": {
            "text/plain": [
              "SP    40893\n",
              "RJ    12287\n",
              "MG    11461\n",
              "RS     5355\n",
              "PR     4964\n",
              "SC     3575\n",
              "BA     3261\n",
              "DF     2095\n",
              "ES     1997\n",
              "GO     1964\n",
              "PE     1584\n",
              "CE     1269\n",
              "PA      898\n",
              "MT      872\n",
              "MA      710\n",
              "MS      710\n",
              "PB      511\n",
              "PI      474\n",
              "RN      465\n",
              "AL      395\n",
              "SE      334\n",
              "TO      272\n",
              "RO      237\n",
              "AM       90\n",
              "AC       68\n",
              "AP       42\n",
              "RR       27\n",
              "Name: CL_UF, dtype: int64"
            ]
          },
          "metadata": {
            "tags": []
          },
          "execution_count": 52
        }
      ]
    },
    {
      "cell_type": "code",
      "metadata": {
        "id": "ZIGT4wLRoz_q",
        "outputId": "f49f3c79-8da8-4796-b472-1e52f7e6a3d7",
        "colab": {
          "base_uri": "https://localhost:8080/",
          "height": 143
        }
      },
      "source": [
        "print(df_states.index)\n",
        "print(df_states.values)"
      ],
      "execution_count": null,
      "outputs": [
        {
          "output_type": "stream",
          "text": [
            "Index(['SP', 'RJ', 'MG', 'RS', 'PR', 'SC', 'BA', 'DF', 'ES', 'GO', 'PE', 'CE',\n",
            "       'PA', 'MT', 'MA', 'MS', 'PB', 'PI', 'RN', 'AL', 'SE', 'TO', 'RO', 'AM',\n",
            "       'AC', 'AP', 'RR'],\n",
            "      dtype='object')\n",
            "[40893 12287 11461  5355  4964  3575  3261  2095  1997  1964  1584  1269\n",
            "   898   872   710   710   511   474   465   395   334   272   237    90\n",
            "    68    42    27]\n"
          ],
          "name": "stdout"
        }
      ]
    },
    {
      "cell_type": "code",
      "metadata": {
        "id": "rQzdX9dMpAQt",
        "outputId": "d761b4bf-569c-43d3-aceb-cdccb35ac2da",
        "colab": {
          "base_uri": "https://localhost:8080/",
          "height": 368
        }
      },
      "source": [
        "#Exibição dos pedidos por estados em gráfico de barras.\n",
        "\n",
        "plt.figure(figsize=(10, 5))\n",
        "x_axis = df_states.index\n",
        "y_axis = df_states.values\n",
        "plt.bar(x_axis, y_axis, color='yellow')\n",
        "\n",
        "plt.title('Pedidos por Estados')\n",
        "plt.ylabel('qtde. pedidos')\n",
        "plt.xlabel('estados')\n",
        "plt.legend(loc='upper right')\n",
        "\n",
        "plt.show()"
      ],
      "execution_count": null,
      "outputs": [
        {
          "output_type": "stream",
          "text": [
            "No handles with labels found to put in legend.\n"
          ],
          "name": "stderr"
        },
        {
          "output_type": "display_data",
          "data": {
            "image/png": "[encoded data removed]",
            "text/plain": [
              "<Figure size 720x360 with 1 Axes>"
            ]
          },
          "metadata": {
            "tags": [],
            "needs_background": "light"
          }
        }
      ]
    },
    {
      "cell_type": "markdown",
      "metadata": {
        "id": "AHAUCaLKBEL9"
      },
      "source": [
        "### Verificando a existencia de correlações"
      ]
    },
    {
      "cell_type": "code",
      "metadata": {
        "id": "HNXNhAKGAeG6",
        "outputId": "15d54b78-3883-4245-8e0e-ee9d247a62e4",
        "colab": {
          "base_uri": "https://localhost:8080/",
          "height": 310
        }
      },
      "source": [
        "# Aplicação da Matriz Confusão:\n",
        "\n",
        "%matplotlib inline\n",
        "\n",
        "\n",
        "plt.figure(figsize= (3,3), dpi=100)  # Configura as dimensões do gráfico a ser exibido.\n",
        "sbn.heatmap(df_result.corr())               # Aplica a função \"heatmap\" a qual exibe todas as correlações exitente entre os dados do dataframe.\n",
        "\n",
        "#plt.savefig('/content/drive/My Drive/Dados_DS/Dados Olist/Result_C.png') # Salva uma imagem (PNG) do gráfico gerado no drive do Google."
      ],
      "execution_count": null,
      "outputs": [
        {
          "output_type": "execute_result",
          "data": {
            "text/plain": [
              "<matplotlib.axes._subplots.AxesSubplot at 0x7fa50c97f390>"
            ]
          },
          "metadata": {
            "tags": []
          },
          "execution_count": 55
        },
        {
          "output_type": "display_data",
          "data": {
            "image/png": "[encoded data removed]",
            "text/plain": [
              "<Figure size 300x300 with 2 Axes>"
            ]
          },
          "metadata": {
            "tags": [],
            "needs_background": "light"
          }
        }
      ]
    },
    {
      "cell_type": "markdown",
      "metadata": {
        "id": "Qmcox4EL6Pfa"
      },
      "source": [
        "# Conclusão:\n",
        "\n",
        "Obs: Segundo a Wikipedia, em 1992 o Brasil foi dividido em dez zonas postais, de 0 a 9, contadas a partir do estado de São Paulo, no sentido anti-horário. A partir dessa devisão os número de CEPs foram distribuídos e estruturados de forma a identificar cada uma das localizações no país.\n",
        "\n",
        "\n",
        "### A Matriz Confusão exibida acima sugere a existência de uma forte correlação inversamente proporcional entre os locais de entrega e o tempo necessário para que a entrega seja realizada. Quanto ao tempo previsto, este acompanha a tendência observada no levantamento do tempo real de entrega e, embora ligeiramente impreciso, apresenta um alto grau de acerto não requerendo maiores ajustes."
      ]
    },
    {
      "cell_type": "markdown",
      "metadata": {
        "id": "o5tUJkE4UJVo"
      },
      "source": [
        "====================================================== FIM ========================================================"
      ]
    }
  ]
}